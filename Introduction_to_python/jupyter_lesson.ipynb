{
    "cells": [
        {
            "id": "cj9nwyyj4mjnqfibu51hd",
            "cell_type": "markdown",
            "source": [
                "# Your Vocareum Notebook Assignment "
            ],
            "metadata": {
                "vocVersion": 1.1,
                "cellIdentifier": "cj9nwyyj4mjnqfibu51hd",
                "nbgrader": {
                    "grade": false,
                    "locked": false,
                    "solution": false
                }
            },
            "execution_count": 0,
            "outputs": []
        },
        {
            "id": "kdqux1rmeprd49yrxuzmm",
            "cell_type": "markdown",
            "source": [
                "![University of Texas Health Science Center Logo](imgs/UTHSCSA_logo.png)\n",
                "\n",
                "# Intro to Python: Data Types, List Comprehensions and Functions\n",
                "\n",
                "**Author:** Dr. Ramiro Ramirez, PhD  \n",
                "**Week:** 1  \n",
                "**Lesson:** 1  \n",
                "\n",
                "---\n",
                "\n",
                "## **Learning Objectives**\n",
                "*After this lesson, you will be able to:*\n",
                "- Use basic Jupyter Notebook features.\n",
                "- Define various Python data types: integers, strings, tuples, lists, and dictionaries.\n",
                "- Demonstrate arithmetic operations and string operations.\n",
                "\n",
                "---\n",
                "\n",
                "## **Student Pre-Work**\n",
                "*Before this lesson, you should already be able to:*\n",
                "- Describe or define Python data types"
            ],
            "metadata": {
                "vocVersion": 1.1,
                "cellIdentifier": "kdqux1rmeprd49yrxuzmm",
                "nbgrader": {
                    "grade": false,
                    "locked": false,
                    "solution": false
                }
            },
            "execution_count": 1,
            "outputs": []
        },
        {
            "id": "g5swf1tzupgwksjgo8xyxj",
            "cell_type": "markdown",
            "source": [
                "## First and Foremost: Python is a Calculator\n",
                "_(...just like every other programming language)_\n",
                "\n",
                "Let's learn some common mathematical operations:"
            ],
            "metadata": {
                "vocVersion": "1.1",
                "cellIdentifier": "g5swf1tzupgwksjgo8xyxj",
                "nbgrader": {
                    "grade": false,
                    "locked": false,
                    "solution": false
                }
            },
            "execution_count": 0,
            "outputs": [],
            "attachments": {}
        },
        {
            "id": "l67c45566iz2xygj7apa",
            "cell_type": "code",
            "source": [
                "# Addition\n",
                "2+3"
            ],
            "metadata": {
                "vocVersion": "1.1",
                "cellIdentifier": "l67c45566iz2xygj7apa",
                "nbgrader": {
                    "grade": false,
                    "locked": false,
                    "solution": false
                }
            },
            "execution_count": 1,
            "outputs": [
                {
                    "output_type": "execute_result",
                    "metadata": {},
                    "execution_count": 1,
                    "data": {
                        "text/plain": [
                            "5"
                        ]
                    }
                }
            ],
            "attachments": {}
        },
        {
            "id": "ikq1dt3rux2z0tz6hf0w6",
            "cell_type": "code",
            "source": [
                "# Subtraction (note we can have negative numbers!)"
            ],
            "metadata": {
                "vocVersion": "1.1",
                "cellIdentifier": "ikq1dt3rux2z0tz6hf0w6",
                "nbgrader": {
                    "grade": false,
                    "locked": false,
                    "solution": false
                }
            },
            "execution_count": 2,
            "outputs": [],
            "attachments": {}
        },
        {
            "id": "m3z3cyyomgazonflyu6b7n",
            "cell_type": "code",
            "source": [
                "# Multiplication"
            ],
            "metadata": {
                "vocVersion": "1.1",
                "cellIdentifier": "m3z3cyyomgazonflyu6b7n",
                "nbgrader": {
                    "grade": false,
                    "locked": false,
                    "solution": false
                }
            },
            "execution_count": 14,
            "outputs": [],
            "attachments": {}
        },
        {
            "id": "4f5oi96kjxdbhikf5xdyck",
            "cell_type": "code",
            "source": [
                "# Division"
            ],
            "metadata": {
                "vocVersion": "1.1",
                "cellIdentifier": "4f5oi96kjxdbhikf5xdyck",
                "nbgrader": {
                    "grade": false,
                    "locked": false,
                    "solution": false
                }
            },
            "execution_count": 16,
            "outputs": [],
            "attachments": {}
        },
        {
            "id": "d5oenni7zdp7q2e49fapcf",
            "cell_type": "code",
            "source": [
                "# Exponentiation (do NOT use ^)"
            ],
            "metadata": {
                "vocVersion": "1.1",
                "cellIdentifier": "d5oenni7zdp7q2e49fapcf",
                "nbgrader": {
                    "grade": false,
                    "locked": false,
                    "solution": false
                }
            },
            "execution_count": 18,
            "outputs": [],
            "attachments": {}
        },
        {
            "id": "kb15imcm3eac3bajzg927i",
            "cell_type": "code",
            "source": [
                "# Modular division (\"mod\" for short)"
            ],
            "metadata": {
                "vocVersion": "1.1",
                "cellIdentifier": "kb15imcm3eac3bajzg927i",
                "nbgrader": {
                    "grade": false,
                    "locked": false,
                    "solution": false
                }
            },
            "execution_count": 19,
            "outputs": [],
            "attachments": {}
        },
        {
            "id": "7rzy35p4uovp2rhm0i0j6",
            "cell_type": "code",
            "source": [
                "# Floor division (ie \"round down\" division)"
            ],
            "metadata": {
                "vocVersion": "1.1",
                "cellIdentifier": "7rzy35p4uovp2rhm0i0j6",
                "nbgrader": {
                    "grade": false,
                    "locked": false,
                    "solution": false
                }
            },
            "execution_count": 24,
            "outputs": [],
            "attachments": {}
        },
        {
            "id": "7bzy0x1cf1he78i84sc5wl",
            "cell_type": "markdown",
            "source": [
                "### What is `5 + 2 * 3`?"
            ],
            "metadata": {
                "vocVersion": "1.1",
                "cellIdentifier": "7bzy0x1cf1he78i84sc5wl",
                "nbgrader": {
                    "grade": false,
                    "locked": false,
                    "solution": false
                }
            },
            "execution_count": 0,
            "outputs": [],
            "attachments": {}
        },
        {
            "id": "rx7ey5338afjl7qlxgrg",
            "cell_type": "code",
            "source": [],
            "metadata": {
                "vocVersion": "1.1",
                "cellIdentifier": "rx7ey5338afjl7qlxgrg",
                "nbgrader": {
                    "grade": false,
                    "locked": false,
                    "solution": false
                }
            },
            "execution_count": 24,
            "outputs": [],
            "attachments": {}
        },
        {
            "id": "oajiq0t6e1l5atuj0z0yaw",
            "cell_type": "markdown",
            "source": [
                "### What is `(5 + 2) * 3`?"
            ],
            "metadata": {
                "vocVersion": "1.1",
                "cellIdentifier": "oajiq0t6e1l5atuj0z0yaw",
                "nbgrader": {
                    "grade": false,
                    "locked": false,
                    "solution": false
                }
            },
            "execution_count": 9,
            "outputs": [],
            "attachments": {}
        },
        {
            "id": "cg4x91ndry5w2t0veswgj",
            "cell_type": "code",
            "source": [],
            "metadata": {
                "vocVersion": "1.1",
                "cellIdentifier": "cg4x91ndry5w2t0veswgj",
                "nbgrader": {
                    "grade": false,
                    "locked": false,
                    "solution": false
                }
            },
            "execution_count": 24,
            "outputs": [],
            "attachments": {}
        },
        {
            "id": "dws1ntv412g3c3270oyqd8",
            "cell_type": "markdown",
            "source": [
                "## Variables and Data Types\n",
                "\n",
                "Think of Python as more than just an advanced calculator. It allows us to store values using **variables**. This capability enables us to easily reference these values later on, eliminating the need to remember them.\n",
                "\n",
                "In Python, variables can hold various data types. Here are some of the fundamental ones:\n",
                "\n",
                "- **Integers (`int`)**: Whole numbers, e.g., `-3`, `0`, `42`.\n",
                "  \n",
                "- **Floating Point Numbers (`float`)**: Numbers with a decimal point, e.g., `-3.14`, `0.0`, `42.5`.\n",
                "  \n",
                "- **Strings (`str`)**: Sequences of characters, e.g., `\"Hello, World!\"`, `'Python'`.\n",
                "  \n",
                "- **Booleans (`bool`)**: Logical values indicating `True` or `False`.\n",
                "  \n",
                "- **Lists**: Ordered collections of items (which can be of any type), e.g., `[1, 2, 3]` or `[\"apple\", \"banana\", \"cherry\"]`.\n",
                "  \n",
                "- **Tuples**: Ordered, immutable collections of items, e.g., `(1, 2, 3)` or `(\"apple\", \"banana\", \"cherry\")`.\n",
                "  \n",
                "- **Dictionaries (`dict`)**: Unordered collections of key-value pairs, e.g., `{\"name\": \"John\", \"age\": 30}`.\n",
                "\n",
                "- **Sets**: Unordered collections of unique items, e.g., `{1, 2, 3}` or `{\"apple\", \"banana\", \"cherry\"}`.\n",
                "\n",
                "Each of these data types serves a specific purpose and has distinct characteristics, allowing you to choose the most suitable type for your needs.\n",
                ""
            ],
            "metadata": {
                "vocVersion": "1.1",
                "cellIdentifier": "dws1ntv412g3c3270oyqd8",
                "nbgrader": {
                    "grade": false,
                    "locked": false,
                    "solution": false
                }
            },
            "execution_count": 0,
            "outputs": [],
            "attachments": {}
        },
        {
            "id": "is3up4gkgr0s692y76ztth",
            "cell_type": "markdown",
            "source": [
                "Create a variable with any number you want!\n",
                ""
            ],
            "metadata": {
                "vocVersion": "1.1",
                "cellIdentifier": "is3up4gkgr0s692y76ztth",
                "nbgrader": {
                    "grade": false,
                    "locked": false,
                    "solution": false
                }
            },
            "execution_count": 0,
            "outputs": [],
            "attachments": {}
        },
        {
            "id": "os7f0phykvqs3tjddpmjq",
            "cell_type": "code",
            "source": [],
            "metadata": {
                "vocVersion": "1.1",
                "cellIdentifier": "os7f0phykvqs3tjddpmjq",
                "nbgrader": {
                    "grade": false,
                    "locked": false,
                    "solution": false
                }
            },
            "execution_count": 0,
            "outputs": [],
            "attachments": {}
        },
        {
            "id": "xxhigisemp6i7of2ktx2e",
            "cell_type": "markdown",
            "source": [
                "## Naming Variables in Python\n",
                "\n",
                "As Phil Karlton once said:\n",
                "> _\"There are only two hard things in Computer Science: cache invalidation and naming things.\"_\n",
                "\n",
                "While Python provides flexibility in naming variables, adhering to certain conventions and rules ensures clarity, avoids errors, and facilitates collaboration.\n",
                "\n",
                "### Mandatory Naming Rules\n",
                "1. Variable names must only contain letters, numbers, and underscores.\n",
                "2. Names cannot start with numbers.\n",
                "3. Reserved Python keywords (e.g., `if`, `else`, `while`) cannot be used as variable names.\n",
                "\n",
                "### Recommended Naming Conventions\n",
                "1. Always use descriptive names. Avoid vague terms like `x` or `df`.\n",
                "2. Stick to lowercase; avoid capital letters.\n",
                "3. Variables shouldn't start with an underscore (it has a special meaning in Python).\n",
                "4. For multi-word variables, use `snake_case`: all lowercase words separated by underscores.\n",
                "5. While it's possible to name variables after built-in Python functions (e.g., `print`), it's highly discouraged.\n",
                "    - **Pro Tip**: If a variable name turns color (like green in many editors), reconsider using it.\n",
                "\n",
                "### A Quick Math Detour:\n",
                "Remember the quadratic formula used to solve polynomial equations with coefficients \\(a\\), \\(b\\), and \\(c\\):\n",
                "\n",
                "$$ x = \\frac{-b \\pm \\sqrt{b^2 - 4ac}}{2a} $$\n",
                ""
            ],
            "metadata": {
                "vocVersion": "1.1",
                "cellIdentifier": "xxhigisemp6i7of2ktx2e",
                "nbgrader": {
                    "grade": false,
                    "locked": false,
                    "solution": false
                }
            },
            "execution_count": 0,
            "outputs": [],
            "attachments": {}
        },
        {
            "id": "u0n1cr0kt7grvum1dcf7jf",
            "cell_type": "markdown",
            "source": [
                "### Excersise: Solve the following quadratic equation using the quadratic equation:\n",
                "\n",
                "$x^2-8x+15 = 0$"
            ],
            "metadata": {
                "vocVersion": "1.1",
                "cellIdentifier": "u0n1cr0kt7grvum1dcf7jf",
                "nbgrader": {
                    "grade": false,
                    "locked": false,
                    "solution": false
                }
            },
            "execution_count": 0,
            "outputs": [],
            "attachments": {}
        },
        {
            "id": "giiowe14ra6oj8zd8zcpv8",
            "cell_type": "markdown",
            "source": [
                "## Understanding \"Data Types\" in Python\n",
                "\n",
                "At first glance, the term \"data\" might evoke images of spreadsheets and databases. However, at its core, **data simply means information**. In Python, variables that hold information, whether it's `x = 3` or a more complex structure, are considered data.\n",
                "\n",
                "In Python, this data is classified into various **types** based on its nature. Let's explore a couple we've already encountered:\n",
                "\n",
                "- **Integer (`int`)**: Represents whole numbers without a decimal component. Examples include `2`, `-30`, and `14`.\n",
                "  \n",
                "- **Floating Point (`float`)**: Represents numbers that have a decimal component. This includes numbers like `2.5`, `3.141`, and even `-3.0`.\n",
                "\n",
                "If you're ever uncertain about the data type of a particular object, Python provides a handy `type()` function:\n",
                "\n",
                "```python\n",
                "print(type(3))   # Output: <class 'int'>\n",
                "print(type(4.2)) # Output: <class 'float'>\n",
                "```"
            ],
            "metadata": {
                "vocVersion": "1.1",
                "cellIdentifier": "giiowe14ra6oj8zd8zcpv8",
                "nbgrader": {
                    "grade": false,
                    "locked": false,
                    "solution": false
                }
            },
            "execution_count": 0,
            "outputs": [],
            "attachments": {}
        },
        {
            "id": "pr156401tsvhg2z5qi4ci",
            "cell_type": "code",
            "source": [],
            "metadata": {
                "vocVersion": "1.1",
                "cellIdentifier": "pr156401tsvhg2z5qi4ci",
                "nbgrader": {
                    "grade": false,
                    "locked": false,
                    "solution": false
                }
            },
            "execution_count": 0,
            "outputs": [],
            "attachments": {}
        },
        {
            "id": "0z7l8jl7qc9a3l1wm7rz5wg",
            "cell_type": "markdown",
            "source": [
                "## Strings in Python\n",
                "\n",
                "Strings are Pythons way of representing and manipulating text data. Essentially, a string is a sequence of characters. In Python, you can define strings by enclosing them in either double quotes (\") or single quotes ('). The key is consistency: the opening and closing quotes must match.\n",
                "\n",
                "For example:\n",
                "- \"Hello, World!\"\n",
                "- 'Python is fun!'"
            ],
            "metadata": {
                "vocVersion": "1.1",
                "cellIdentifier": "0z7l8jl7qc9a3l1wm7rz5wg",
                "nbgrader": {
                    "grade": false,
                    "locked": false,
                    "solution": false
                }
            },
            "execution_count": 0,
            "outputs": [],
            "attachments": {}
        },
        {
            "id": "9nyxx0hxdkjfax1vhmqagc",
            "cell_type": "code",
            "source": [],
            "metadata": {
                "vocVersion": "1.1",
                "cellIdentifier": "9nyxx0hxdkjfax1vhmqagc",
                "nbgrader": {
                    "grade": false,
                    "locked": false,
                    "solution": false
                }
            },
            "execution_count": 0,
            "outputs": [],
            "attachments": {}
        },
        {
            "id": "waiiktpu6hho608mb84bl",
            "cell_type": "markdown",
            "source": [
                "# Multi-line String\n",
                "\n",
                "In Python, multi-line strings can be created using triple quotes, either ''' (triple single quotes) or \"\"\" (triple double quotes). Everything enclosed between the triple quotes becomes part of the string, including newline characters.\n",
                "\n",
                "\n",
                "~~~python\n",
                "multi_line_string = \"\"\"This is a multi-line\n",
                "string in Python. Each line break\n",
                "becomes part of the string.\"\"\"\n",
                "~~~\n",
                "\n",
                "# Escape Characters\n",
                "\n",
                "Escape characters in Python are used to represent characters that have special meanings, like newline (`\\n`) or tab (`\\t`). They are prefixed with a backslash `\\`.\n",
                "\n",
                "Some common escape characters include:\n",
                "\n",
                "- `\\n`: Newline\n",
                "- `\\t`: Tab\n",
                "- `\\\"`: Double quote (when you want to include a double quote inside a string wrapped with double quotes)\n",
                "- `\\'`: Single quote (when you want to include a single quote inside a string wrapped with single quotes)\n",
                "- `\\\\`: Backslash"
            ],
            "metadata": {
                "vocVersion": "1.1",
                "cellIdentifier": "waiiktpu6hho608mb84bl",
                "nbgrader": {
                    "grade": false,
                    "locked": false,
                    "solution": false
                }
            },
            "execution_count": 0,
            "outputs": [],
            "attachments": {}
        },
        {
            "id": "v3io2ipsr1fogd42l0a3g",
            "cell_type": "code",
            "source": [],
            "metadata": {
                "vocVersion": "1.1",
                "cellIdentifier": "v3io2ipsr1fogd42l0a3g",
                "nbgrader": {
                    "grade": false,
                    "locked": false,
                    "solution": false
                }
            },
            "execution_count": 0,
            "outputs": [],
            "attachments": {}
        },
        {
            "id": "9vk25cx75d1l31s0wzx6u",
            "cell_type": "markdown",
            "source": [
                "## Playing with Strings in Python!\n",
                "\n",
                "Strings aren't just about storing text. We have operations we can perform on them. In Python, every element belongs to a specific **data type**, and each of these types comes packed with its own set of **methods**. Think of methods as the unique abilities or actions that a particular data type can perform.\n",
                "\n",
                "To use a method, follow this neat syntax:\n",
                "\n",
                "```python\n",
                "variable.method(arguments)\n",
                "```"
            ],
            "metadata": {
                "vocVersion": "1.1",
                "cellIdentifier": "9vk25cx75d1l31s0wzx6u",
                "nbgrader": {
                    "grade": false,
                    "locked": false,
                    "solution": false
                }
            },
            "execution_count": 0,
            "outputs": [],
            "attachments": {}
        },
        {
            "id": "qqswl6fw7jqjgm0zoa4rq8",
            "cell_type": "markdown",
            "source": [
                "## String Operations in Python\n",
                "\n",
                "Strings in Python are versatile, and there's a lot we can do with them. Below are some common string operations:\n",
                "\n",
                "### 1. Concatenation\n",
                "Combining two or more strings.\n",
                "\n",
                "```python\n",
                "string1 = \"Hello\"\n",
                "string2 = \"World\"\n",
                "combined = string1 + \" \" + string2\n",
                "print(combined)  # Outputs: Hello World\n",
                "```\n",
                "\n",
                "### 2. Repetition\n",
                "Repeating a string multiple times.\n",
                "\n",
                "```python\n",
                "echo = \"Echo \" * 3\n",
                "print(echo)  # Outputs: Echo Echo Echo \n",
                "```\n",
                "\n",
                "### 3. Indexing\n",
                "Accessing a particular character in a string.\n",
                "\n",
                "```python\n",
                "word = \"Python\"\n",
                "print(word[0])  # Outputs: P\n",
                "```\n",
                "\n",
                "### 4. Slicing\n",
                "Extracting a portion of the string.\n",
                "\n",
                "```python\n",
                "text = \"programming\"\n",
                "slice = text[1:4]\n",
                "print(slice)  # Outputs: rog\n",
                "```\n",
                "\n",
                "### 5. Finding Substrings\n",
                "Locating a substring within a string.\n",
                "\n",
                "```python\n",
                "sentence = \"The quick brown fox\"\n",
                "position = sentence.find(\"brown\")\n",
                "print(position)  # Outputs: 10\n",
                "```\n",
                "\n",
                "### 6. Replacing Substrings\n",
                "Replacing parts of the string with another.\n",
                "\n",
                "```python\n",
                "greeting = \"Good morning!\"\n",
                "new_greeting = greeting.replace(\"morning\", \"afternoon\")\n",
                "print(new_greeting)  # Outputs: Good afternoon!\n",
                "```\n",
                "\n",
                "### 7. String Length\n",
                "Getting the number of characters in a string.\n",
                "\n",
                "```python\n",
                "name = \"Charlie\"\n",
                "length = len(name)\n",
                "print(length)  # Outputs: 8\n",
                "```\n",
                "\n",
                "### 8. Converting to Upper and Lower Case\n",
                "\n",
                "```python\n",
                "text = \"Case\"\n",
                "upper_text = text.upper()\n",
                "lower_text = text.lower()\n",
                "print(upper_text)  # Outputs: CASE\n",
                "print(lower_text)  # Outputs: case\n",
                "```\n",
                "\n",
                "### 9. Stripping Whitespaces\n",
                "Removing leading and trailing whitespaces.\n",
                "\n",
                "```python\n",
                "phrase = \"   extra spaces   \"\n",
                "cleaned = phrase.strip()\n",
                "print(cleaned)  # Outputs: extra spaces\n",
                "```\n",
                "\n",
                "Remember, these are just a few of the many string operations available in Python. The `str` class in Python's standard library offers a comprehensive set of methods to manipulate and analyze strings.\n",
                "\n",
                "### Exercise: Given the following strings (you may choose your own as well), perform 5 out of the operations above"
            ],
            "metadata": {
                "vocVersion": "1.1",
                "cellIdentifier": "qqswl6fw7jqjgm0zoa4rq8",
                "nbgrader": {
                    "grade": false,
                    "locked": false,
                    "solution": false
                }
            },
            "execution_count": 0,
            "outputs": [],
            "attachments": {}
        },
        {
            "id": "ws2mvlkxc7mau8aaiizo8g",
            "cell_type": "code",
            "source": [
                "string_1 = \"Be quiet\"\n",
                "string_2 = \"this is a library!\""
            ],
            "metadata": {
                "vocVersion": "1.1",
                "cellIdentifier": "ws2mvlkxc7mau8aaiizo8g",
                "nbgrader": {
                    "grade": false,
                    "locked": false,
                    "solution": false
                }
            },
            "execution_count": 1,
            "outputs": [],
            "attachments": {}
        },
        {
            "id": "asig2lyr7yh7pdd0u48gkm",
            "cell_type": "markdown",
            "source": [
                "## String Manipulation: Indexing and Slicing\n",
                "\n",
                "Strings, among other data types in Python, can be dissected using indexing or slicing. Here are some of the data types that support this:\n",
                "\n",
                "- Strings\n",
                "- Lists\n",
                "- Tuples\n",
                "- Sets\n",
                "\n",
                "---\n",
                "\n",
                "To access elements within these types, you can use the bracket notation. Here are some examples:\n",
                "\n",
                "- `s[0]`: Retrieves the first element.\n",
                "- `s[0:4]`: Retrieves the first 4 elements, starting from index `0`.\n",
                "- `s[-1]`: Accesses the last element.\n",
                "- `s[-2]`: Accesses the second-to-last element.\n",
                "- `s[0:-3]`: Retrieves all elements except the last three.\n",
                "\n",
                "\n",
                "### Exercise: For the following string s, get me the word \"programming\" from the string. I want it two ways: Using slicing and using .split()"
            ],
            "metadata": {
                "vocVersion": "1.1",
                "cellIdentifier": "asig2lyr7yh7pdd0u48gkm",
                "nbgrader": {
                    "grade": false,
                    "locked": false,
                    "solution": false
                }
            },
            "execution_count": 0,
            "outputs": [],
            "attachments": {}
        },
        {
            "id": "n1jxetqmje9dqmlfeg42f",
            "cell_type": "code",
            "source": [
                "s = \"Python programming is really fun\""
            ],
            "metadata": {
                "vocVersion": "1.1",
                "cellIdentifier": "n1jxetqmje9dqmlfeg42f",
                "nbgrader": {
                    "grade": false,
                    "locked": false,
                    "solution": false
                }
            },
            "execution_count": 2,
            "outputs": [],
            "attachments": {}
        },
        {
            "id": "wlowlenmq7notduvycw2",
            "cell_type": "markdown",
            "source": [
                "## Working with Collections in Python\n",
                "\n",
                "In Python, we frequently deal with groups of values. Instead of using individual variables for each value, we use **collections** to store them in a structured manner. Among the various collection types in Python, one of the most fundamental is:\n",
                "\n",
                "### Lists\n",
                "\n",
                "Lists are versatile collections characterized by the following:\n",
                "\n",
                "- **Mutable**: Lists can be modified after their creation, allowing additions, deletions, and other alterations.\n",
                "- **Heterogeneous**: Lists can store elements of varying data types, giving them flexibility in what they can contain.\n",
                "\n",
                ""
            ],
            "metadata": {
                "vocVersion": "1.1",
                "cellIdentifier": "wlowlenmq7notduvycw2",
                "nbgrader": {
                    "grade": false,
                    "locked": false,
                    "solution": false
                }
            },
            "execution_count": 0,
            "outputs": [],
            "attachments": {}
        },
        {
            "id": "e7jp8d411jy8diwc8uhy",
            "cell_type": "code",
            "source": [
                "list_1 = ['fa', 3]\n",
                "\n",
                "list_1[0]"
            ],
            "metadata": {
                "vocVersion": "1.1",
                "cellIdentifier": "e7jp8d411jy8diwc8uhy",
                "nbgrader": {
                    "grade": false,
                    "locked": false,
                    "solution": false
                }
            },
            "execution_count": 3,
            "outputs": [
                {
                    "output_type": "execute_result",
                    "metadata": {},
                    "execution_count": 3,
                    "data": {
                        "text/plain": [
                            "'fa'"
                        ]
                    }
                }
            ],
            "attachments": {}
        },
        {
            "id": "sseu2lz93af3fltm95rsgf",
            "cell_type": "markdown",
            "source": [
                "### List Operations\n",
                "\n",
                "1. **Append**: Adds an element to the end of the list.  \n",
                "   `list.append(element)`\n",
                "\n",
                "2. **Insert**: Inserts an element at a specified position.  \n",
                "   `list.insert(index, element)`\n",
                "\n",
                "3. **Remove**: Removes the first occurrence of a value.  \n",
                "   `list.remove(value)`\n",
                "\n",
                "4. **Pop**: Removes and returns an item from a specified index.  \n",
                "   `item = list.pop(index)`\n",
                "\n",
                "5. **Index**: Returns the index of the first occurrence of a value.  \n",
                "   `position = list.index(value)`\n",
                "\n",
                "6. **Count**: Counts the occurrences of a particular value in the list.  \n",
                "   `count = list.count(value)`\n",
                "\n",
                "7. **Sort**: Sorts the items in the list.  \n",
                "   `list.sort()`\n",
                "\n",
                "8. **Reverse**: Reverses the order of the items in the list.  \n",
                "   `list.reverse()`\n",
                "\n",
                "9. **Clear**: Removes all items from the list.  \n",
                "   `list.clear()`\n",
                "\n",
                "10. **Join**: Combines a list of strings into a single string using a delimiter.  \n",
                "    `delimiter = ', '`\n",
                "    `combined_string = delimiter.join(list_of_strings)`\n",
                "\n",
                "### Exercise: Append you First name to the `names` variable and then sort the names by alphabetical order using one of the methods"
            ],
            "metadata": {
                "vocVersion": "1.1",
                "cellIdentifier": "sseu2lz93af3fltm95rsgf",
                "nbgrader": {
                    "grade": false,
                    "locked": false,
                    "solution": false
                }
            },
            "execution_count": 0,
            "outputs": [],
            "attachments": {}
        },
        {
            "id": "bmqicx27trswwyqrfbjcyp",
            "cell_type": "code",
            "source": [
                "names = ['Albert', 'Brenda', 'Carlos', 'Daenerys', 'Elon', 'Farnsworth']\n",
                "names_and_a_number = ['Albert', 'Brenda', 'Carlos', 'Daenerys', 'Elon', 'Farnsworth', 3.14]"
            ],
            "metadata": {
                "vocVersion": "1.1",
                "cellIdentifier": "bmqicx27trswwyqrfbjcyp",
                "nbgrader": {
                    "grade": false,
                    "locked": false,
                    "solution": false
                }
            },
            "execution_count": 5,
            "outputs": [],
            "attachments": {}
        },
        {
            "id": "w31avok30xxgdqlykcea",
            "cell_type": "markdown",
            "source": [
                "### Exercise: Sort the `numbers` variable."
            ],
            "metadata": {
                "vocVersion": "1.1",
                "cellIdentifier": "w31avok30xxgdqlykcea",
                "nbgrader": {
                    "grade": false,
                    "locked": false,
                    "solution": false
                }
            },
            "execution_count": 0,
            "outputs": [],
            "attachments": {}
        },
        {
            "id": "94jt1brnmlsx8k27z887v",
            "cell_type": "code",
            "source": [
                "numbers = [2,4,123,541,13413,5,8,9]"
            ],
            "metadata": {
                "vocVersion": "1.1",
                "cellIdentifier": "94jt1brnmlsx8k27z887v",
                "nbgrader": {
                    "grade": false,
                    "locked": false,
                    "solution": false
                }
            },
            "execution_count": 6,
            "outputs": [
                {
                    "output_type": "execute_result",
                    "metadata": {},
                    "execution_count": 6,
                    "data": {
                        "text/plain": [
                            "[2, 4, 5, 8, 9, 123, 541, 13413]"
                        ]
                    }
                }
            ],
            "attachments": {}
        },
        {
            "id": "hca2jfsqjqbx3r40yds1ot",
            "cell_type": "markdown",
            "source": [
                "### Tuples\n",
                "\n",
                "Tuples are akin to lists with two distinct features: they're immutable and heterogeneous.\n",
                "\n",
                "- **Immutable**: Once created, tuples cannot be modified. This means that you cannot add, remove, or change elements in a tuple.\n",
                "- **Heterogeneous**: Tuples can store items of any data type, allowing a mix of, for instance, integers, strings, and other objects.\n",
                "\n",
                "In essence, you can perceive tuples as lists that are set in stone. While their prevalence might seem rooted in legacy Python practices, tuples are typically reserved for holding small, fixed sequences of items.\n",
                "\n",
                "### Tuple Unpacking: A Brief Insight\n",
                "\n",
                "Both tuples and lists in Python support \"unpacking\", but this technique is predominantly associated with tuples. Unpacking allows you to directly assign the elements of a tuple (or list) to multiple variables. For instance:\n",
                "\n",
                "```first, last = (\"Tim\", \"Book\")```\n",
                " \n",
                "### Exercise \n",
                "You're given a tuple representing a patient's vital signs recorded during triage. The tuple contains the following data in order:\n",
                "\n",
                " - Temperature (°C)\n",
                "\n",
                " - Heart Rate (bpm)\n",
                "\n",
                " - Respiratory Rate (breaths/min)\n",
                "\n",
                "Unpack the tuple into individual variables and print out a clinical summary.\n",
                "\n",
                ""
            ],
            "metadata": {
                "vocVersion": "1.1",
                "cellIdentifier": "hca2jfsqjqbx3r40yds1ot",
                "nbgrader": {
                    "grade": false,
                    "locked": false,
                    "solution": false
                }
            },
            "execution_count": 0,
            "outputs": [],
            "attachments": {}
        },
        {
            "id": "cvci1umgnc6mvd1ywm5xo",
            "cell_type": "code",
            "source": [
                "vitals = (37.6, 92, 18)"
            ],
            "metadata": {
                "vocVersion": "1.1",
                "cellIdentifier": "cvci1umgnc6mvd1ywm5xo",
                "nbgrader": {
                    "grade": false,
                    "locked": false,
                    "solution": false
                }
            },
            "execution_count": 7,
            "outputs": [],
            "attachments": {}
        },
        {
            "id": "ujoog7aziebrdlesch7xgb",
            "cell_type": "code",
            "source": [],
            "metadata": {
                "vocVersion": "1.1",
                "cellIdentifier": "ujoog7aziebrdlesch7xgb",
                "nbgrader": {
                    "grade": false,
                    "locked": false,
                    "solution": false
                }
            },
            "execution_count": 0,
            "outputs": [],
            "attachments": {}
        }
    ],
    "metadata": {
        "kernelspec": {
            "display_name": "Python 3 [3.10]",
            "language": "python",
            "name": "python3"
        },
        "language_info": {
            "codemirror_mode": "python",
            "file_extension": ".py",
            "mimetype": "text/x-python",
            "name": "python",
            "nbconvert_exporter": "python",
            "pygments_lexer": "ipython3",
            "version": "3.10.2"
        },
        "kernel_id": "4d96f00d-98ef-48f2-8ce9-2752b9fdc070"
    },
    "nbformat": 4,
    "nbformat_minor": 5
}