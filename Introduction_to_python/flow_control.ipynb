{
 "cells": [
  {
   "cell_type": "markdown",
   "id": "3eba5cd6665a79b8",
   "metadata": {},
   "source": [
    "<img src=\"imgs/UTHSCSA_logo.png\" alt=\"University of Texas Health Science Center Logo\" width=\"200\">\n",
    "\n",
    "# Intro to Python: Flow Control\n",
    "\n",
    "**Author:** Dr. Ramiro Ramirez, PhD\n",
    "\n",
    "---\n",
    "\n",
    "## **Learning Objectives**\n",
    "*After this lesson, you will be able to:*\n",
    "- Explain the concept of conditional statements (`if`, `elif`, `else`) and when to use them\n",
    "- Write and interpret loops (`for`, `while`) to automate repetitive tasks\n",
    "- Apply loop control keywords (`break`, `continue`, `pass`) to fine-tune program flow\n",
    "- Combine conditionals and loops to solve simple real-world programming problems\n",
    "- Read and reason about small Python scripts that involve decision-making and repetition\n"
   ]
  },
  {
   "cell_type": "markdown",
   "id": "intro_conditionals",
   "metadata": {},
   "source": [
    "## 1. Conditional Statements (`if`, `elif`, `else`)\n",
    "\n",
    "Conditional statements allow your program to make decisions based on whether certain conditions are true or false. Think of them as the \"brain\" of your program that can choose different paths based on what's happening.\n",
    "\n",
    "### Basic `if` Statement\n",
    "The simplest form of conditional logic:"
   ]
  },
  {
   "cell_type": "code",
   "id": "basic_if_example",
   "metadata": {
    "ExecuteTime": {
     "end_time": "2025-07-29T14:11:38.504298Z",
     "start_time": "2025-07-29T14:11:38.501393Z"
    }
   },
   "source": [
    "# Example 1: Basic if statement\n",
    "temperature = 25\n",
    "if temperature >= 30:  #need colons at the end of if/else statements to end argument\n",
    "    print(\"It's hot\")\n",
    "elif 20 < temperature < 30:\n",
    "    print(\"It's warm\")\n",
    "else:\n",
    "    print(\"It's cold\")"
   ],
   "outputs": [
    {
     "name": "stdout",
     "output_type": "stream",
     "text": [
      "It's warm\n"
     ]
    }
   ],
   "execution_count": 5
  },
  {
   "cell_type": "markdown",
   "id": "if_else_intro",
   "metadata": {},
   "source": [
    "### `if-else` Statement\n",
    "When you want to handle both true and false cases:"
   ]
  },
  {
   "cell_type": "code",
   "execution_count": null,
   "id": "if_else_example",
   "metadata": {},
   "outputs": [],
   "source": [
    "# Example 2: if-else statement\n",
    "age = 18"
   ]
  },
  {
   "cell_type": "markdown",
   "id": "if_elif_else_intro",
   "metadata": {},
   "source": [
    "### `if-elif-else` Statement\n",
    "For multiple conditions, use `elif` (else if):"
   ]
  },
  {
   "cell_type": "code",
   "execution_count": null,
   "id": "if_elif_else_example",
   "metadata": {},
   "outputs": [],
   "source": [
    "# Example 3: if-elif-else statement\n",
    "score = 85"
   ]
  },
  {
   "cell_type": "markdown",
   "id": "nested_conditionals_intro",
   "metadata": {},
   "source": [
    "### Nested Conditionals\n",
    "You can put conditionals inside other conditionals:"
   ]
  },
  {
   "cell_type": "code",
   "execution_count": null,
   "id": "nested_conditionals_example",
   "metadata": {},
   "outputs": [],
   "source": [
    "# Example 4: Nested conditionals\n",
    "is_weekend = True\n",
    "is_raining = False"
   ]
  },
  {
   "cell_type": "markdown",
   "id": "comparison_operators",
   "metadata": {},
   "source": [
    "### Comparison Operators\n",
    "Here are the operators you can use in conditions:\n",
    "\n",
    "| Operator | Meaning | Example |\n",
    "|----------|---------|---------|\n",
    "| `==` | Equal to | `x == 5` |\n",
    "| `!=` | Not equal to | `x != 5` |\n",
    "| `<` | Less than | `x < 5` |\n",
    "| `>` | Greater than | `x > 5` |\n",
    "| `<=` | Less than or equal to | `x <= 5` |\n",
    "| `>=` | Greater than or equal to | `x >= 5` |\n",
    "| `in` | Contains | `'a' in 'apple'` |\n",
    "| `not in` | Does not contain | `'z' not in 'apple'` |"
   ]
  },
  {
   "cell_type": "code",
   "execution_count": null,
   "id": "comparison_operators_example",
   "metadata": {},
   "outputs": [],
   "source": [
    "# Example 5: Using different comparison operators\n",
    "name = \"Alice\"\n",
    "age = 25\n",
    "favorite_colors = [\"blue\", \"green\", \"red\"]"
   ]
  },
  {
   "cell_type": "markdown",
   "id": "logical_operators",
   "metadata": {},
   "source": [
    "### Logical Operators\n",
    "Combine multiple conditions:\n",
    "\n",
    "| Operator | Meaning | Example |\n",
    "|----------|---------|---------|\n",
    "| `and` | Both conditions must be true | `x > 5 and x < 10` |\n",
    "| `or` | At least one condition must be true | `x < 5 or x > 10` |\n",
    "| `not` | Inverts the condition | `not x == 5` |"
   ]
  },
  {
   "cell_type": "code",
   "execution_count": null,
   "id": "logical_operators_example",
   "metadata": {},
   "outputs": [],
   "source": [
    "# Example 6: Logical operators\n",
    "temperature = 22\n",
    "humidity = 65\n",
    "is_sunny = True"
   ]
  },
  {
   "cell_type": "markdown",
   "id": "exercise_1",
   "metadata": {},
   "source": [
    "## 🎯 **Exercise 1: Conditional Statements**\n",
    "\n",
    "**Scenario:** You're building a simple weather advisory system. Complete the following tasks:\n",
    "\n",
    "1. Write a program that gives different advice based on temperature and weather conditions\n",
    "2. Use at least one `if-elif-else` structure\n",
    "3. Use logical operators (`and`, `or`, `not`)"
   ]
  },
  {
   "cell_type": "code",
   "id": "exercise_1_code",
   "metadata": {
    "ExecuteTime": {
     "end_time": "2025-07-29T14:18:27.904886Z",
     "start_time": "2025-07-29T14:18:27.901899Z"
    }
   },
   "source": [
    "# Your code here - Weather Advisory System\n",
    "# Test with different values for temperature and conditions\n",
    "\n",
    "temperature = 15  # Change this value to test\n",
    "is_raining = False  # Change this value to test\n",
    "wind_speed = 25  # Change this value to test\n",
    "\n",
    "# TODO: Write your weather advisory logic here\n",
    "# Hint: Consider different combinations of temperature, rain, and wind\n",
    "# Raining\n",
    "if is_raining:\n",
    "    print(\"Pack an Umbrella!\")\n",
    "else:\n",
    "    print(\"It's not raining\")\n",
    "\n",
    "# Wind advisory\n",
    "if wind_speed > 20:\n",
    "    print(\"It is very windy!\")\n",
    "else:\n",
    "    print(\"Not windy\")\n",
    "\n"
   ],
   "outputs": [
    {
     "name": "stdout",
     "output_type": "stream",
     "text": [
      "It's not raining\n",
      "It is very windy!\n"
     ]
    }
   ],
   "execution_count": 8
  },
  {
   "cell_type": "markdown",
   "id": "loops_intro",
   "metadata": {},
   "source": [
    "## 2. Loops\n",
    "\n",
    "Loops allow you to repeat code multiple times. They're essential for processing data, automating tasks, and avoiding repetitive code.\n",
    "\n",
    "### `for` Loops\n",
    "Use `for` loops when you know how many times you want to repeat something or when iterating over a sequence (list, string, range, etc.)."
   ]
  },
  {
   "cell_type": "code",
   "execution_count": null,
   "id": "for_loop_basic",
   "metadata": {},
   "outputs": [],
   "source": "# Example 7: Basic for loop with range"
  },
  {
   "cell_type": "code",
   "execution_count": null,
   "id": "for_loop_lists",
   "metadata": {},
   "outputs": [],
   "source": "# Example 8: for loop with lists"
  },
  {
   "cell_type": "code",
   "id": "for_loop_enumerate",
   "metadata": {
    "ExecuteTime": {
     "end_time": "2025-07-29T14:44:55.852352Z",
     "start_time": "2025-07-29T14:44:55.849663Z"
    }
   },
   "source": [
    "# Example 9: for loop with enumerate (get both index and value)\n",
    "colors = [\"red\", \"green\", \"blue\", \"yellow\"]\n",
    "#color is a new defined variable and every loop it will become the next color in the list\n",
    "for color in colors:\n",
    "    print(color)"
   ],
   "outputs": [
    {
     "name": "stdout",
     "output_type": "stream",
     "text": [
      "red\n",
      "green\n",
      "blue\n",
      "yellow\n"
     ]
    }
   ],
   "execution_count": 9
  },
  {
   "metadata": {
    "ExecuteTime": {
     "end_time": "2025-07-29T14:50:00.322195Z",
     "start_time": "2025-07-29T14:50:00.319101Z"
    }
   },
   "cell_type": "code",
   "source": [
    "student_classes = ['Algebra', 'History', 'Art'] #define the list of classes\n",
    "for student_class in student_classes:\n",
    "    if student_class == \"Algebra\":\n",
    "        print(\"find x\")\n",
    "    elif student_class == \"History\":\n",
    "        print(\"Who was first president?\")\n",
    "    else:\n",
    "        print(\"draw a pokemon\")\n"
   ],
   "id": "778cc3126eddfb13",
   "outputs": [
    {
     "name": "stdout",
     "output_type": "stream",
     "text": [
      "find x\n",
      "Who was first president?\n",
      "draw a pokemon\n"
     ]
    }
   ],
   "execution_count": 10
  },
  {
   "cell_type": "code",
   "execution_count": null,
   "id": "for_loop_strings",
   "metadata": {},
   "outputs": [],
   "source": [
    "# Example 10: for loop with strings\n",
    "word = \"Python\""
   ]
  },
  {
   "cell_type": "markdown",
   "id": "while_loops_intro",
   "metadata": {},
   "source": [
    "### `while` Loops\n",
    "Use `while` loops when you want to repeat something until a certain condition becomes false."
   ]
  },
  {
   "cell_type": "code",
   "id": "while_loop_basic",
   "metadata": {
    "ExecuteTime": {
     "end_time": "2025-07-29T14:55:04.483130Z",
     "start_time": "2025-07-29T14:55:04.480346Z"
    }
   },
   "source": [
    "# Example 11: Basic while loop\n",
    "count = 0\n",
    "while count < 15:\n",
    "    print(f\"My Count is: {count}\") #an fstring will let you bring a variable in by using curly brackets\n",
    "    count += 1 #adding 1 to the counter each loop, the += is shorthand for count = count +1"
   ],
   "outputs": [
    {
     "name": "stdout",
     "output_type": "stream",
     "text": [
      "My Count is: 0\n",
      "My Count is: 1\n",
      "My Count is: 2\n",
      "My Count is: 3\n",
      "My Count is: 4\n",
      "My Count is: 5\n",
      "My Count is: 6\n",
      "My Count is: 7\n",
      "My Count is: 8\n",
      "My Count is: 9\n",
      "My Count is: 10\n",
      "My Count is: 11\n",
      "My Count is: 12\n",
      "My Count is: 13\n",
      "My Count is: 14\n"
     ]
    }
   ],
   "execution_count": 12
  },
  {
   "cell_type": "code",
   "id": "while_loop_input",
   "metadata": {
    "ExecuteTime": {
     "end_time": "2025-07-30T14:10:01.644024Z",
     "start_time": "2025-07-30T14:09:55.685531Z"
    }
   },
   "source": [
    "# Example 12: while loop with user input\n",
    "# Simulating a simple password checker\n",
    "correct_password = \"python123\"\n",
    "attempts = 0\n",
    "max_attempts = 3\n",
    "\n",
    "count = 0\n",
    "while count < max_attempts:\n",
    "    print(f\"Attempts: {attempts}\") #print how many attempts have been used\n",
    "    guess = input(\"What is the password?\") #asks user for their password guess\n",
    "    count += 1 #add one to the count\n",
    "    attempts += 1 #add one to the number of attempts\n",
    "    if guess == correct_password:\n",
    "        print(\"Well done!\")\n",
    "        break\n",
    "    elif guess != correct_password:\n",
    "        print(f\"You have {max_attempts - attempts} attempts left\")\n"
   ],
   "outputs": [
    {
     "name": "stdout",
     "output_type": "stream",
     "text": [
      "Attempts: 0\n",
      "You have 2 attempts left\n",
      "Attempts: 1\n",
      "You have 1 attempts left\n",
      "Attempts: 2\n",
      "You have 0 attempts left\n"
     ]
    }
   ],
   "execution_count": 20
  },
  {
   "metadata": {
    "ExecuteTime": {
     "end_time": "2025-07-30T14:34:01.497425Z",
     "start_time": "2025-07-30T14:34:01.493277Z"
    }
   },
   "cell_type": "code",
   "source": [
    "#Example: check if a number is odd or even\n",
    "number = 5\n",
    "if number % 2 == 0: # use the mod % since it gives the remainder of a division operation\n",
    "    print(\"even\")\n",
    "else:\n",
    "    print(\"odd\")\n"
   ],
   "id": "76b700b7643393e0",
   "outputs": [
    {
     "name": "stdout",
     "output_type": "stream",
     "text": [
      "odd\n"
     ]
    }
   ],
   "execution_count": 22
  },
  {
   "cell_type": "markdown",
   "id": "exercise_2",
   "metadata": {},
   "source": [
    "## 🎯 **Exercise 2: Loops**\n",
    "\n",
    "**Scenario:** You're analyzing student grades. Complete the following tasks:\n",
    "\n",
    "1. Calculate the average grade from a list of scores\n",
    "2. Find the highest and lowest scores\n",
    "3. Count how many students got an A (90 or above)\n",
    "4. Create a grade distribution (how many A's, B's, C's, etc.)"
   ]
  },
  {
   "cell_type": "code",
   "execution_count": null,
   "id": "exercise_2_code",
   "metadata": {},
   "outputs": [],
   "source": [
    "# Your code here - Grade Analysis\n",
    "\n",
    "# Sample student scores\n",
    "scores = [85, 92, 78, 96, 88, 75, 91, 83, 79, 94]\n",
    "\n",
    "print(\"Student Scores:\", scores)\n",
    "print(\"=\" * 50)\n",
    "\n",
    "# TODO: Calculate and display the average score\n",
    "\n",
    "\n",
    "# TODO: Find and display the highest and lowest scores\n",
    "\n",
    "\n",
    "# TODO: Count how many students got an A (90 or above)\n",
    "\n",
    "\n",
    "# TODO: Create a grade distribution\n",
    "# A: 90-100, B: 80-89, C: 70-79, D: 60-69, F: below 60\n",
    "\n"
   ]
  },
  {
   "cell_type": "markdown",
   "id": "break_intro",
   "metadata": {},
   "source": [
    "## 3. Loop Control Keywords\n",
    "\n",
    "Sometimes you need more control over your loops. Python provides three keywords to help:\n",
    "\n",
    "### `break` - Exit the loop immediately"
   ]
  },
  {
   "cell_type": "code",
   "execution_count": null,
   "id": "break_example",
   "metadata": {},
   "outputs": [],
   "source": "# Example 13: Using break"
  },
  {
   "cell_type": "markdown",
   "id": "continue_intro",
   "metadata": {},
   "source": [
    "### `continue` - Skip to the next iteration"
   ]
  },
  {
   "cell_type": "code",
   "execution_count": null,
   "id": "continue_example",
   "metadata": {},
   "outputs": [],
   "source": "# Example 14: Using continue"
  },
  {
   "cell_type": "markdown",
   "id": "pass_intro",
   "metadata": {},
   "source": [
    "### `pass` - Do nothing (placeholder)"
   ]
  },
  {
   "cell_type": "code",
   "execution_count": null,
   "id": "pass_example",
   "metadata": {},
   "outputs": [],
   "source": "# Example 15: Using pass"
  },
  {
   "cell_type": "markdown",
   "id": "exercise_3",
   "metadata": {},
   "source": [
    "## 🎯 **Exercise 3: Loop Control**\n",
    "\n",
    "**Scenario:** You're building a number processing system. Complete the following tasks:\n",
    "\n",
    "1. Find the first prime number in a list\n",
    "2. Skip all negative numbers in processing\n",
    "3. Stop processing when you find a number greater than 100"
   ]
  },
  {
   "cell_type": "code",
   "execution_count": null,
   "id": "exercise_3_code",
   "metadata": {},
   "outputs": [],
   "source": [
    "# Your code here - Number Processing System\n",
    "\n",
    "# Sample numbers to process\n",
    "numbers = [4, -3, 7, 12, -8, 15, 23, 45, 67, 89, 101, 103]\n",
    "\n",
    "print(\"Processing numbers:\", numbers)\n",
    "print(\"=\" * 50)\n",
    "\n",
    "# Helper function to check if a number is prime\n",
    "def is_prime(n):\n",
    "    if n < 2:\n",
    "        return False\n",
    "    for i in range(2, int(n**0.5) + 1):\n",
    "        if n % i == 0:\n",
    "            return False\n",
    "    return True\n",
    "\n",
    "# TODO: Process the numbers according to the requirements\n",
    "# 1. Find the first prime number\n",
    "# 2. Skip negative numbers\n",
    "# 3. Stop when you find a number > 100\n",
    "\n"
   ]
  },
  {
   "cell_type": "markdown",
   "id": "combining_intro",
   "metadata": {},
   "source": [
    "## 4. Combining Conditionals and Loops\n",
    "\n",
    "The real power comes when you combine conditionals and loops to solve complex problems."
   ]
  },
  {
   "cell_type": "code",
   "execution_count": null,
   "id": "fizzbuzz_example",
   "metadata": {},
   "outputs": [],
   "source": "# Example 16: FizzBuzz - A classic programming problem"
  },
  {
   "cell_type": "code",
   "execution_count": null,
   "id": "temperature_analysis",
   "metadata": {},
   "outputs": [],
   "source": [
    "# Example 17: Finding patterns in data\n",
    "temperatures = [22, 25, 18, 30, 15, 28, 20, 35, 12, 26]"
   ]
  },
  {
   "cell_type": "markdown",
   "id": "exercise_4",
   "metadata": {},
   "source": [
    "## 🎯 **Exercise 4: Real-World Problem**\n",
    "\n",
    "**Scenario:** You're building a simple inventory management system for a bookstore. Complete the following tasks:\n",
    "\n",
    "1. Calculate total inventory value\n",
    "2. Find books that need restocking (quantity < 5)\n",
    "3. Find the most expensive book\n",
    "4. Calculate average book price\n",
    "5. Create a summary report"
   ]
  },
  {
   "cell_type": "code",
   "execution_count": null,
   "id": "exercise_4_code",
   "metadata": {},
   "outputs": [],
   "source": [
    "# Your code here - Bookstore Inventory Management\n",
    "\n",
    "# Sample inventory data: (book_name, price, quantity)\n",
    "inventory = [\n",
    "    (\"Python Programming\", 45.99, 8),\n",
    "    (\"Data Science Basics\", 39.50, 3),\n",
    "    (\"Machine Learning Intro\", 55.00, 12),\n",
    "    (\"Web Development\", 42.75, 2),\n",
    "    (\"Statistics for Beginners\", 35.25, 15),\n",
    "    (\"Advanced Python\", 65.00, 6),\n",
    "    (\"Database Design\", 48.50, 4),\n",
    "    (\"AI Fundamentals\", 75.00, 7)\n",
    "]\n",
    "\n",
    "print(\"📚 BOOKSTORE INVENTORY MANAGEMENT SYSTEM 📚\")\n",
    "print(\"=\" * 60)\n",
    "\n",
    "# TODO: Calculate total inventory value\n",
    "\n",
    "\n",
    "# TODO: Find books that need restocking (quantity < 5)\n",
    "\n",
    "\n",
    "# TODO: Find the most expensive book\n",
    "\n",
    "\n",
    "# TODO: Calculate average book price\n",
    "\n",
    "\n",
    "# TODO: Create a summary report\n",
    "\n"
   ]
  }
 ],
 "metadata": {
  "kernelspec": {
   "display_name": "Python 3",
   "language": "python",
   "name": "python3"
  },
  "language_info": {
   "codemirror_mode": {
    "name": "ipython",
    "version": 2
   },
   "file_extension": ".py",
   "mimetype": "text/x-python",
   "name": "python",
   "nbconvert_exporter": "python",
   "pygments_lexer": "ipython2",
   "version": "2.7.6"
  }
 },
 "nbformat": 4,
 "nbformat_minor": 5
}
