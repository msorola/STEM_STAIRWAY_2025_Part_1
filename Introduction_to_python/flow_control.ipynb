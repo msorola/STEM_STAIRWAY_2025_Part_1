{
 "cells": [
  {
   "cell_type": "markdown",
   "id": "3eba5cd6665a79b8",
   "metadata": {},
   "source": [
    "<img src=\"imgs/UTHSCSA_logo.png\" alt=\"University of Texas Health Science Center Logo\" width=\"200\">\n",
    "\n",
    "# Intro to Python: Flow Control\n",
    "\n",
    "**Author:** Dr. Ramiro Ramirez, PhD\n",
    "\n",
    "---\n",
    "\n",
    "## **Learning Objectives**\n",
    "*After this lesson, you will be able to:*\n",
    "- Explain the concept of conditional statements (`if`, `elif`, `else`) and when to use them\n",
    "- Write and interpret loops (`for`, `while`) to automate repetitive tasks\n",
    "- Apply loop control keywords (`break`, `continue`, `pass`) to fine-tune program flow\n",
    "- Combine conditionals and loops to solve simple real-world programming problems\n",
    "- Read and reason about small Python scripts that involve decision-making and repetition\n"
   ]
  },
  {
   "cell_type": "markdown",
   "id": "intro_conditionals",
   "metadata": {},
   "source": [
    "## 1. Conditional Statements (`if`, `elif`, `else`)\n",
    "\n",
    "Conditional statements allow your program to make decisions based on whether certain conditions are true or false. Think of them as the \"brain\" of your program that can choose different paths based on what's happening.\n",
    "\n",
    "### Basic `if` Statement\n",
    "The simplest form of conditional logic:"
   ]
  },
  {
   "cell_type": "code",
   "execution_count": null,
   "id": "basic_if_example",
   "metadata": {},
   "outputs": [],
   "source": [
    "# Example 1: Basic if statement\n",
    "temperature = 25\n",
    "\n",
    "if temperature > 20:\n",
    "    print(\"It's warm today!\")\n",
    "    print(\"Perfect weather for a walk.\")\n",
    "\n",
    "print(\"This line always executes\")"
   ]
  },
  {
   "cell_type": "markdown",
   "id": "if_else_intro",
   "metadata": {},
   "source": [
    "### `if-else` Statement\n",
    "When you want to handle both true and false cases:"
   ]
  },
  {
   "cell_type": "code",
   "execution_count": null,
   "id": "if_else_example",
   "metadata": {},
   "outputs": [],
   "source": [
    "# Example 2: if-else statement\n",
    "age = 18\n",
    "\n",
    "if age >= 18:\n",
    "    print(\"You are an adult.\")\n",
    "else:\n",
    "    print(\"You are a minor.\")\n",
    "\n",
    "print(\"Age verification complete.\")"
   ]
  },
  {
   "cell_type": "markdown",
   "id": "if_elif_else_intro",
   "metadata": {},
   "source": [
    "### `if-elif-else` Statement\n",
    "For multiple conditions, use `elif` (else if):"
   ]
  },
  {
   "cell_type": "code",
   "execution_count": null,
   "id": "if_elif_else_example",
   "metadata": {},
   "outputs": [],
   "source": [
    "# Example 3: if-elif-else statement\n",
    "score = 85\n",
    "\n",
    "if score >= 90:\n",
    "    grade = \"A\"\n",
    "elif score >= 80:\n",
    "    grade = \"B\"\n",
    "elif score >= 70:\n",
    "    grade = \"C\"\n",
    "elif score >= 60:\n",
    "    grade = \"D\"\n",
    "else:\n",
    "    grade = \"F\"\n",
    "\n",
    "print(f\"Score: {score}, Grade: {grade}\")"
   ]
  },
  {
   "cell_type": "markdown",
   "id": "nested_conditionals_intro",
   "metadata": {},
   "source": [
    "### Nested Conditionals\n",
    "You can put conditionals inside other conditionals:"
   ]
  },
  {
   "cell_type": "code",
   "execution_count": null,
   "id": "nested_conditionals_example",
   "metadata": {},
   "outputs": [],
   "source": [
    "# Example 4: Nested conditionals\n",
    "is_weekend = True\n",
    "is_raining = False\n",
    "\n",
    "if is_weekend:\n",
    "    if is_raining:\n",
    "        print(\"Stay home and watch movies.\")\n",
    "    else:\n",
    "        print(\"Go for a hike!\")\n",
    "else:\n",
    "    print(\"It's a workday.\")"
   ]
  },
  {
   "cell_type": "markdown",
   "id": "comparison_operators",
   "metadata": {},
   "source": [
    "### Comparison Operators\n",
    "Here are the operators you can use in conditions:\n",
    "\n",
    "| Operator | Meaning | Example |\n",
    "|----------|---------|---------|\n",
    "| `==` | Equal to | `x == 5` |\n",
    "| `!=` | Not equal to | `x != 5` |\n",
    "| `<` | Less than | `x < 5` |\n",
    "| `>` | Greater than | `x > 5` |\n",
    "| `<=` | Less than or equal to | `x <= 5` |\n",
    "| `>=` | Greater than or equal to | `x >= 5` |\n",
    "| `in` | Contains | `'a' in 'apple'` |\n",
    "| `not in` | Does not contain | `'z' not in 'apple'` |"
   ]
  },
  {
   "cell_type": "code",
   "execution_count": null,
   "id": "comparison_operators_example",
   "metadata": {},
   "outputs": [],
   "source": [
    "# Example 5: Using different comparison operators\n",
    "name = \"Alice\"\n",
    "age = 25\n",
    "favorite_colors = [\"blue\", \"green\", \"red\"]\n",
    "\n",
    "print(f\"Name is Alice: {name == 'Alice'}\")\n",
    "print(f\"Age is not 30: {age != 30}\")\n",
    "print(f\"Age is between 18 and 30: {18 <= age <= 30}\")\n",
    "print(f\"Blue is a favorite color: {'blue' in favorite_colors}\")\n",
    "print(f\"Yellow is not a favorite: {'yellow' not in favorite_colors}\")"
   ]
  },
  {
   "cell_type": "markdown",
   "id": "logical_operators",
   "metadata": {},
   "source": [
    "### Logical Operators\n",
    "Combine multiple conditions:\n",
    "\n",
    "| Operator | Meaning | Example |\n",
    "|----------|---------|---------|\n",
    "| `and` | Both conditions must be true | `x > 5 and x < 10` |\n",
    "| `or` | At least one condition must be true | `x < 5 or x > 10` |\n",
    "| `not` | Inverts the condition | `not x == 5` |"
   ]
  },
  {
   "cell_type": "code",
   "execution_count": null,
   "id": "logical_operators_example",
   "metadata": {},
   "outputs": [],
   "source": [
    "# Example 6: Logical operators\n",
    "temperature = 22\n",
    "humidity = 65\n",
    "is_sunny = True\n",
    "\n",
    "# Using 'and'\n",
    "if temperature > 20 and humidity < 70:\n",
    "    print(\"Perfect weather conditions!\")\n",
    "\n",
    "# Using 'or'\n",
    "if temperature > 25 or humidity > 80:\n",
    "    print(\"Weather might be uncomfortable.\")\n",
    "\n",
    "# Using 'not'\n",
    "if not is_sunny:\n",
    "    print(\"Bring an umbrella!\")\n",
    "else:\n",
    "    print(\"Don't forget sunscreen!\")"
   ]
  },
  {
   "cell_type": "markdown",
   "id": "exercise_1",
   "metadata": {},
   "source": [
    "## 🎯 **Exercise 1: Conditional Statements**\n",
    "\n",
    "**Scenario:** You're building a simple weather advisory system. Complete the following tasks:\n",
    "\n",
    "1. Write a program that gives different advice based on temperature and weather conditions\n",
    "2. Use at least one `if-elif-else` structure\n",
    "3. Use logical operators (`and`, `or`, `not`)"
   ]
  },
  {
   "cell_type": "code",
   "execution_count": null,
   "id": "exercise_1_code",
   "metadata": {},
   "outputs": [],
   "source": [
    "# Your code here - Weather Advisory System\n",
    "# Test with different values for temperature and conditions\n",
    "\n",
    "temperature = 15  # Change this value to test\n",
    "is_raining = False  # Change this value to test\n",
    "wind_speed = 25  # Change this value to test\n",
    "\n",
    "# TODO: Write your weather advisory logic here\n",
    "# Hint: Consider different combinations of temperature, rain, and wind\n",
    "\n",
    "\n"
   ]
  },
  {
   "cell_type": "markdown",
   "id": "loops_intro",
   "metadata": {},
   "source": [
    "## 2. Loops\n",
    "\n",
    "Loops allow you to repeat code multiple times. They're essential for processing data, automating tasks, and avoiding repetitive code.\n",
    "\n",
    "### `for` Loops\n",
    "Use `for` loops when you know how many times you want to repeat something or when iterating over a sequence (list, string, range, etc.)."
   ]
  },
  {
   "cell_type": "code",
   "execution_count": null,
   "id": "for_loop_basic",
   "metadata": {},
   "outputs": [],
   "source": [
    "# Example 7: Basic for loop with range\n",
    "print(\"Counting from 1 to 5:\")\n",
    "for i in range(1, 6):  # range(1, 6) gives [1, 2, 3, 4, 5]\n",
    "    print(f\"Number: {i}\")\n",
    "\n",
    "print(\"\\nCounting by 2s:\")\n",
    "for i in range(0, 11, 2):  # range(0, 11, 2) gives [0, 2, 4, 6, 8, 10]\n",
    "    print(f\"Even number: {i}\")"
   ]
  },
  {
   "cell_type": "code",
   "execution_count": null,
   "id": "for_loop_lists",
   "metadata": {},
   "outputs": [],
   "source": [
    "# Example 8: for loop with lists\n",
    "fruits = [\"apple\", \"banana\", \"orange\", \"grape\"]\n",
    "\n",
    "print(\"My favorite fruits:\")\n",
    "for fruit in fruits:\n",
    "    print(f\"- {fruit}\")\n",
    "\n",
    "print(\"\\nFruits with their lengths:\")\n",
    "for fruit in fruits:\n",
    "    print(f\"{fruit}: {len(fruit)} letters\")"
   ]
  },
  {
   "cell_type": "code",
   "execution_count": null,
   "id": "for_loop_enumerate",
   "metadata": {},
   "outputs": [],
   "source": [
    "# Example 9: for loop with enumerate (get both index and value)\n",
    "colors = [\"red\", \"green\", \"blue\", \"yellow\"]\n",
    "\n",
    "print(\"Colors with their positions:\")\n",
    "for index, color in enumerate(colors):\n",
    "    print(f\"{index + 1}. {color}\")\n",
    "\n",
    "print(\"\\nColors with their positions (starting from 0):\")\n",
    "for index, color in enumerate(colors, start=0):\n",
    "    print(f\"Position {index}: {color}\")"
   ]
  },
  {
   "cell_type": "code",
   "execution_count": null,
   "id": "for_loop_strings",
   "metadata": {},
   "outputs": [],
   "source": [
    "# Example 10: for loop with strings\n",
    "word = \"Python\"\n",
    "\n",
    "print(\"Letters in 'Python':\")\n",
    "for letter in word:\n",
    "    print(f\"Letter: {letter}\")\n",
    "\n",
    "print(\"\\nLetters with their positions:\")\n",
    "for i, letter in enumerate(word):\n",
    "    print(f\"Position {i}: {letter}\")"
   ]
  },
  {
   "cell_type": "markdown",
   "id": "while_loops_intro",
   "metadata": {},
   "source": [
    "### `while` Loops\n",
    "Use `while` loops when you want to repeat something until a certain condition becomes false."
   ]
  },
  {
   "cell_type": "code",
   "execution_count": null,
   "id": "while_loop_basic",
   "metadata": {},
   "outputs": [],
   "source": [
    "# Example 11: Basic while loop\n",
    "count = 1\n",
    "print(\"Counting up to 5:\")\n",
    "\n",
    "while count <= 5:\n",
    "    print(f\"Count: {count}\")\n",
    "    count += 1  # Don't forget to update the variable!\n",
    "\n",
    "print(f\"Final count: {count}\")"
   ]
  },
  {
   "cell_type": "code",
   "execution_count": null,
   "id": "while_loop_input",
   "metadata": {},
   "outputs": [],
   "source": [
    "# Example 12: while loop with user input\n",
    "# Simulating a simple password checker\n",
    "correct_password = \"python123\"\n",
    "attempts = 0\n",
    "max_attempts = 3\n",
    "\n",
    "print(\"Password Checker (use 'python123' to succeed)\")\n",
    "\n",
    "while attempts < max_attempts:\n",
    "    password = input(f\"Enter password (attempt {attempts + 1}/{max_attempts}): \")\n",
    "    attempts += 1\n",
    "    \n",
    "    if password == correct_password:\n",
    "        print(\"Access granted!\")\n",
    "        break\n",
    "    else:\n",
    "        print(\"Incorrect password.\")\n",
    "        if attempts < max_attempts:\n",
    "            print(f\"{max_attempts - attempts} attempts remaining.\")\n",
    "\n",
    "if attempts >= max_attempts and password != correct_password:\n",
    "    print(\"Too many failed attempts. Access denied.\")"
   ]
  },
  {
   "cell_type": "markdown",
   "id": "exercise_2",
   "metadata": {},
   "source": [
    "## 🎯 **Exercise 2: Loops**\n",
    "\n",
    "**Scenario:** You're analyzing student grades. Complete the following tasks:\n",
    "\n",
    "1. Calculate the average grade from a list of scores\n",
    "2. Find the highest and lowest scores\n",
    "3. Count how many students got an A (90 or above)\n",
    "4. Create a grade distribution (how many A's, B's, C's, etc.)"
   ]
  },
  {
   "cell_type": "code",
   "execution_count": null,
   "id": "exercise_2_code",
   "metadata": {},
   "outputs": [],
   "source": [
    "# Your code here - Grade Analysis\n",
    "\n",
    "# Sample student scores\n",
    "scores = [85, 92, 78, 96, 88, 75, 91, 83, 79, 94]\n",
    "\n",
    "print(\"Student Scores:\", scores)\n",
    "print(\"=\" * 50)\n",
    "\n",
    "# TODO: Calculate and display the average score\n",
    "\n",
    "\n",
    "# TODO: Find and display the highest and lowest scores\n",
    "\n",
    "\n",
    "# TODO: Count how many students got an A (90 or above)\n",
    "\n",
    "\n",
    "# TODO: Create a grade distribution\n",
    "# A: 90-100, B: 80-89, C: 70-79, D: 60-69, F: below 60\n",
    "\n"
   ]
  },
  {
   "cell_type": "markdown",
   "id": "break_intro",
   "metadata": {},
   "source": [
    "## 3. Loop Control Keywords\n",
    "\n",
    "Sometimes you need more control over your loops. Python provides three keywords to help:\n",
    "\n",
    "### `break` - Exit the loop immediately"
   ]
  },
  {
   "cell_type": "code",
   "execution_count": null,
   "id": "break_example",
   "metadata": {},
   "outputs": [],
   "source": [
    "# Example 13: Using break\n",
    "print(\"Finding the first number divisible by 7:\")\n",
    "\n",
    "for i in range(1, 21):\n",
    "    if i % 7 == 0:\n",
    "        print(f\"Found: {i} is divisible by 7\")\n",
    "        break  # Exit the loop immediately\n",
    "    print(f\"Checking {i}...\")\n",
    "\n",
    "print(\"Loop finished!\")"
   ]
  },
  {
   "cell_type": "markdown",
   "id": "continue_intro",
   "metadata": {},
   "source": [
    "### `continue` - Skip to the next iteration"
   ]
  },
  {
   "cell_type": "code",
   "execution_count": null,
   "id": "continue_example",
   "metadata": {},
   "outputs": [],
   "source": [
    "# Example 14: Using continue\n",
    "print(\"Printing even numbers from 1 to 10:\")\n",
    "\n",
    "for i in range(1, 11):\n",
    "    if i % 2 != 0:  # If number is odd\n",
    "        continue    # Skip to next iteration\n",
    "    print(f\"Even number: {i}\")\n",
    "\n",
    "print(\"Done printing even numbers!\")"
   ]
  },
  {
   "cell_type": "markdown",
   "id": "pass_intro",
   "metadata": {},
   "source": [
    "### `pass` - Do nothing (placeholder)"
   ]
  },
  {
   "cell_type": "code",
   "execution_count": null,
   "id": "pass_example",
   "metadata": {},
   "outputs": [],
   "source": [
    "# Example 15: Using pass\n",
    "print(\"Processing numbers (skipping negative ones):\")\n",
    "\n",
    "numbers = [1, -2, 3, -4, 5, -6, 7]\n",
    "\n",
    "for num in numbers:\n",
    "    if num < 0:\n",
    "        pass  # Do nothing for negative numbers\n",
    "    else:\n",
    "        print(f\"Processing positive number: {num}\")\n",
    "\n",
    "print(\"Processing complete!\")"
   ]
  },
  {
   "cell_type": "markdown",
   "id": "exercise_3",
   "metadata": {},
   "source": [
    "## 🎯 **Exercise 3: Loop Control**\n",
    "\n",
    "**Scenario:** You're building a number processing system. Complete the following tasks:\n",
    "\n",
    "1. Find the first prime number in a list\n",
    "2. Skip all negative numbers in processing\n",
    "3. Stop processing when you find a number greater than 100"
   ]
  },
  {
   "cell_type": "code",
   "execution_count": null,
   "id": "exercise_3_code",
   "metadata": {},
   "outputs": [],
   "source": [
    "# Your code here - Number Processing System\n",
    "\n",
    "# Sample numbers to process\n",
    "numbers = [4, -3, 7, 12, -8, 15, 23, 45, 67, 89, 101, 103]\n",
    "\n",
    "print(\"Processing numbers:\", numbers)\n",
    "print(\"=\" * 50)\n",
    "\n",
    "# Helper function to check if a number is prime\n",
    "def is_prime(n):\n",
    "    if n < 2:\n",
    "        return False\n",
    "    for i in range(2, int(n**0.5) + 1):\n",
    "        if n % i == 0:\n",
    "            return False\n",
    "    return True\n",
    "\n",
    "# TODO: Process the numbers according to the requirements\n",
    "# 1. Find the first prime number\n",
    "# 2. Skip negative numbers\n",
    "# 3. Stop when you find a number > 100\n",
    "\n"
   ]
  },
  {
   "cell_type": "markdown",
   "id": "combining_intro",
   "metadata": {},
   "source": [
    "## 4. Combining Conditionals and Loops\n",
    "\n",
    "The real power comes when you combine conditionals and loops to solve complex problems."
   ]
  },
  {
   "cell_type": "code",
   "execution_count": null,
   "id": "fizzbuzz_example",
   "metadata": {},
   "outputs": [],
   "source": [
    "# Example 16: FizzBuzz - A classic programming problem\n",
    "print(\"FizzBuzz (1-20):\")\n",
    "print(\"Rules: Print 'Fizz' for multiples of 3, 'Buzz' for multiples of 5, 'FizzBuzz' for both\")\n",
    "print(\"-\" * 40)\n",
    "\n",
    "for i in range(1, 21):\n",
    "    if i % 3 == 0 and i % 5 == 0:\n",
    "        print(\"FizzBuzz\")\n",
    "    elif i % 3 == 0:\n",
    "        print(\"Fizz\")\n",
    "    elif i % 5 == 0:\n",
    "        print(\"Buzz\")\n",
    "    else:\n",
    "        print(i)"
   ]
  },
  {
   "cell_type": "code",
   "execution_count": null,
   "id": "temperature_analysis",
   "metadata": {},
   "outputs": [],
   "source": [
    "# Example 17: Finding patterns in data\n",
    "temperatures = [22, 25, 18, 30, 15, 28, 20, 35, 12, 26]\n",
    "print(\"Temperature data:\", temperatures)\n",
    "print(\"=\" * 50)\n",
    "\n",
    "# Find temperature trends\n",
    "hot_days = 0\n",
    "cold_days = 0\n",
    "comfortable_days = 0\n",
    "\n",
    "for temp in temperatures:\n",
    "    if temp >= 30:\n",
    "        hot_days += 1\n",
    "        print(f\"{temp}°C: Hot day!\")\n",
    "    elif temp <= 15:\n",
    "        cold_days += 1\n",
    "        print(f\"{temp}°C: Cold day!\")\n",
    "    else:\n",
    "        comfortable_days += 1\n",
    "        print(f\"{temp}°C: Comfortable temperature\")\n",
    "\n",
    "print(f\"\\nSummary:\")\n",
    "print(f\"Hot days: {hot_days}\")\n",
    "print(f\"Cold days: {cold_days}\")\n",
    "print(f\"Comfortable days: {comfortable_days}\")"
   ]
  },
  {
   "cell_type": "markdown",
   "id": "exercise_4",
   "metadata": {},
   "source": [
    "## 🎯 **Exercise 4: Real-World Problem**\n",
    "\n",
    "**Scenario:** You're building a simple inventory management system for a bookstore. Complete the following tasks:\n",
    "\n",
    "1. Calculate total inventory value\n",
    "2. Find books that need restocking (quantity < 5)\n",
    "3. Find the most expensive book\n",
    "4. Calculate average book price\n",
    "5. Create a summary report"
   ]
  },
  {
   "cell_type": "code",
   "execution_count": null,
   "id": "exercise_4_code",
   "metadata": {},
   "outputs": [],
   "source": [
    "# Your code here - Bookstore Inventory Management\n",
    "\n",
    "# Sample inventory data: (book_name, price, quantity)\n",
    "inventory = [\n",
    "    (\"Python Programming\", 45.99, 8),\n",
    "    (\"Data Science Basics\", 39.50, 3),\n",
    "    (\"Machine Learning Intro\", 55.00, 12),\n",
    "    (\"Web Development\", 42.75, 2),\n",
    "    (\"Statistics for Beginners\", 35.25, 15),\n",
    "    (\"Advanced Python\", 65.00, 6),\n",
    "    (\"Database Design\", 48.50, 4),\n",
    "    (\"AI Fundamentals\", 75.00, 7)\n",
    "]\n",
    "\n",
    "print(\"📚 BOOKSTORE INVENTORY MANAGEMENT SYSTEM 📚\")\n",
    "print(\"=\" * 60)\n",
    "\n",
    "# TODO: Calculate total inventory value\n",
    "\n",
    "\n",
    "# TODO: Find books that need restocking (quantity < 5)\n",
    "\n",
    "\n",
    "# TODO: Find the most expensive book\n",
    "\n",
    "\n",
    "# TODO: Calculate average book price\n",
    "\n",
    "\n",
    "# TODO: Create a summary report\n",
    "\n"
   ]
  },
  {
   "cell_type": "markdown",
   "id": "pitfalls_intro",
   "metadata": {},
   "source": [
    "## 5. Common Pitfalls and Best Practices\n",
    "\n",
    "### ⚠️ Common Mistakes to Avoid:"
   ]
  },
  {
   "cell_type": "code",
   "execution_count": null,
   "id": "infinite_loop_pitfall",
   "metadata": {},
   "outputs": [],
   "source": [
    "# Pitfall 1: Infinite loops\n",
    "# DON'T DO THIS:\n",
    "# count = 1\n",
    "# while count <= 5:\n",
    "#     print(count)\n",
    "#     # Missing: count += 1  # This would cause an infinite loop!\n",
    "\n",
    "# CORRECT VERSION:\n",
    "count = 1\n",
    "while count <= 5:\n",
    "    print(f\"Count: {count}\")\n",
    "    count += 1  # Always update the variable!\n",
    "\n",
    "print(\"Loop completed successfully!\")"
   ]
  },
  {
   "cell_type": "code",
   "execution_count": null,
   "id": "off_by_one_pitfall",
   "metadata": {},
   "outputs": [],
   "source": [
    "# Pitfall 2: Off-by-one errors\n",
    "print(\"Range examples:\")\n",
    "print(\"range(5):\", list(range(5)))      # [0, 1, 2, 3, 4]\n",
    "print(\"range(1, 5):\", list(range(1, 5)))  # [1, 2, 3, 4]\n",
    "print(\"range(1, 6):\", list(range(1, 6)))  # [1, 2, 3, 4, 5]\n",
    "\n",
    "# If you want to count from 1 to 5, use range(1, 6), not range(1, 5)!"
   ]
  },
  {
   "cell_type": "code",
   "execution_count": null,
   "id": "modifying_list_pitfall",
   "metadata": {},
   "outputs": [],
   "source": [
    "# Pitfall 3: Modifying a list while iterating over it\n",
    "# DON'T DO THIS:\n",
    "# numbers = [1, 2, 3, 4, 5]\n",
    "# for num in numbers:\n",
    "#     if num % 2 == 0:\n",
    "#         numbers.remove(num)  # This can cause issues!\n",
    "\n",
    "# BETTER APPROACH: Create a new list\n",
    "numbers = [1, 2, 3, 4, 5, 6, 7, 8]\n",
    "odd_numbers = []\n",
    "\n",
    "for num in numbers:\n",
    "    if num % 2 != 0:  # Keep odd numbers\n",
    "        odd_numbers.append(num)\n",
    "\n",
    "print(f\"Original: {numbers}\")\n",
    "print(f\"Odd numbers only: {odd_numbers}\")"
   ]
  },
  {
   "cell_type": "markdown",
   "id": "best_practices",
   "metadata": {},
   "source": [
    "### ✅ Best Practices:"
   ]
  },
  {
   "cell_type": "code",
   "execution_count": null,
   "id": "meaningful_names",
   "metadata": {},
   "outputs": [],
   "source": [
    "# Best Practice 1: Use meaningful variable names\n",
    "students = [\"Alice\", \"Bob\", \"Charlie\", \"Diana\"]\n",
    "grades = [85, 92, 78, 95]\n",
    "\n",
    "# Good: Clear variable names\n",
    "for student_name, student_grade in zip(students, grades):\n",
    "    print(f\"{student_name}: {student_grade}\")\n",
    "\n",
    "# Bad: Unclear variable names\n",
    "# for s, g in zip(students, grades):\n",
    "#     print(f\"{s}: {g}\")"
   ]
  },
  {
   "cell_type": "code",
   "execution_count": null,
   "id": "list_comprehension",
   "metadata": {},
   "outputs": [],
   "source": [
    "# Best Practice 2: Use list comprehensions for simple operations\n",
    "numbers = [1, 2, 3, 4, 5, 6, 7, 8, 9, 10]\n",
    "\n",
    "# Traditional approach\n",
    "squares_traditional = []\n",
    "for num in numbers:\n",
    "    squares_traditional.append(num ** 2)\n",
    "\n",
    "# List comprehension (more Pythonic)\n",
    "squares_comprehension = [num ** 2 for num in numbers]\n",
    "\n",
    "print(f\"Traditional: {squares_traditional}\")\n",
    "print(f\"Comprehension: {squares_comprehension}\")\n",
    "\n",
    "# Both give the same result, but list comprehension is more concise!"
   ]
  },
  {
   "cell_type": "markdown",
   "id": "final_challenge",
   "metadata": {},
   "source": [
    "## 🎯 **Final Challenge: Mini-Game**\n",
    "\n",
    "**Scenario:** Create a simple number guessing game that combines all the concepts you've learned:\n",
    "\n",
    "1. Generate a random number between 1 and 100\n",
    "2. Ask the user to guess the number\n",
    "3. Give hints (higher/lower)\n",
    "4. Track the number of attempts\n",
    "5. Ask if they want to play again"
   ]
  },
  {
   "cell_type": "code",
   "execution_count": null,
   "id": "final_challenge_code",
   "metadata": {},
   "outputs": [],
   "source": [
    "# Your code here - Number Guessing Game\n",
    "import random\n",
    "\n",
    "print(\"🎮 NUMBER GUESSING GAME 🎮\")\n",
    "print(\"I'm thinking of a number between 1 and 100...\")\n",
    "print(\"=\" * 50)\n",
    "\n",
    "# TODO: Implement the number guessing game\n",
    "# 1. Generate random number\n",
    "# 2. Get user input\n",
    "# 3. Compare and give hints\n",
    "# 4. Track attempts\n",
    "# 5. Ask to play again\n",
    "\n"
   ]
  }
 ],
 "metadata": {
  "kernelspec": {
   "display_name": "Python 3",
   "language": "python",
   "name": "python3"
  },
  "language_info": {
   "codemirror_mode": {
    "name": "ipython",
    "version": 2
   },
   "file_extension": ".py",
   "mimetype": "text/x-python",
   "name": "python",
   "nbconvert_exporter": "python",
   "pygments_lexer": "ipython2",
   "version": "2.7.6"
  }
 },
 "nbformat": 4,
 "nbformat_minor": 5
}
