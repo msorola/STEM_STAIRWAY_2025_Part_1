{
 "cells": [
  {
   "cell_type": "markdown",
   "id": "kdqux1rmeprd49yrxuzmm",
   "metadata": {
    "cellIdentifier": "kdqux1rmeprd49yrxuzmm",
    "nbgrader": {
     "grade": false,
     "locked": false,
     "solution": false
    },
    "vocVersion": 1.1
   },
   "source": [
    "<img src=\"imgs/UTHSCSA_logo.png\" alt=\"University of Texas Health Science Center Logo\" width=\"200\">\n",
    "\n",
    "# Intro to Python: Data Types and Collections\n",
    "\n",
    "**Author:** Dr. Ramiro Ramirez, PhD\n",
    "\n",
    "---\n",
    "\n",
    "## **Learning Objectives**\n",
    "*After this lesson, you will be able to:*\n",
    "- Understand and use Python's fundamental data types (integers, floats, strings, booleans)\n",
    "- Work with collections (lists, tuples, dictionaries, sets) and understand their differences\n",
    "- Perform operations on strings, lists, and dictionaries\n",
    "- Use list comprehensions for efficient data processing\n",
    "- Apply data type concepts to solve real-world programming problems\n",
    "- Choose appropriate data structures for different scenarios"
   ]
  },
  {
   "attachments": {},
   "cell_type": "markdown",
   "id": "intro_section",
   "metadata": {
    "cellIdentifier": "intro_section",
    "nbgrader": {
     "grade": false,
     "locked": false,
     "solution": false
    },
    "vocVersion": "1.1"
   },
   "source": [
    "## 1. Introduction to Data Types\n",
    "\n",
    "Data types are the foundation of programming. They define what kind of data we can store and how we can manipulate it. Think of data types as different containers - each designed to hold specific types of information.\n",
    "\n",
    "### Why Data Types Matter\n",
    "- **Memory Efficiency**: Different data types use different amounts of memory\n",
    "- **Operations**: Certain operations only work with specific data types\n",
    "- **Error Prevention**: Using the right data type helps prevent bugs\n",
    "- **Performance**: Choosing the right data type can make your code faster\n",
    "\n",
    "### Python's Dynamic Typing\n",
    "Python is a **dynamically typed** language, which means:\n",
    "- You don't need to declare the data type when creating a variable\n",
    "- Python automatically determines the type based on the value you assign\n",
    "- A variable can change its type during execution\n",
    "\n",
    "Let's explore Python's data types through practical examples!"
   ]
  },
  {
   "attachments": {},
   "cell_type": "markdown",
   "id": "calculator_intro",
   "metadata": {
    "cellIdentifier": "calculator_intro",
    "nbgrader": {
     "grade": false,
     "locked": false,
     "solution": false
    },
    "vocVersion": "1.1"
   },
   "source": [
    "## 2. Python as a Calculator\n",
    "\n",
    "Before diving into data types, let's see how Python handles basic mathematical operations. Python is an excellent calculator that can handle complex mathematical expressions.\n",
    "\n",
    "### Basic Arithmetic Operations\n",
    "Python supports all standard mathematical operations:"
   ]
  },
  {
   "cell_type": "code",
   "id": "arithmetic_examples",
   "metadata": {
    "cellIdentifier": "arithmetic_examples",
    "nbgrader": {
     "grade": false,
     "locked": false,
     "solution": false
    },
    "vocVersion": "1.1",
    "ExecuteTime": {
     "end_time": "2025-07-28T16:44:42.556114Z",
     "start_time": "2025-07-28T16:44:42.550614Z"
    }
   },
   "source": [
    "from numpy.ma.extras import average\n",
    "\n",
    "# Example 1: Basic arithmetic operations\n",
    "print(\"=== Basic Arithmetic Operations ===\")\n",
    "#we add stuff\n",
    "4 + 5\n"
   ],
   "outputs": [
    {
     "name": "stdout",
     "output_type": "stream",
     "text": [
      "=== Basic Arithmetic Operations ===\n"
     ]
    },
    {
     "data": {
      "text/plain": [
       "9"
      ]
     },
     "execution_count": 2,
     "metadata": {},
     "output_type": "execute_result"
    }
   ],
   "execution_count": 2
  },
  {
   "metadata": {
    "ExecuteTime": {
     "end_time": "2025-07-28T16:49:03.218147Z",
     "start_time": "2025-07-28T16:49:03.214826Z"
    }
   },
   "cell_type": "code",
   "source": "7 - 4",
   "id": "29dc268be4009796",
   "outputs": [
    {
     "data": {
      "text/plain": [
       "3"
      ]
     },
     "execution_count": 6,
     "metadata": {},
     "output_type": "execute_result"
    }
   ],
   "execution_count": 6
  },
  {
   "metadata": {
    "ExecuteTime": {
     "end_time": "2025-07-28T16:49:20.386472Z",
     "start_time": "2025-07-28T16:49:20.382675Z"
    }
   },
   "cell_type": "code",
   "source": "5 * 5",
   "id": "aff2c74b39212446",
   "outputs": [
    {
     "data": {
      "text/plain": [
       "25"
      ]
     },
     "execution_count": 7,
     "metadata": {},
     "output_type": "execute_result"
    }
   ],
   "execution_count": 7
  },
  {
   "metadata": {
    "ExecuteTime": {
     "end_time": "2025-07-28T16:49:43.186515Z",
     "start_time": "2025-07-28T16:49:43.183589Z"
    }
   },
   "cell_type": "code",
   "source": "2**4",
   "id": "5d4316be18f7112c",
   "outputs": [
    {
     "data": {
      "text/plain": [
       "16"
      ]
     },
     "execution_count": 8,
     "metadata": {},
     "output_type": "execute_result"
    }
   ],
   "execution_count": 8
  },
  {
   "metadata": {
    "ExecuteTime": {
     "end_time": "2025-07-28T16:53:47.555371Z",
     "start_time": "2025-07-28T16:53:47.552420Z"
    }
   },
   "cell_type": "code",
   "source": "17/3",
   "id": "5009b20c507d0514",
   "outputs": [
    {
     "data": {
      "text/plain": [
       "5.666666666666667"
      ]
     },
     "execution_count": 13,
     "metadata": {},
     "output_type": "execute_result"
    }
   ],
   "execution_count": 13
  },
  {
   "metadata": {
    "ExecuteTime": {
     "end_time": "2025-07-28T16:51:16.664702Z",
     "start_time": "2025-07-28T16:51:16.662088Z"
    }
   },
   "cell_type": "code",
   "source": [
    "#modular operator - outputs the remainder\n",
    "17 % 5"
   ],
   "id": "10df6055dbd15ad0",
   "outputs": [
    {
     "data": {
      "text/plain": [
       "2"
      ]
     },
     "execution_count": 10,
     "metadata": {},
     "output_type": "execute_result"
    }
   ],
   "execution_count": 10
  },
  {
   "metadata": {
    "ExecuteTime": {
     "end_time": "2025-07-28T16:53:11.296421Z",
     "start_time": "2025-07-28T16:53:11.293711Z"
    }
   },
   "cell_type": "code",
   "source": [
    "#floor division - division with result rounded down\n",
    "17 // 3"
   ],
   "id": "a10d4f238675d541",
   "outputs": [
    {
     "data": {
      "text/plain": [
       "5"
      ]
     },
     "execution_count": 12,
     "metadata": {},
     "output_type": "execute_result"
    }
   ],
   "execution_count": 12
  },
  {
   "attachments": {},
   "cell_type": "markdown",
   "id": "operator_precedence",
   "metadata": {
    "cellIdentifier": "operator_precedence",
    "nbgrader": {
     "grade": false,
     "locked": false,
     "solution": false
    },
    "vocVersion": "1.1"
   },
   "source": [
    "bb### Operator Precedence and Order of Operations\n",
    "\n",
    "Python follows the standard mathematical order of operations (PEMDAS):\n",
    "\n",
    "1. **P**arentheses\n",
    "2. **E**xponentiation\n",
    "3. **M**ultiplication and **D**ivision (left to right)\n",
    "4. **A**ddition and **S**ubtraction (left to right)\n",
    "\n",
    "Let's see this in action:"
   ]
  },
  {
   "cell_type": "code",
   "execution_count": null,
   "id": "precedence_examples",
   "metadata": {
    "cellIdentifier": "precedence_examples",
    "nbgrader": {
     "grade": false,
     "locked": false,
     "solution": false
    },
    "vocVersion": "1.1"
   },
   "outputs": [],
   "source": [
    "# Example 2: Operator precedence\n",
    "print(\"=== Operator Precedence Examples ===\")"
   ]
  },
  {
   "attachments": {},
   "cell_type": "markdown",
   "id": "arithmetic_exercise",
   "metadata": {
    "cellIdentifier": "arithmetic_exercise",
    "nbgrader": {
     "grade": false,
     "locked": false,
     "solution": false
    },
    "vocVersion": "1.1"
   },
   "source": [
    "## 🎯 **Exercise 1: Arithmetic Operations**\n",
    "\n",
    "**Scenario:** You're calculating the total cost for a science lab project. Complete the following calculations:\n",
    "\n",
    "1. Calculate the area of a rectangle (length × width)\n",
    "2. Calculate the volume of a cube (side³)\n",
    "3. Calculate the average of three test scores\n",
    "4. Calculate the percentage (part/total × 100)\n",
    "5. Use parentheses to ensure correct order of operations"
   ]
  },
  {
   "cell_type": "code",
   "execution_count": null,
   "id": "arithmetic_exercise_code",
   "metadata": {
    "cellIdentifier": "arithmetic_exercise_code",
    "nbgrader": {
     "grade": false,
     "locked": false,
     "solution": false
    },
    "vocVersion": "1.1"
   },
   "outputs": [],
   "source": [
    "# Your code here - Science Lab Calculations\n",
    "\n",
    "# Given values\n",
    "length = 15.5\n",
    "width = 8.2\n",
    "cube_side = 6\n",
    "test_scores = [85, 92, 78]\n",
    "part_score = 42\n",
    "total_score = 50\n",
    "\n",
    "print(\"🧪 SCIENCE LAB CALCULATIONS 🧪\")\n",
    "print(\"=\" * 40)\n",
    "\n",
    "# TODO: Calculate rectangle area\n",
    "length * width\n",
    "\n",
    "# TODO: Calculate cube volume\n",
    "length * width * cube_side\n",
    "\n",
    "# TODO: Calculate average test score\n",
    "(85 + 92 + 78) / 3\n",
    "\n",
    "# TODO: Calculate percentage\n",
    "(part_score / total_score) * 100\n",
    "\n",
    "# TODO: Complex calculation with parentheses\n",
    "# Calculate: (area + volume) / 2 + 10\n",
    "(length * width) / cube_side\n"
   ]
  },
  {
   "attachments": {},
   "cell_type": "markdown",
   "id": "oajiq0t6e1l5atuj0z0yaw",
   "metadata": {
    "cellIdentifier": "oajiq0t6e1l5atuj0z0yaw",
    "nbgrader": {
     "grade": false,
     "locked": false,
     "solution": false
    },
    "vocVersion": "1.1"
   },
   "source": [
    "### What is `(5 + 2) * 3`?"
   ]
  },
  {
   "cell_type": "code",
   "id": "cg4x91ndry5w2t0veswgj",
   "metadata": {
    "cellIdentifier": "cg4x91ndry5w2t0veswgj",
    "nbgrader": {
     "grade": false,
     "locked": false,
     "solution": false
    },
    "vocVersion": "1.1",
    "ExecuteTime": {
     "end_time": "2025-07-28T17:09:51.706354Z",
     "start_time": "2025-07-28T17:09:51.702359Z"
    }
   },
   "source": "(5 + 2) * 3",
   "outputs": [
    {
     "data": {
      "text/plain": [
       "21"
      ]
     },
     "execution_count": 14,
     "metadata": {},
     "output_type": "execute_result"
    }
   ],
   "execution_count": 14
  },
  {
   "attachments": {},
   "cell_type": "markdown",
   "id": "variables_intro",
   "metadata": {
    "cellIdentifier": "variables_intro",
    "nbgrader": {
     "grade": false,
     "locked": false,
     "solution": false
    },
    "vocVersion": "1.1"
   },
   "source": [
    "## 3. Variables and Data Types\n",
    "\n",
    "Variables are like labeled containers that store data. They allow us to save values and use them later without having to remember the actual numbers or text.\n",
    "\n",
    "### What are Variables?\n",
    "- **Containers**: Variables hold data of different types\n",
    "- **Reusable**: You can use the same variable multiple times\n",
    "- **Changeable**: Variables can be updated with new values\n",
    "- **Named**: Variables have descriptive names to make code readable\n",
    "\n",
    "### Python's Built-in Data Types\n",
    "\n",
    "Python has several fundamental data types, each designed for specific purposes:\n",
    "\n",
    "| Data Type | Description | Examples | Use Cases |\n",
    "|-----------|-------------|----------|-----------|\n",
    "| `int` | Whole numbers | `42`, `-17`, `0` | Counting, ages, scores |\n",
    "| `float` | Decimal numbers | `3.14`, `-2.5`, `0.0` | Measurements, calculations |\n",
    "| `str` | Text/strings | `\"Hello\"`, `'Python'` | Names, messages, text data |\n",
    "| `bool` | True/False values | `True`, `False` | Conditions, flags |\n",
    "| `list` | Ordered collections | `[1, 2, 3]`, `[\"a\", \"b\"]` | Sequences, groups of items |\n",
    "| `tuple` | Immutable collections | `(1, 2, 3)`, `(\"x\", \"y\")` | Fixed data, coordinates |\n",
    "| `dict` | Key-value pairs | `{\"name\": \"John\"}` | Structured data, settings |\n",
    "| `set` | Unique collections | `{1, 2, 3}` | Unique items, mathematical sets |\n",
    "\n",
    "Let's explore each of these in detail!"
   ]
  },
  {
   "attachments": {},
   "cell_type": "markdown",
   "id": "numeric_types",
   "metadata": {
    "cellIdentifier": "numeric_types",
    "nbgrader": {
     "grade": false,
     "locked": false,
     "solution": false
    },
    "vocVersion": "1.1"
   },
   "source": [
    "### 3.1 Numeric Data Types: Integers and Floats\n",
    "\n",
    "Python has two main numeric data types:\n",
    "\n",
    "#### **Integers (`int`)**\n",
    "- Whole numbers (positive, negative, or zero)\n",
    "- No decimal point\n",
    "- Examples: `42`, `-17`, `0`, `1000000`\n",
    "\n",
    "#### **Floats (`float`)**\n",
    "- Numbers with decimal points\n",
    "- Can represent fractions and real numbers\n",
    "- Examples: `3.14`, `-2.5`, `0.0`, `42.0`\n",
    "\n",
    "Let's explore these with examples:"
   ]
  },
  {
   "cell_type": "code",
   "id": "numeric_examples",
   "metadata": {
    "cellIdentifier": "numeric_examples",
    "nbgrader": {
     "grade": false,
     "locked": false,
     "solution": false
    },
    "vocVersion": "1.1",
    "ExecuteTime": {
     "end_time": "2025-07-28T17:49:55.581725Z",
     "start_time": "2025-07-28T17:49:55.577907Z"
    }
   },
   "source": [
    "# Example 3: Numeric data types\n",
    "print(\"=== Numeric Data Types ===\")\n",
    "\n",
    "# Integers\n",
    "age = 25\n",
    "temperature = -5\n",
    "population = 8000000\n",
    "\n",
    "# Floats\n",
    "pi = 3.14159\n",
    "height = 1.75\n",
    "price = 19.99\n",
    "\n",
    "# Type conversion\n",
    "\n",
    "\n",
    "# Mathematical operations with different types"
   ],
   "outputs": [
    {
     "name": "stdout",
     "output_type": "stream",
     "text": [
      "=== Numeric Data Types ===\n"
     ]
    }
   ],
   "execution_count": 20
  },
  {
   "metadata": {
    "ExecuteTime": {
     "end_time": "2025-07-28T17:51:14.249104Z",
     "start_time": "2025-07-28T17:51:14.245257Z"
    }
   },
   "cell_type": "code",
   "source": [
    "# type will output the type of data the input is\n",
    "# type (input)\n",
    "type (pi)"
   ],
   "id": "96502299abbd89c6",
   "outputs": [
    {
     "data": {
      "text/plain": [
       "float"
      ]
     },
     "execution_count": 22,
     "metadata": {},
     "output_type": "execute_result"
    }
   ],
   "execution_count": 22
  },
  {
   "metadata": {
    "ExecuteTime": {
     "end_time": "2025-07-28T17:52:42.070279Z",
     "start_time": "2025-07-28T17:52:42.066486Z"
    }
   },
   "cell_type": "code",
   "source": "type (age)",
   "id": "785dc4022c243f9f",
   "outputs": [
    {
     "data": {
      "text/plain": [
       "int"
      ]
     },
     "execution_count": 23,
     "metadata": {},
     "output_type": "execute_result"
    }
   ],
   "execution_count": 23
  },
  {
   "metadata": {
    "ExecuteTime": {
     "end_time": "2025-07-28T17:53:45.758156Z",
     "start_time": "2025-07-28T17:53:45.754887Z"
    }
   },
   "cell_type": "code",
   "source": [
    "#python can automatically convert integers to floats unlike other languages\n",
    "2 + 2.0"
   ],
   "id": "31a516caf299e8a9",
   "outputs": [
    {
     "data": {
      "text/plain": [
       "4.0"
      ]
     },
     "execution_count": 24,
     "metadata": {},
     "output_type": "execute_result"
    }
   ],
   "execution_count": 24
  },
  {
   "metadata": {
    "ExecuteTime": {
     "end_time": "2025-07-28T17:56:47.846091Z",
     "start_time": "2025-07-28T17:56:47.843284Z"
    }
   },
   "cell_type": "code",
   "source": [
    "#you can cast integers as floats and vice versa\n",
    "#pi is a float, we will cast it as an int\n",
    "int(pi)"
   ],
   "id": "798c86f68f463ba3",
   "outputs": [
    {
     "data": {
      "text/plain": [
       "3"
      ]
     },
     "execution_count": 26,
     "metadata": {},
     "output_type": "execute_result"
    }
   ],
   "execution_count": 26
  },
  {
   "attachments": {},
   "cell_type": "markdown",
   "id": "variable_naming",
   "metadata": {
    "cellIdentifier": "variable_naming",
    "nbgrader": {
     "grade": false,
     "locked": false,
     "solution": false
    },
    "vocVersion": "1.1"
   },
   "source": [
    "### 3.2 Variable Naming Best Practices\n",
    "\n",
    "As Phil Karlton once said:\n",
    "> _\"There are only two hard things in Computer Science: cache invalidation and naming things.\"_\n",
    "\n",
    "Good variable names make your code readable and maintainable. Here are the essential rules and conventions:\n",
    "\n",
    "#### **Mandatory Rules**\n",
    "1. **Letters, numbers, and underscores only**\n",
    "2. **Cannot start with a number**\n",
    "3. **Cannot use Python keywords** (`if`, `else`, `while`, `for`, etc.)\n",
    "4. **Case sensitive** (`age` and `Age` are different variables)\n",
    "\n",
    "#### **Recommended Conventions**\n",
    "1. **Use descriptive names**: `student_age` instead of `a`\n",
    "2. **Use lowercase with underscores** (`snake_case`): `first_name`, `total_score`\n",
    "3. **Avoid single letters** except for counters (`i`, `j`, `k` in loops)\n",
    "4. **Don't start with underscore** (has special meaning in Python)\n",
    "5. **Avoid built-in function names** (`print`, `list`, `dict`)\n",
    "\n",
    "#### **Examples of Good vs Bad Names**\n",
    "\n",
    "| ✅ Good Names | ❌ Bad Names | Why? |\n",
    "|---------------|--------------|------|\n",
    "| `student_name` | `n` | Too short, unclear |\n",
    "| `total_score` | `ts` | Abbreviation unclear |\n",
    "| `is_active` | `flag` | Too generic |\n",
    "| `user_age` | `age` | Could be ambiguous |\n",
    "| `first_name` | `firstName` | Not Python convention |\n",
    "\n",
    "Let's see some examples:"
   ]
  },
  {
   "cell_type": "code",
   "execution_count": null,
   "id": "naming_examples",
   "metadata": {
    "cellIdentifier": "naming_examples",
    "nbgrader": {
     "grade": false,
     "locked": false,
     "solution": false
    },
    "vocVersion": "1.1"
   },
   "outputs": [],
   "source": [
    "# Example 4: Variable naming examples\n",
    "print(\"=== Good Variable Naming Examples ===\")\n",
    "\n",
    "# Good names - descriptive and clear\n",
    "student_name = \"Alice Johnson\"\n",
    "student_age = 20\n",
    "course_grade = 95.5\n",
    "is_enrolled = True\n",
    "total_courses = 4"
   ]
  },
  {
   "attachments": {},
   "cell_type": "markdown",
   "id": "data_types_exercise",
   "metadata": {
    "cellIdentifier": "data_types_exercise",
    "nbgrader": {
     "grade": false,
     "locked": false,
     "solution": false
    },
    "vocVersion": "1.1"
   },
   "source": [
    "## 🎯 **Exercise 2: Variables and Data Types**\n",
    "\n",
    "**Scenario:** You're creating a student information system. Complete the following tasks:\n",
    "\n",
    "1. Create variables with appropriate names for student information\n",
    "2. Use different data types (int, float, str, bool)\n",
    "3. Display the information in a formatted way\n",
    "4. Check the data types of your variables (use type(variabel))\n",
    "5. Perform some calculations with the data"
   ]
  },
  {
   "cell_type": "code",
   "id": "data_types_exercise_code",
   "metadata": {
    "cellIdentifier": "data_types_exercise_code",
    "nbgrader": {
     "grade": false,
     "locked": false,
     "solution": false
    },
    "vocVersion": "1.1",
    "ExecuteTime": {
     "end_time": "2025-07-28T18:09:53.520891Z",
     "start_time": "2025-07-28T18:09:53.515868Z"
    }
   },
   "source": [
    "# Your code here - Student Information System\n",
    "\n",
    "print(\"🎓 STUDENT INFORMATION SYSTEM 🎓\")\n",
    "print(\"=\" * 50)\n",
    "\n",
    "# TODO: Create variables for student information\n",
    "# Use descriptive names and appropriate data types\n",
    "# Include: name, age, GPA, major, is_international, courses_taken\n",
    "student_name = \"Mike Sorola\"\n",
    "student_age = 18\n",
    "gpa = 3.0\n",
    "major = (\"Engineering\")\n",
    "is_international = False\n",
    "courses_taken = 20\n",
    "\n",
    "\n",
    "# TODO: Display student information in a formatted way\n",
    "print(\"Student Name = \", (student_name))\n",
    "print(\"Student Age = \", (student_age))\n",
    "print(\"GPA = \", (gpa))\n",
    "print(\"Major Course = \", (major))\n",
    "print(\"Is International? = \", (is_international))\n",
    "print(\"Total Courses = \", (courses_taken))\n",
    "\n",
    "\n",
    "# TODO: Check and display data types\n",
    "print(\"Student Name = \", type(student_name))\n",
    "print(\"Student Age = \", type(student_age))\n",
    "print(\"Student GPA = \", type(gpa))\n",
    "print(\"Student Major = \", type(major))\n",
    "print(\"Student Courses Taken = \", type(courses_taken))\n",
    "\n",
    "\n",
    "\n",
    "# TODO: Perform calculations\n",
    "# Calculate: GPA * 100, age + 5, courses_taken * 3 (credits per course)\n",
    "print(gpa * 100)\n",
    "\n"
   ],
   "outputs": [
    {
     "name": "stdout",
     "output_type": "stream",
     "text": [
      "🎓 STUDENT INFORMATION SYSTEM 🎓\n",
      "==================================================\n",
      "Student Name =  Mike Sorola\n",
      "Student Age =  18\n",
      "GPA =  3.0\n",
      "Major Course =  Engineering\n",
      "Is International? =  False\n",
      "Total Courses =  20\n",
      "Student Name =  <class 'str'>\n",
      "Student Age =  <class 'int'>\n",
      "Student GPA =  <class 'float'>\n",
      "Student Major =  <class 'str'>\n",
      "Student Courses Taken =  <class 'int'>\n",
      "300.0\n"
     ]
    }
   ],
   "execution_count": 36
  },
  {
   "attachments": {},
   "cell_type": "markdown",
   "id": "giiowe14ra6oj8zd8zcpv8",
   "metadata": {
    "cellIdentifier": "giiowe14ra6oj8zd8zcpv8",
    "nbgrader": {
     "grade": false,
     "locked": false,
     "solution": false
    },
    "vocVersion": "1.1"
   },
   "source": ""
  },
  {
   "attachments": {},
   "cell_type": "markdown",
   "id": "strings_intro",
   "metadata": {
    "cellIdentifier": "strings_intro",
    "nbgrader": {
     "grade": false,
     "locked": false,
     "solution": false
    },
    "vocVersion": "1.1"
   },
   "source": [
    "## 4. Strings: Working with Text Data\n",
    "\n",
    "Strings are Python's way of handling text data. They're one of the most commonly used data types because text is everywhere in programming - from user input to file names to messages.\n",
    "\n",
    "### What are Strings?\n",
    "- **Sequence of characters**: Letters, numbers, symbols, spaces\n",
    "- **Immutable**: Once created, you can't change individual characters\n",
    "- **Indexed**: Each character has a position (starting from 0)\n",
    "- **Flexible**: Can contain any text, including numbers and symbols\n",
    "\n",
    "### Creating Strings\n",
    "You can create strings using single quotes (`'`) or double quotes (`\"`):\n",
    "\n",
    "```python\n",
    "name = 'Alice'           # Single quotes\n",
    "message = \"Hello!\"       # Double quotes\n",
    "```\n",
    "\n",
    "**Pro Tip**: Use double quotes when your string contains apostrophes, and single quotes when it contains double quotes.\n",
    "\n",
    "Let's explore strings with examples:"
   ]
  },
  {
   "cell_type": "code",
   "execution_count": null,
   "id": "string_examples",
   "metadata": {
    "cellIdentifier": "string_examples",
    "nbgrader": {
     "grade": false,
     "locked": false,
     "solution": false
    },
    "vocVersion": "1.1"
   },
   "outputs": [],
   "source": [
    "# Example 5: String basics\n",
    "print(\"=== String Basics ===\")\n",
    "\n",
    "# Creating strings\n",
    "first_name = 'Alice'\n",
    "last_name = \"Johnson\"\n",
    "message = \"Don't worry about apostrophes\"\n",
    "quote = 'She said \"Hello!\"'\n"
   ]
  },
  {
   "attachments": {},
   "cell_type": "markdown",
   "id": "string_methods_intro",
   "metadata": {
    "cellIdentifier": "string_methods_intro",
    "nbgrader": {
     "grade": false,
     "locked": false,
     "solution": false
    },
    "vocVersion": "1.1"
   },
   "source": [
    "### 4.1 String Methods and Operations\n",
    "\n",
    "Strings come with many built-in methods that make text manipulation easy. Here are some of the most commonly used ones:\n",
    "\n",
    "#### **Common String Methods**\n",
    "\n",
    "| Method | Description | Example |\n",
    "|--------|-------------|---------|\n",
    "| `.upper()` | Convert to uppercase | `\"hello\".upper()` → `\"HELLO\"` |\n",
    "| `.lower()` | Convert to lowercase | `\"WORLD\".lower()` → `\"world\"` |\n",
    "| `.strip()` | Remove whitespace | `\"  text  \".strip()` → `\"text\"` |\n",
    "| `.replace()` | Replace text | `\"hello\".replace(\"l\", \"x\")` → `\"hexxo\"` |\n",
    "| `.split()` | Split into list | `\"a,b,c\".split(\",\")` → `[\"a\", \"b\", \"c\"]` |\n",
    "| `.join()` | Join list into string | `\"-\".join([\"a\", \"b\", \"c\"])` → `\"a-b-c\"` |\n",
    "| `.find()` | Find substring position | `\"hello\".find(\"ll\")` → `2` |\n",
    "| `.count()` | Count occurrences | `\"hello\".count(\"l\")` → `2` |\n",
    "\n",
    "Let's explore these methods:"
   ]
  },
  {
   "cell_type": "code",
   "id": "string_methods_examples",
   "metadata": {
    "cellIdentifier": "string_methods_examples",
    "nbgrader": {
     "grade": false,
     "locked": false,
     "solution": false
    },
    "vocVersion": "1.1",
    "ExecuteTime": {
     "end_time": "2025-07-28T18:19:24.533615Z",
     "start_time": "2025-07-28T18:19:24.530851Z"
    }
   },
   "source": [
    "# Example 6: String methods\n",
    "print(\"=== String Methods ===\")\n",
    "\n",
    "# Sample text\n",
    "text = \"  Python Programming is FUN!  \""
   ],
   "outputs": [
    {
     "name": "stdout",
     "output_type": "stream",
     "text": [
      "=== String Methods ===\n"
     ]
    }
   ],
   "execution_count": 37
  },
  {
   "metadata": {
    "ExecuteTime": {
     "end_time": "2025-07-28T18:19:45.303636Z",
     "start_time": "2025-07-28T18:19:45.299644Z"
    }
   },
   "cell_type": "code",
   "source": "text.upper()",
   "id": "ce2cb727457bdb1a",
   "outputs": [
    {
     "data": {
      "text/plain": [
       "'  PYTHON PROGRAMMING IS FUN!  '"
      ]
     },
     "execution_count": 38,
     "metadata": {},
     "output_type": "execute_result"
    }
   ],
   "execution_count": 38
  },
  {
   "metadata": {
    "ExecuteTime": {
     "end_time": "2025-07-28T18:20:06.588586Z",
     "start_time": "2025-07-28T18:20:06.584659Z"
    }
   },
   "cell_type": "code",
   "source": [
    "#strip removes the leading and trailing whitespace\n",
    "text.strip()"
   ],
   "id": "7e056909be680709",
   "outputs": [
    {
     "data": {
      "text/plain": [
       "'Python Programming is FUN!'"
      ]
     },
     "execution_count": 39,
     "metadata": {},
     "output_type": "execute_result"
    }
   ],
   "execution_count": 39
  },
  {
   "metadata": {
    "ExecuteTime": {
     "end_time": "2025-07-28T18:27:01.152924Z",
     "start_time": "2025-07-28T18:27:01.148785Z"
    }
   },
   "cell_type": "code",
   "source": [
    "#can combine methods, example: normalize your text to all lowercase and then replace it, so you don't have to know the case of the original string\n",
    "text.lower().replace(\"fun\", \"AMAZING\")"
   ],
   "id": "1f2bccc4e9d35ceb",
   "outputs": [
    {
     "data": {
      "text/plain": [
       "'  python programming is AMAZING!  '"
      ]
     },
     "execution_count": 40,
     "metadata": {},
     "output_type": "execute_result"
    }
   ],
   "execution_count": 40
  },
  {
   "metadata": {
    "ExecuteTime": {
     "end_time": "2025-07-28T18:29:55.375745Z",
     "start_time": "2025-07-28T18:29:55.372418Z"
    }
   },
   "cell_type": "code",
   "source": [
    "#count will count the number of a specific character type\n",
    "text.count(\"FUN\")"
   ],
   "id": "2ab16cb6c42a3a9a",
   "outputs": [
    {
     "data": {
      "text/plain": [
       "1"
      ]
     },
     "execution_count": 41,
     "metadata": {},
     "output_type": "execute_result"
    }
   ],
   "execution_count": 41
  },
  {
   "attachments": {},
   "cell_type": "markdown",
   "id": "string_exercise",
   "metadata": {
    "cellIdentifier": "string_exercise",
    "nbgrader": {
     "grade": false,
     "locked": false,
     "solution": false
    },
    "vocVersion": "1.1"
   },
   "source": [
    "## 🎯 **Exercise 3: String Manipulation**\n",
    "\n",
    "**Scenario:** You're processing text data for a research project. Complete the following tasks:\n",
    "\n",
    "1. Clean and format a messy text string\n",
    "2. Extract specific information from the text\n",
    "3. Count occurrences of certain words\n",
    "4. Create a formatted summary\n",
    "5. Use different string methods to transform the text"
   ]
  },
  {
   "cell_type": "code",
   "id": "string_exercise_code",
   "metadata": {
    "cellIdentifier": "string_exercise_code",
    "nbgrader": {
     "grade": false,
     "locked": false,
     "solution": false
    },
    "vocVersion": "1.1",
    "ExecuteTime": {
     "end_time": "2025-07-28T18:35:59.624609Z",
     "start_time": "2025-07-28T18:35:59.620808Z"
    }
   },
   "source": [
    "# Your code here - Text Processing Project\n",
    "\n",
    "# Sample research text (messy data)\n",
    "research_text = \"  PYTHON programming is ESSENTIAL for data science.  \"\n",
    "research_text += \"Python is used in machine learning, AI, and web development.  \"\n",
    "research_text += \"python is also popular for automation and scripting.\"\n",
    "\n",
    "print(\"📊 TEXT PROCESSING PROJECT 📊\")\n",
    "print(\"=\" * 50)\n",
    "print(f\"Original text: '{research_text}'\")\n",
    "print(\"=\" * 50)\n",
    "\n",
    "# TODO: Clean the text (remove extra spaces, normalize case)\n",
    "\n",
    "research_text.strip().replace(\"python\", \"Python\")\n"
   ],
   "outputs": [
    {
     "name": "stdout",
     "output_type": "stream",
     "text": [
      "📊 TEXT PROCESSING PROJECT 📊\n",
      "==================================================\n",
      "Original text: '  PYTHON programming is ESSENTIAL for data science.  Python is used in machine learning, AI, and web development.  python is also popular for automation and scripting.'\n",
      "==================================================\n"
     ]
    },
    {
     "data": {
      "text/plain": [
       "'PYTHON programming is ESSENTIAL for data science.  Python is used in machine learning, AI, and web development.  Python is also popular for automation and scripting.'"
      ]
     },
     "execution_count": 44,
     "metadata": {},
     "output_type": "execute_result"
    }
   ],
   "execution_count": 44
  },
  {
   "attachments": {},
   "cell_type": "markdown",
   "id": "9vk25cx75d1l31s0wzx6u",
   "metadata": {
    "cellIdentifier": "9vk25cx75d1l31s0wzx6u",
    "nbgrader": {
     "grade": false,
     "locked": false,
     "solution": false
    },
    "vocVersion": "1.1"
   },
   "source": [
    "## Playing with Strings in Python!\n",
    "\n",
    "Strings aren't just about storing text. We have operations we can perform on them. In Python, every element belongs to a specific **data type**, and each of these types comes packed with its own set of **methods**. Think of methods as the unique abilities or actions that a particular data type can perform.\n",
    "\n",
    "To use a method, follow this neat syntax:\n",
    "\n",
    "```python\n",
    "variable.method(arguments)\n",
    "```"
   ]
  },
  {
   "attachments": {},
   "cell_type": "markdown",
   "id": "qqswl6fw7jqjgm0zoa4rq8",
   "metadata": {
    "cellIdentifier": "qqswl6fw7jqjgm0zoa4rq8",
    "nbgrader": {
     "grade": false,
     "locked": false,
     "solution": false
    },
    "vocVersion": "1.1"
   },
   "source": [
    "## String Operations in Python\n",
    "\n",
    "Strings in Python are versatile, and there's a lot we can do with them. Below are some common string operations:\n",
    "\n",
    "### 1. Concatenation\n",
    "Combining two or more strings.\n",
    "\n",
    "```python\n",
    "string1 = \"Hello\"\n",
    "string2 = \"World\"\n",
    "combined = string1 + \" \" + string2\n",
    "print(combined)  # Outputs: Hello World\n",
    "```\n",
    "\n",
    "### 2. Repetition\n",
    "Repeating a string multiple times.\n",
    "\n",
    "```python\n",
    "echo = \"Echo \" * 3\n",
    "print(echo)  # Outputs: Echo Echo Echo \n",
    "```\n",
    "\n",
    "### 3. Indexing\n",
    "Accessing a particular character in a string.\n",
    "\n",
    "```python\n",
    "word = \"Python\"\n",
    "print(word[0])  # Outputs: P\n",
    "```\n",
    "\n",
    "### 4. Slicing\n",
    "Extracting a portion of the string.\n",
    "\n",
    "```python\n",
    "text = \"programming\"\n",
    "slice = text[1:4]\n",
    "print(slice)  # Outputs: rog\n",
    "```\n",
    "\n",
    "### 5. Finding Substrings\n",
    "Locating a substring within a string.\n",
    "\n",
    "```python\n",
    "sentence = \"The quick brown fox\"\n",
    "position = sentence.find(\"brown\")\n",
    "print(position)  # Outputs: 10\n",
    "```\n",
    "\n",
    "### 6. Replacing Substrings\n",
    "Replacing parts of the string with another.\n",
    "\n",
    "```python\n",
    "greeting = \"Good morning!\"\n",
    "new_greeting = greeting.replace(\"morning\", \"afternoon\")\n",
    "print(new_greeting)  # Outputs: Good afternoon!\n",
    "```\n",
    "\n",
    "### 7. String Length\n",
    "Getting the number of characters in a string.\n",
    "\n",
    "```python\n",
    "name = \"Charlie\"\n",
    "length = len(name)\n",
    "print(length)  # Outputs: 8\n",
    "```\n",
    "\n",
    "### 8. Converting to Upper and Lower Case\n",
    "\n",
    "```python\n",
    "text = \"Case\"\n",
    "upper_text = text.upper()\n",
    "lower_text = text.lower()\n",
    "print(upper_text)  # Outputs: CASE\n",
    "print(lower_text)  # Outputs: case\n",
    "```\n",
    "\n",
    "### 9. Stripping Whitespaces\n",
    "Removing leading and trailing whitespaces.\n",
    "\n",
    "```python\n",
    "phrase = \"   extra spaces   \"\n",
    "cleaned = phrase.strip()\n",
    "print(cleaned)  # Outputs: extra spaces\n",
    "```\n",
    "\n",
    "Remember, these are just a few of the many string operations available in Python. The `str` class in Python's standard library offers a comprehensive set of methods to manipulate and analyze strings.\n",
    "\n",
    "## 🎯 **Exercise 4: Given the following strings (you may choose your own as well), perform 5 out of the operations above"
   ]
  },
  {
   "cell_type": "code",
   "id": "ws2mvlkxc7mau8aaiizo8g",
   "metadata": {
    "cellIdentifier": "ws2mvlkxc7mau8aaiizo8g",
    "nbgrader": {
     "grade": false,
     "locked": false,
     "solution": false
    },
    "vocVersion": "1.1",
    "ExecuteTime": {
     "end_time": "2025-07-28T18:59:07.895600Z",
     "start_time": "2025-07-28T18:59:07.893500Z"
    }
   },
   "source": [
    "string_1 = \"Be quiet\"\n",
    "string_2 = \"this is a library!\""
   ],
   "outputs": [],
   "execution_count": 45
  },
  {
   "metadata": {
    "ExecuteTime": {
     "end_time": "2025-07-28T18:59:40.020839Z",
     "start_time": "2025-07-28T18:59:40.017466Z"
    }
   },
   "cell_type": "code",
   "source": [
    "#add two strings\n",
    "string_1 + \" \" + string_2"
   ],
   "id": "a60a0aa2eea59af7",
   "outputs": [
    {
     "data": {
      "text/plain": [
       "'Be quiet this is a library!'"
      ]
     },
     "execution_count": 47,
     "metadata": {},
     "output_type": "execute_result"
    }
   ],
   "execution_count": 47
  },
  {
   "metadata": {
    "ExecuteTime": {
     "end_time": "2025-07-28T19:02:52.345961Z",
     "start_time": "2025-07-28T19:02:52.342484Z"
    }
   },
   "cell_type": "code",
   "source": [
    "#slice out a specific part of the text\n",
    "combined_string = string_1 + \" \" + string_2\n",
    "combined_string [3:16]"
   ],
   "id": "265a427f9b1b14a1",
   "outputs": [
    {
     "data": {
      "text/plain": [
       "'quiet this is'"
      ]
     },
     "execution_count": 50,
     "metadata": {},
     "output_type": "execute_result"
    }
   ],
   "execution_count": 50
  },
  {
   "metadata": {
    "ExecuteTime": {
     "end_time": "2025-07-28T19:04:41.693768Z",
     "start_time": "2025-07-28T19:04:41.690326Z"
    }
   },
   "cell_type": "code",
   "source": [
    "#convert some of the string to uppercase\n",
    "string_1.upper() + \" \" + string_2"
   ],
   "id": "4c4178bd618450d5",
   "outputs": [
    {
     "data": {
      "text/plain": [
       "'BE QUIET this is a library!'"
      ]
     },
     "execution_count": 53,
     "metadata": {},
     "output_type": "execute_result"
    }
   ],
   "execution_count": 53
  },
  {
   "metadata": {
    "ExecuteTime": {
     "end_time": "2025-07-28T19:06:05.366390Z",
     "start_time": "2025-07-28T19:06:05.363569Z"
    }
   },
   "cell_type": "code",
   "source": [
    "#find the number of characters in the combined string\n",
    "combined_string = string_1 + \" \" + string_2\n",
    "len(combined_string)"
   ],
   "id": "23254aa5dd4c7dd9",
   "outputs": [
    {
     "data": {
      "text/plain": [
       "27"
      ]
     },
     "execution_count": 54,
     "metadata": {},
     "output_type": "execute_result"
    }
   ],
   "execution_count": 54
  },
  {
   "metadata": {
    "ExecuteTime": {
     "end_time": "2025-07-28T19:08:08.446878Z",
     "start_time": "2025-07-28T19:08:08.442832Z"
    }
   },
   "cell_type": "code",
   "source": [
    "#replace a section of the combined string\n",
    "combined_string.replace(\"library\", \"classroom\")"
   ],
   "id": "779f0747510ab87d",
   "outputs": [
    {
     "data": {
      "text/plain": [
       "'Be quiet this is a classroom!'"
      ]
     },
     "execution_count": 56,
     "metadata": {},
     "output_type": "execute_result"
    }
   ],
   "execution_count": 56
  },
  {
   "attachments": {},
   "cell_type": "markdown",
   "id": "asig2lyr7yh7pdd0u48gkm",
   "metadata": {
    "cellIdentifier": "asig2lyr7yh7pdd0u48gkm",
    "nbgrader": {
     "grade": false,
     "locked": false,
     "solution": false
    },
    "vocVersion": "1.1"
   },
   "source": [
    "## String Manipulation: Indexing and Slicing\n",
    "\n",
    "Strings, among other data types in Python, can be dissected using indexing or slicing. Here are some of the data types that support this:\n",
    "\n",
    "- Strings\n",
    "- Lists\n",
    "- Tuples\n",
    "- Sets\n",
    "\n",
    "---\n",
    "\n",
    "To access elements within these types, you can use the bracket notation. Here are some examples:\n",
    "\n",
    "- `s[0]`: Retrieves the first element.\n",
    "- `s[0:4]`: Retrieves the first 4 elements, starting from index `0`.\n",
    "- `s[-1]`: Accesses the last element.\n",
    "- `s[-2]`: Accesses the second-to-last element.\n",
    "- `s[0:-3]`: Retrieves all elements except the last three.\n",
    "\n",
    "\n",
    "## 🎯 Exercise 5: For the following string s, get me the word \"programming\" from the string. I want it two ways: Using slicing and using .split()"
   ]
  },
  {
   "cell_type": "code",
   "id": "n1jxetqmje9dqmlfeg42f",
   "metadata": {
    "cellIdentifier": "n1jxetqmje9dqmlfeg42f",
    "nbgrader": {
     "grade": false,
     "locked": false,
     "solution": false
    },
    "vocVersion": "1.1",
    "ExecuteTime": {
     "end_time": "2025-07-28T19:47:07.539740Z",
     "start_time": "2025-07-28T19:47:07.537204Z"
    }
   },
   "source": [
    "s = \"Python programming is really fun\"\n",
    "\n"
   ],
   "outputs": [],
   "execution_count": 83
  },
  {
   "metadata": {
    "ExecuteTime": {
     "end_time": "2025-07-28T19:47:23.807510Z",
     "start_time": "2025-07-28T19:47:23.803810Z"
    }
   },
   "cell_type": "code",
   "source": [
    "#accomplish by slicing\n",
    "s[7:18]\n"
   ],
   "id": "fbbf3b911e21f990",
   "outputs": [
    {
     "data": {
      "text/plain": [
       "'programming'"
      ]
     },
     "execution_count": 84,
     "metadata": {},
     "output_type": "execute_result"
    }
   ],
   "execution_count": 84
  },
  {
   "metadata": {
    "ExecuteTime": {
     "end_time": "2025-07-28T21:08:06.994312Z",
     "start_time": "2025-07-28T21:08:06.991625Z"
    }
   },
   "cell_type": "code",
   "source": [
    "#accomplish by splitting\n",
    "\n",
    "print(s.split(\" \")[1]) #s.split splits into lists after every space, then [1] outputs the item in place 1 in the new list, which is the second word \"programming\""
   ],
   "id": "87e7ea550c067127",
   "outputs": [
    {
     "name": "stdout",
     "output_type": "stream",
     "text": [
      "programming\n"
     ]
    }
   ],
   "execution_count": 88
  },
  {
   "attachments": {},
   "cell_type": "markdown",
   "id": "collections_intro",
   "metadata": {
    "cellIdentifier": "collections_intro",
    "nbgrader": {
     "grade": false,
     "locked": false,
     "solution": false
    },
    "vocVersion": "1.1"
   },
   "source": [
    "## 5. Collections: Organizing Multiple Values\n",
    "\n",
    "Collections are data structures that can hold multiple values. They're essential for organizing and managing groups of related data. Python has four main collection types, each with unique characteristics:\n",
    "\n",
    "### Collection Types Overview\n",
    "\n",
    "| Collection | Mutable | Ordered | Duplicates | Syntax | Use Case |\n",
    "|------------|---------|---------|------------|--------|----------|\n",
    "| **List** | ✅ Yes | ✅ Yes | ✅ Yes | `[1, 2, 3]` | Sequences, groups of items |\n",
    "| **Tuple** | ❌ No | ✅ Yes | ✅ Yes | `(1, 2, 3)` | Fixed data, coordinates |\n",
    "| **Dictionary** | ✅ Yes | ❌ No | ❌ No (keys) | `{\"a\": 1}` | Key-value pairs, settings |\n",
    "| **Set** | ✅ Yes | ❌ No | ❌ No | `{1, 2, 3}` | Unique items, mathematical sets |\n",
    "\n",
    "Let's explore each collection type in detail!"
   ]
  },
  {
   "attachments": {},
   "cell_type": "markdown",
   "id": "lists_intro",
   "metadata": {
    "cellIdentifier": "lists_intro",
    "nbgrader": {
     "grade": false,
     "locked": false,
     "solution": false
    },
    "vocVersion": "1.1"
   },
   "source": [
    "### 5.1 Lists: Versatile Collections\n",
    "\n",
    "Lists are the most commonly used collection in Python. They're like flexible containers that can hold any type of data.\n",
    "\n",
    "#### **List Characteristics**\n",
    "- **Mutable**: You can add, remove, or change items\n",
    "- **Ordered**: Items maintain their position\n",
    "- **Indexed**: Access items by position (starting from 0)\n",
    "- **Heterogeneous**: Can contain different data types\n",
    "- **Dynamic**: Can grow or shrink as needed\n",
    "\n",
    "#### **Creating Lists**\n",
    "```python\n",
    "numbers = [1, 2, 3, 4, 5]           # List of integers\n",
    "names = [\"Alice\", \"Bob\", \"Charlie\"]  # List of strings\n",
    "mixed = [1, \"hello\", 3.14, True]     # Mixed types\n",
    "empty = []                          # Empty list\n",
    "```\n",
    "\n",
    "Let's explore lists with examples:"
   ]
  },
  {
   "cell_type": "code",
   "execution_count": null,
   "id": "list_examples",
   "metadata": {
    "cellIdentifier": "list_examples",
    "nbgrader": {
     "grade": false,
     "locked": false,
     "solution": false
    },
    "vocVersion": "1.1"
   },
   "outputs": [],
   "source": [
    "# Example 7: List basics\n",
    "print(\"=== List Basics ===\")\n",
    "\n",
    "# Creating lists\n",
    "numbers = [1, 2, 3, 4, 5]\n",
    "names = [\"Alice\", \"Bob\", \"Charlie\", \"Diana\"]\n",
    "mixed = [42, \"hello\", 3.14, True, [1, 2, 3]]"
   ]
  },
  {
   "attachments": {},
   "cell_type": "markdown",
   "id": "list_operations",
   "metadata": {
    "cellIdentifier": "list_operations",
    "nbgrader": {
     "grade": false,
     "locked": false,
     "solution": false
    },
    "vocVersion": "1.1"
   },
   "source": [
    "### 5.2 List Operations and Methods\n",
    "\n",
    "Lists come with many built-in methods for manipulation. Here are the most commonly used ones:\n",
    "\n",
    "#### **Adding Elements**\n",
    "| Method | Description | Example |\n",
    "|--------|-------------|---------|\n",
    "| `.append(x)` | Add item to end | `list.append(5)` |\n",
    "| `.insert(i, x)` | Insert at position | `list.insert(0, 'start')` |\n",
    "| `.extend(iterable)` | Add multiple items | `list.extend([1, 2, 3])` |\n",
    "\n",
    "#### **Removing Elements**\n",
    "| Method | Description | Example |\n",
    "|--------|-------------|---------|\n",
    "| `.remove(x)` | Remove first occurrence | `list.remove('item')` |\n",
    "| `.pop(i)` | Remove and return item | `item = list.pop(0)` |\n",
    "| `.clear()` | Remove all items | `list.clear()` |\n",
    "\n",
    "#### **Finding Elements**\n",
    "| Method | Description | Example |\n",
    "|--------|-------------|---------|\n",
    "| `.index(x)` | Find position | `pos = list.index('item')` |\n",
    "| `.count(x)` | Count occurrences | `count = list.count(5)` |\n",
    "\n",
    "#### **Organizing Elements**\n",
    "| Method | Description | Example |\n",
    "|--------|-------------|---------|\n",
    "| `.sort()` | Sort in place | `list.sort()` |\n",
    "| `.reverse()` | Reverse in place | `list.reverse()` |\n",
    "| `sorted(list)` | Return sorted copy | `new_list = sorted(list)` |\n",
    "\n",
    "Let's see these methods in action:"
   ]
  },
  {
   "cell_type": "code",
   "id": "list_methods_examples",
   "metadata": {
    "cellIdentifier": "list_methods_examples",
    "nbgrader": {
     "grade": false,
     "locked": false,
     "solution": false
    },
    "vocVersion": "1.1",
    "ExecuteTime": {
     "end_time": "2025-07-28T19:29:40.343719Z",
     "start_time": "2025-07-28T19:29:40.340796Z"
    }
   },
   "source": [
    "# Example 8: List methods\n",
    "print(\"=== List Methods ===\")\n",
    "\n",
    "# Starting with a simple list\n",
    "fruits = [\"apple\", \"banana\"]"
   ],
   "outputs": [
    {
     "name": "stdout",
     "output_type": "stream",
     "text": [
      "=== List Methods ===\n"
     ]
    }
   ],
   "execution_count": 72
  },
  {
   "metadata": {
    "ExecuteTime": {
     "end_time": "2025-07-28T19:29:42.161701Z",
     "start_time": "2025-07-28T19:29:42.159290Z"
    }
   },
   "cell_type": "code",
   "source": [
    "#add another thing to the end of the list\n",
    "fruits.append(\"orange\")\n",
    "print(fruits)"
   ],
   "id": "49ca00002d6da445",
   "outputs": [
    {
     "name": "stdout",
     "output_type": "stream",
     "text": [
      "['apple', 'banana', 'orange']\n"
     ]
    }
   ],
   "execution_count": 73
  },
  {
   "metadata": {
    "ExecuteTime": {
     "end_time": "2025-07-28T19:29:51.256045Z",
     "start_time": "2025-07-28T19:29:51.251763Z"
    }
   },
   "cell_type": "code",
   "source": [
    "#insert another fruit into the list after banana\n",
    "fruits.insert(2, \"pear\")\n",
    "print(fruits)"
   ],
   "id": "57c0fac94680d1e1",
   "outputs": [
    {
     "name": "stdout",
     "output_type": "stream",
     "text": [
      "['apple', 'banana', 'pear', 'orange']\n"
     ]
    }
   ],
   "execution_count": 74
  },
  {
   "metadata": {
    "ExecuteTime": {
     "end_time": "2025-07-28T19:32:09.987748Z",
     "start_time": "2025-07-28T19:32:09.984517Z"
    }
   },
   "cell_type": "code",
   "source": [
    "#find the list position of the banana\n",
    "fruits.index(\"banana\")"
   ],
   "id": "f92e09dcf8ce0248",
   "outputs": [
    {
     "data": {
      "text/plain": [
       "1"
      ]
     },
     "execution_count": 77,
     "metadata": {},
     "output_type": "execute_result"
    }
   ],
   "execution_count": 77
  },
  {
   "metadata": {
    "ExecuteTime": {
     "end_time": "2025-07-28T19:34:49.873264Z",
     "start_time": "2025-07-28T19:34:49.870587Z"
    }
   },
   "cell_type": "code",
   "source": [
    "#remove pear from the list, which is in position 2\n",
    "fruits.pop(2)\n",
    "print(fruits)"
   ],
   "id": "1e46ff05e3b83e21",
   "outputs": [
    {
     "name": "stdout",
     "output_type": "stream",
     "text": [
      "['apple', 'banana', 'orange']\n"
     ]
    }
   ],
   "execution_count": 80
  },
  {
   "attachments": {},
   "cell_type": "markdown",
   "id": "w31avok30xxgdqlykcea",
   "metadata": {
    "cellIdentifier": "w31avok30xxgdqlykcea",
    "nbgrader": {
     "grade": false,
     "locked": false,
     "solution": false
    },
    "vocVersion": "1.1"
   },
   "source": [
    "### Exercise: Sort the `numbers` variable."
   ]
  },
  {
   "cell_type": "code",
   "id": "94jt1brnmlsx8k27z887v",
   "metadata": {
    "cellIdentifier": "94jt1brnmlsx8k27z887v",
    "nbgrader": {
     "grade": false,
     "locked": false,
     "solution": false
    },
    "vocVersion": "1.1",
    "ExecuteTime": {
     "end_time": "2025-07-28T19:21:42.376469Z",
     "start_time": "2025-07-28T19:21:42.374029Z"
    }
   },
   "source": [
    "numbers = [2,4,123,541,13413,5,8,9]"
   ],
   "outputs": [],
   "execution_count": 57
  },
  {
   "metadata": {
    "ExecuteTime": {
     "end_time": "2025-07-28T19:23:12.342367Z",
     "start_time": "2025-07-28T19:23:12.339139Z"
    }
   },
   "cell_type": "code",
   "source": [
    "#the sort method sorts them numerically, then print the list to see the new ordered list\n",
    "numbers.sort()\n",
    "print(numbers)"
   ],
   "id": "1fa8cc8819e9285",
   "outputs": [
    {
     "name": "stdout",
     "output_type": "stream",
     "text": [
      "[2, 4, 5, 8, 9, 123, 541, 13413]\n"
     ]
    }
   ],
   "execution_count": 61
  },
  {
   "attachments": {},
   "cell_type": "markdown",
   "id": "hca2jfsqjqbx3r40yds1ot",
   "metadata": {
    "cellIdentifier": "hca2jfsqjqbx3r40yds1ot",
    "nbgrader": {
     "grade": false,
     "locked": false,
     "solution": false
    },
    "vocVersion": "1.1"
   },
   "source": [
    "### Tuples\n",
    "\n",
    "Tuples are akin to lists with two distinct features: they're immutable and heterogeneous.\n",
    "\n",
    "- **Immutable**: Once created, tuples cannot be modified. This means that you cannot add, remove, or change elements in a tuple.\n",
    "- **Heterogeneous**: Tuples can store items of any data type, allowing a mix of, for instance, integers, strings, and other objects.\n",
    "\n",
    "In essence, you can perceive tuples as lists that are set in stone. While their prevalence might seem rooted in legacy Python practices, tuples are typically reserved for holding small, fixed sequences of items.\n",
    "\n",
    "### Tuple Unpacking: A Brief Insight\n",
    "\n",
    "Both tuples and lists in Python support \"unpacking\", but this technique is predominantly associated with tuples. Unpacking allows you to directly assign the elements of a tuple (or list) to multiple variables. For instance:\n",
    "\n",
    "```first, last = (\"Tim\", \"Book\")```\n",
    " \n",
    "##   🎯 Exercise  6:\n",
    "You're given a tuple representing a patient's vital signs recorded during triage. The tuple contains the following data in order:\n",
    "\n",
    " - Temperature (°C)\n",
    "\n",
    " - Heart Rate (bpm)\n",
    "\n",
    " - Respiratory Rate (breaths/min)\n",
    "\n",
    "Unpack the tuple into individual variables and print out a clinical summary.\n",
    "\n"
   ]
  },
  {
   "cell_type": "code",
   "execution_count": null,
   "id": "cvci1umgnc6mvd1ywm5xo",
   "metadata": {
    "cellIdentifier": "cvci1umgnc6mvd1ywm5xo",
    "nbgrader": {
     "grade": false,
     "locked": false,
     "solution": false
    },
    "vocVersion": "1.1"
   },
   "outputs": [],
   "source": [
    "vitals = (37.6, 92, 18)"
   ]
  },
  {
   "cell_type": "markdown",
   "id": "421f57a2c41e4eda",
   "metadata": {},
   "source": [
    "## Sets: A Brief Overview\n",
    "\n",
    "Sets in Python, though not frequently encountered in typical programming tasks, play a unique role. They function similarly to mathematical sets, characterized by:\n",
    "\n",
    "- **Unordered**: Sets do not maintain the order of elements.\n",
    "- **Unique**: Every element in a set appears only once, ensuring no duplicates.\n",
    "\n",
    "For example:\n",
    "```python\n",
    "# Creating a set\n",
    "sample_set = {1, 2, 3, 3, 4, 4}\n",
    "print(sample_set)  # Output: {1, 2, 3, 4}\n",
    "\n",
    "# Adding an element\n",
    "sample_set.add(5)\n",
    "print(sample_set)  # Output: {1, 2, 3, 4, 5}\n",
    "```\n"
   ]
  },
  {
   "cell_type": "code",
   "execution_count": null,
   "id": "bc5cb4ca075f6e7d",
   "metadata": {},
   "outputs": [],
   "source": []
  },
  {
   "cell_type": "markdown",
   "id": "4c000aeb145cbc0",
   "metadata": {},
   "source": [
    "Dictionaries in programming are a fundamental data structure. Unlike lists or arrays, they store data as unordered pairs of keys and values. Imagine a real-life dictionary: the key represents the word you're looking up, and the value is its definition.\n",
    "\n",
    "One of the main advantages of dictionaries over lists or arrays is their time efficiency in certain operations. When you need to look up a value based on a key, dictionaries can do this nearly instantly regardless of their size, thanks to their underlying hash table implementation. In contrast, searching for an element in a list or array requires scanning each element until a match is found, which can be much slower as the list or array grows. This makes dictionaries especially suited for tasks where fast lookups and data organization are crucial."
   ]
  },
  {
   "cell_type": "code",
   "execution_count": null,
   "id": "8d4c69d77fc3928a",
   "metadata": {},
   "outputs": [],
   "source": [
    "music = {'doe': 'A deer, a female deer', 'ray': 'A drop of golden sun'}"
   ]
  },
  {
   "cell_type": "markdown",
   "id": "7c94d44601e3e6b6",
   "metadata": {},
   "source": [
    "## Delving into Dictionaries\n",
    "\n",
    "Dictionaries, especially in the realm of programming, can grow both in size and complexity. At a glance, they might seem overwhelming, but their vastness serves a purpose.\n",
    "\n",
    "1. **Efficient Data Storage**: Not all data is structured in a way that fits neatly into tables or spreadsheets. Dictionaries provide an efficient means to store and organize nested and interconnected data.\n",
    "\n",
    "2. **Widespread Usage in Web APIs**: Most web APIs return data in the form of JSON, which is essentially a dictionary-like structure. This makes dictionaries an integral part of data exchange on the internet.\n",
    "\n",
    "3. **Data Retrieval**: As we venture into the world of web data, parsing large dictionaries becomes a necessary skill. This allows us to extract and utilize the specific pieces of data we need from vast sources.\n",
    "\n",
    "Understanding and mastering dictionaries is crucial for any modern-day programmer or data enthusiast.\n",
    "## Dictionaries are a big deal!\n",
    "\n",
    "Dictionaries can get really big and really complicated, like the one below. You might think this is excessive, but it's very common. This is a very efficient way to store complicated data that don't fit neatly in a spreadsheet. In fact, dictionaries are the data type used by most web APIs! We'll need to parse big dictionaries to get data from the internet!"
   ]
  },
  {
   "cell_type": "code",
   "id": "e7976b5c9e62bcec",
   "metadata": {
    "ExecuteTime": {
     "end_time": "2025-07-29T13:54:40.549731Z",
     "start_time": "2025-07-29T13:54:40.545914Z"
    }
   },
   "source": [
    "pokedex = {\n",
    "    \"pikachu\": {\n",
    "        \"detective\": True,\n",
    "        \"speed\": 15,\n",
    "        \"power\": 150\n",
    "    },\n",
    "    \"charizard\": {\n",
    "        \"speed\": 15,\n",
    "        \"power\": 150,\n",
    "    },\n",
    "    \"bulbasaur\": {\n",
    "        \"speed\": 15,\n",
    "        \"power\": 150\n",
    "    },\n",
    "}"
   ],
   "outputs": [],
   "execution_count": 89
  },
  {
   "metadata": {
    "ExecuteTime": {
     "end_time": "2025-07-29T13:57:21.107330Z",
     "start_time": "2025-07-29T13:57:21.103498Z"
    }
   },
   "cell_type": "code",
   "source": [
    "#call up all of pikachu's stats\n",
    "pokedex[\"pikachu\"]"
   ],
   "id": "bf746fe985830c2",
   "outputs": [
    {
     "data": {
      "text/plain": [
       "{'detective': True, 'speed': 15, 'power': 150}"
      ]
     },
     "execution_count": 94,
     "metadata": {},
     "output_type": "execute_result"
    }
   ],
   "execution_count": 94
  },
  {
   "metadata": {
    "ExecuteTime": {
     "end_time": "2025-07-29T14:00:15.105064Z",
     "start_time": "2025-07-29T14:00:15.101304Z"
    }
   },
   "cell_type": "code",
   "source": [
    "#you can use the GET method to call info from the dictionary without errors.\n",
    "# use dictionary_name.get(keyname, value to return if not present)\n",
    "pokedex.get('pikachu')"
   ],
   "id": "9779aed3754a57c",
   "outputs": [
    {
     "data": {
      "text/plain": [
       "{'detective': True, 'speed': 15, 'power': 150}"
      ]
     },
     "execution_count": 96,
     "metadata": {},
     "output_type": "execute_result"
    }
   ],
   "execution_count": 96
  },
  {
   "metadata": {
    "ExecuteTime": {
     "end_time": "2025-07-29T14:02:13.645158Z",
     "start_time": "2025-07-29T14:02:13.642508Z"
    }
   },
   "cell_type": "code",
   "source": "pokedex.get('mewtwo') #nothing after mewtwo, so returns nothing",
   "id": "19e0386964546e27",
   "outputs": [],
   "execution_count": 97
  },
  {
   "metadata": {
    "ExecuteTime": {
     "end_time": "2025-07-29T14:02:59.738044Z",
     "start_time": "2025-07-29T14:02:59.734534Z"
    }
   },
   "cell_type": "code",
   "source": [
    "# in this case since there is no mewtwo, you get the output listed after the key\n",
    "pokedex.get('mewtwo', \"no such creature exists\")"
   ],
   "id": "436112143e5f5621",
   "outputs": [
    {
     "data": {
      "text/plain": [
       "'no such creature exists'"
      ]
     },
     "execution_count": 98,
     "metadata": {},
     "output_type": "execute_result"
    }
   ],
   "execution_count": 98
  },
  {
   "cell_type": "markdown",
   "id": "60cc955c415905ea",
   "metadata": {},
   "source": "##  🎯 Exercise 7:  Get me charizard's  power"
  },
  {
   "cell_type": "code",
   "id": "c788660077d6825f",
   "metadata": {
    "ExecuteTime": {
     "end_time": "2025-07-29T14:20:59.479817Z",
     "start_time": "2025-07-29T14:20:59.477122Z"
    }
   },
   "source": "pokedex[\"charizard\"][\"power\"]",
   "outputs": [
    {
     "data": {
      "text/plain": [
       "150"
      ]
     },
     "execution_count": 102,
     "metadata": {},
     "output_type": "execute_result"
    }
   ],
   "execution_count": 102
  },
  {
   "metadata": {
    "ExecuteTime": {
     "end_time": "2025-07-29T14:24:36.238284Z",
     "start_time": "2025-07-29T14:24:36.235164Z"
    }
   },
   "cell_type": "code",
   "source": [
    "#you can also use the get method by chaining them together to get to subdictionaries\n",
    "pokedex.get('charizard').get('power')"
   ],
   "id": "17c7d489768a45f0",
   "outputs": [
    {
     "data": {
      "text/plain": [
       "150"
      ]
     },
     "execution_count": 103,
     "metadata": {},
     "output_type": "execute_result"
    }
   ],
   "execution_count": 103
  },
  {
   "metadata": {
    "ExecuteTime": {
     "end_time": "2025-07-29T14:34:30.870380Z",
     "start_time": "2025-07-29T14:34:30.866686Z"
    }
   },
   "cell_type": "code",
   "source": [
    "# get bulbasuar's speed\n",
    "pokedex.get(\"bulbasaur\").get(\"speed\")"
   ],
   "id": "111c07b4cc4d1a32",
   "outputs": [
    {
     "data": {
      "text/plain": [
       "15"
      ]
     },
     "execution_count": 104,
     "metadata": {},
     "output_type": "execute_result"
    }
   ],
   "execution_count": 104
  },
  {
   "cell_type": "markdown",
   "id": "92df8f31c150160a",
   "metadata": {},
   "source": [
    "Booleans are a fundamental data type in programming, representing just two values: `True` and `False`. Here's a quick dive into their significance and operations:\n",
    "\n",
    "1. **Historical Context**: Booleans are named in honor of **George Boole**, a mathematician who laid the groundwork for the digital logic we use today.\n",
    "\n",
    "2. **Importance in Control Flow**: Booleans play a pivotal role in control flow structures, like conditional statements. We'll explore this further in our afternoon session.\n",
    "\n",
    "3. **Basic Operations**: At their core, Booleans support three primary operations:\n",
    "   - `not`: Returns the opposite value.\n",
    "   - `and`: Evaluates to `True` only if both operands are `True`.\n",
    "   - `or`: Evaluates to `True` if at least one of the operands is `True`.\n",
    "\n",
    "Mastering the use of Booleans and their operations is essential for making decisions and controlling the flow of programs."
   ]
  },
  {
   "cell_type": "code",
   "id": "8932d7714f9d371f",
   "metadata": {
    "ExecuteTime": {
     "end_time": "2025-07-28T04:44:46.516029Z",
     "start_time": "2025-07-28T04:44:46.510548Z"
    }
   },
   "source": [
    "# Example: Basic boolean values and operations in an educational context\n",
    "passed_exam = True\n",
    "submitted_homework = True\n",
    "needs_extra_help = False\n",
    "\n",
    "# Now it's your turn! Complete Exercise 8 below"
   ],
   "outputs": [],
   "execution_count": 9
  },
  {
   "cell_type": "markdown",
   "id": "b7836a9d",
   "metadata": {},
   "source": [
    "## 🎯 **Exercise 8: Academic Performance Evaluation System**\n",
    "\n",
    "**Scenario:** You're developing a student evaluation system for a school. The system needs to assess various aspects of student performance to determine their academic standing and provide appropriate recommendations.\n",
    "\n",
    "### Student Evaluation Criteria:\n",
    "1. **Grade Performance** (numeric grade, passing is ≥ 70)\n",
    "2. **Attendance Rate** (percentage, good standing is ≥ 80%)\n",
    "3. **Homework Completion** (boolean)\n",
    "4. **Class Participation** (boolean)\n",
    "5. **Extra Credit Work** (boolean)\n",
    "\n",
    "### Your Tasks:\n",
    "\n",
    "1. Create variables for each evaluation criterion\n",
    "2. Implement the following assessment rules:\n",
    "   - **Honor Roll**: Grade ≥ 90, attendance ≥ 90%, all homework completed, active participation\n",
    "   - **Good Standing**: Grade ≥ 70, attendance ≥ 80%, most homework completed\n",
    "   - **Academic Warning**: Grade < 70 or attendance < 80%\n",
    "   - **Needs Support**: Grade < 60 or attendance < 70%\n",
    "\n",
    "3. Test your system with these student scenarios:\n",
    "   - Outstanding student (all criteria excellent)\n",
    "   - Average student (meets minimum requirements)\n",
    "   - Struggling student (below requirements)\n",
    "   - Mixed performance (good grades but poor attendance)\n",
    "\n",
    "4. Create a student report showing:\n",
    "   - All evaluation criteria\n",
    "   - Final academic standing\n",
    "   - Recommendations for improvement\n",
    "   - Use emojis for visual feedback:\n",
    "     - 🏆 Honor Roll\n",
    "     - ✅ Good Standing\n",
    "     - ⚠️ Academic Warning\n",
    "     - 💡 Needs Support\n"
   ]
  },
  {
   "cell_type": "code",
   "execution_count": null,
   "id": "b7e5c297",
   "metadata": {},
   "outputs": [],
   "source": [
    "# Your code here - Student Evaluation System\n",
    "\n",
    "print(\"📚 STUDENT ACADEMIC EVALUATION 📚\")\n",
    "print(\"=\" * 50)\n",
    "\n",
    "# TODO: Create your evaluation variables here\n",
    "# Example:\n",
    "# grade = 85\n",
    "# attendance_rate = 90\n",
    "# homework_completed = True\n",
    "# participates_in_class = True\n",
    "# did_extra_credit = False\n",
    "\n",
    "\n",
    "# TODO: Implement assessment rules using boolean operations\n",
    "# Example:\n",
    "# honor_roll = (grade >= 90 and attendance_rate >= 90 and \n",
    "#               homework_completed and participates_in_class)\n",
    "\n",
    "\n",
    "# TODO: Test different scenarios and create student report\n",
    "# Example:\n",
    "# print(f\"Grade: {grade}/100\")\n",
    "# print(f\"Attendance: {attendance_rate}%\")\n",
    "# ...etc\n"
   ]
  }
 ],
 "metadata": {
  "kernel_id": "4d96f00d-98ef-48f2-8ce9-2752b9fdc070",
  "kernelspec": {
   "display_name": "Python 3 [3.10]",
   "language": "python",
   "name": "python3"
  },
  "language_info": {
   "codemirror_mode": "python",
   "file_extension": ".py",
   "mimetype": "text/x-python",
   "name": "python",
   "nbconvert_exporter": "python",
   "pygments_lexer": "ipython3",
   "version": "3.10.2"
  }
 },
 "nbformat": 4,
 "nbformat_minor": 5
}
