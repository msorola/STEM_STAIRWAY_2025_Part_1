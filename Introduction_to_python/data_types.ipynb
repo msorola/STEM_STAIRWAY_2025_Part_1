{
 "cells": [
  {
   "cell_type": "markdown",
   "id": "kdqux1rmeprd49yrxuzmm",
   "metadata": {
    "cellIdentifier": "kdqux1rmeprd49yrxuzmm",
    "nbgrader": {
     "grade": false,
     "locked": false,
     "solution": false
    },
    "vocVersion": 1.1
   },
   "source": [
    "<img src=\"imgs/UTHSCSA_logo.png\" alt=\"University of Texas Health Science Center Logo\" width=\"200\">\n",
    "\n",
    "# Intro to Python: Data Types and Collections\n",
    "\n",
    "**Author:** Dr. Ramiro Ramirez, PhD\n",
    "\n",
    "---\n",
    "\n",
    "## **Learning Objectives**\n",
    "*After this lesson, you will be able to:*\n",
    "- Understand and use Python's fundamental data types (integers, floats, strings, booleans)\n",
    "- Work with collections (lists, tuples, dictionaries, sets) and understand their differences\n",
    "- Perform operations on strings, lists, and dictionaries\n",
    "- Use list comprehensions for efficient data processing\n",
    "- Apply data type concepts to solve real-world programming problems\n",
    "- Choose appropriate data structures for different scenarios"
   ]
  },
  {
   "attachments": {},
   "cell_type": "markdown",
   "id": "intro_section",
   "metadata": {
    "cellIdentifier": "intro_section",
    "nbgrader": {
     "grade": false,
     "locked": false,
     "solution": false
    },
    "vocVersion": "1.1"
   },
   "source": [
    "## 1. Introduction to Data Types\n",
    "\n",
    "Data types are the foundation of programming. They define what kind of data we can store and how we can manipulate it. Think of data types as different containers - each designed to hold specific types of information.\n",
    "\n",
    "### Why Data Types Matter\n",
    "- **Memory Efficiency**: Different data types use different amounts of memory\n",
    "- **Operations**: Certain operations only work with specific data types\n",
    "- **Error Prevention**: Using the right data type helps prevent bugs\n",
    "- **Performance**: Choosing the right data type can make your code faster\n",
    "\n",
    "### Python's Dynamic Typing\n",
    "Python is a **dynamically typed** language, which means:\n",
    "- You don't need to declare the data type when creating a variable\n",
    "- Python automatically determines the type based on the value you assign\n",
    "- A variable can change its type during execution\n",
    "\n",
    "Let's explore Python's data types through practical examples!"
   ]
  },
  {
   "attachments": {},
   "cell_type": "markdown",
   "id": "calculator_intro",
   "metadata": {
    "cellIdentifier": "calculator_intro",
    "nbgrader": {
     "grade": false,
     "locked": false,
     "solution": false
    },
    "vocVersion": "1.1"
   },
   "source": [
    "## 2. Python as a Calculator\n",
    "\n",
    "Before diving into data types, let's see how Python handles basic mathematical operations. Python is an excellent calculator that can handle complex mathematical expressions.\n",
    "\n",
    "### Basic Arithmetic Operations\n",
    "Python supports all standard mathematical operations:"
   ]
  },
  {
   "cell_type": "code",
   "execution_count": null,
   "id": "arithmetic_examples",
   "metadata": {
    "cellIdentifier": "arithmetic_examples",
    "nbgrader": {
     "grade": false,
     "locked": false,
     "solution": false
    },
    "vocVersion": "1.1"
   },
   "outputs": [],
   "source": [
    "# Example 1: Basic arithmetic operations\n",
    "print(\"=== Basic Arithmetic Operations ===\")\n",
    "\n",
    "# Addition\n",
    "result = 2 + 3\n",
    "print(f\"Addition: 2 + 3 = {result}\")\n",
    "\n",
    "# Subtraction\n",
    "result = 10 - 4\n",
    "print(f\"Subtraction: 10 - 4 = {result}\")\n",
    "\n",
    "# Multiplication\n",
    "result = 6 * 7\n",
    "print(f\"Multiplication: 6 * 7 = {result}\")\n",
    "\n",
    "# Division (always returns a float)\n",
    "result = 15 / 3\n",
    "print(f\"Division: 15 / 3 = {result}\")\n",
    "\n",
    "# Exponentiation (power)\n",
    "result = 2 ** 8\n",
    "print(f\"Exponentiation: 2 ** 8 = {result}\")\n",
    "\n",
    "# Modulo (remainder)\n",
    "result = 17 % 5\n",
    "print(f\"Modulo: 17 % 5 = {result}\")\n",
    "\n",
    "# Floor division (integer division)\n",
    "result = 17 // 5\n",
    "print(f\"Floor division: 17 // 5 = {result}\")"
   ]
  },
  {
   "attachments": {},
   "cell_type": "markdown",
   "id": "operator_precedence",
   "metadata": {
    "cellIdentifier": "operator_precedence",
    "nbgrader": {
     "grade": false,
     "locked": false,
     "solution": false
    },
    "vocVersion": "1.1"
   },
   "source": [
    "### Operator Precedence and Order of Operations\n",
    "\n",
    "Python follows the standard mathematical order of operations (PEMDAS):\n",
    "\n",
    "1. **P**arentheses\n",
    "2. **E**xponentiation\n",
    "3. **M**ultiplication and **D**ivision (left to right)\n",
    "4. **A**ddition and **S**ubtraction (left to right)\n",
    "\n",
    "Let's see this in action:"
   ]
  },
  {
   "cell_type": "code",
   "execution_count": null,
   "id": "precedence_examples",
   "metadata": {
    "cellIdentifier": "precedence_examples",
    "nbgrader": {
     "grade": false,
     "locked": false,
     "solution": false
    },
    "vocVersion": "1.1"
   },
   "outputs": [],
   "source": [
    "# Example 2: Operator precedence\n",
    "print(\"=== Operator Precedence Examples ===\")\n",
    "\n",
    "# Without parentheses (follows PEMDAS)\n",
    "result1 = 5 + 2 * 3\n",
    "print(f\"5 + 2 * 3 = {result1} (multiplication first, then addition)\")\n",
    "\n",
    "# With parentheses (overrides precedence)\n",
    "result2 = (5 + 2) * 3\n",
    "print(f\"(5 + 2) * 3 = {result2} (parentheses first, then multiplication)\")\n",
    "\n",
    "# More complex example\n",
    "result3 = 2 ** 3 + 4 * 2 - 1\n",
    "print(f\"2 ** 3 + 4 * 2 - 1 = {result3}\")\n",
    "print(\"  (exponentiation first: 8 + 8 - 1 = 15)\")\n",
    "\n",
    "# Using parentheses for clarity\n",
    "result4 = (2 ** 3) + (4 * 2) - 1\n",
    "print(f\"(2 ** 3) + (4 * 2) - 1 = {result4} (same result, more explicit)\")"
   ]
  },
  {
   "attachments": {},
   "cell_type": "markdown",
   "id": "arithmetic_exercise",
   "metadata": {
    "cellIdentifier": "arithmetic_exercise",
    "nbgrader": {
     "grade": false,
     "locked": false,
     "solution": false
    },
    "vocVersion": "1.1"
   },
   "source": [
    "## 🎯 **Exercise 1: Arithmetic Operations**\n",
    "\n",
    "**Scenario:** You're calculating the total cost for a science lab project. Complete the following calculations:\n",
    "\n",
    "1. Calculate the area of a rectangle (length × width)\n",
    "2. Calculate the volume of a cube (side³)\n",
    "3. Calculate the average of three test scores\n",
    "4. Calculate the percentage (part/total × 100)\n",
    "5. Use parentheses to ensure correct order of operations"
   ]
  },
  {
   "cell_type": "code",
   "execution_count": null,
   "id": "arithmetic_exercise_code",
   "metadata": {
    "cellIdentifier": "arithmetic_exercise_code",
    "nbgrader": {
     "grade": false,
     "locked": false,
     "solution": false
    },
    "vocVersion": "1.1"
   },
   "outputs": [],
   "source": [
    "# Your code here - Science Lab Calculations\n",
    "\n",
    "# Given values\n",
    "length = 15.5\n",
    "width = 8.2\n",
    "cube_side = 6\n",
    "test_scores = [85, 92, 78]\n",
    "part_score = 42\n",
    "total_score = 50\n",
    "\n",
    "print(\"🧪 SCIENCE LAB CALCULATIONS 🧪\")\n",
    "print(\"=\" * 40)\n",
    "\n",
    "# TODO: Calculate rectangle area\n",
    "\n",
    "\n",
    "# TODO: Calculate cube volume\n",
    "\n",
    "\n",
    "# TODO: Calculate average test score\n",
    "\n",
    "\n",
    "# TODO: Calculate percentage\n",
    "\n",
    "\n",
    "# TODO: Complex calculation with parentheses\n",
    "# Calculate: (area + volume) / 2 + 10\n",
    "\n"
   ]
  },
  {
   "attachments": {},
   "cell_type": "markdown",
   "id": "oajiq0t6e1l5atuj0z0yaw",
   "metadata": {
    "cellIdentifier": "oajiq0t6e1l5atuj0z0yaw",
    "nbgrader": {
     "grade": false,
     "locked": false,
     "solution": false
    },
    "vocVersion": "1.1"
   },
   "source": [
    "### What is `(5 + 2) * 3`?"
   ]
  },
  {
   "cell_type": "code",
   "execution_count": 24,
   "id": "cg4x91ndry5w2t0veswgj",
   "metadata": {
    "cellIdentifier": "cg4x91ndry5w2t0veswgj",
    "nbgrader": {
     "grade": false,
     "locked": false,
     "solution": false
    },
    "vocVersion": "1.1"
   },
   "outputs": [],
   "source": []
  },
  {
   "attachments": {},
   "cell_type": "markdown",
   "id": "variables_intro",
   "metadata": {
    "cellIdentifier": "variables_intro",
    "nbgrader": {
     "grade": false,
     "locked": false,
     "solution": false
    },
    "vocVersion": "1.1"
   },
   "source": [
    "## 3. Variables and Data Types\n",
    "\n",
    "Variables are like labeled containers that store data. They allow us to save values and use them later without having to remember the actual numbers or text.\n",
    "\n",
    "### What are Variables?\n",
    "- **Containers**: Variables hold data of different types\n",
    "- **Reusable**: You can use the same variable multiple times\n",
    "- **Changeable**: Variables can be updated with new values\n",
    "- **Named**: Variables have descriptive names to make code readable\n",
    "\n",
    "### Python's Built-in Data Types\n",
    "\n",
    "Python has several fundamental data types, each designed for specific purposes:\n",
    "\n",
    "| Data Type | Description | Examples | Use Cases |\n",
    "|-----------|-------------|----------|-----------|\n",
    "| `int` | Whole numbers | `42`, `-17`, `0` | Counting, ages, scores |\n",
    "| `float` | Decimal numbers | `3.14`, `-2.5`, `0.0` | Measurements, calculations |\n",
    "| `str` | Text/strings | `\"Hello\"`, `'Python'` | Names, messages, text data |\n",
    "| `bool` | True/False values | `True`, `False` | Conditions, flags |\n",
    "| `list` | Ordered collections | `[1, 2, 3]`, `[\"a\", \"b\"]` | Sequences, groups of items |\n",
    "| `tuple` | Immutable collections | `(1, 2, 3)`, `(\"x\", \"y\")` | Fixed data, coordinates |\n",
    "| `dict` | Key-value pairs | `{\"name\": \"John\"}` | Structured data, settings |\n",
    "| `set` | Unique collections | `{1, 2, 3}` | Unique items, mathematical sets |\n",
    "\n",
    "Let's explore each of these in detail!"
   ]
  },
  {
   "attachments": {},
   "cell_type": "markdown",
   "id": "numeric_types",
   "metadata": {
    "cellIdentifier": "numeric_types",
    "nbgrader": {
     "grade": false,
     "locked": false,
     "solution": false
    },
    "vocVersion": "1.1"
   },
   "source": [
    "### 3.1 Numeric Data Types: Integers and Floats\n",
    "\n",
    "Python has two main numeric data types:\n",
    "\n",
    "#### **Integers (`int`)**\n",
    "- Whole numbers (positive, negative, or zero)\n",
    "- No decimal point\n",
    "- Examples: `42`, `-17`, `0`, `1000000`\n",
    "\n",
    "#### **Floats (`float`)**\n",
    "- Numbers with decimal points\n",
    "- Can represent fractions and real numbers\n",
    "- Examples: `3.14`, `-2.5`, `0.0`, `42.0`\n",
    "\n",
    "Let's explore these with examples:"
   ]
  },
  {
   "cell_type": "code",
   "execution_count": null,
   "id": "numeric_examples",
   "metadata": {
    "cellIdentifier": "numeric_examples",
    "nbgrader": {
     "grade": false,
     "locked": false,
     "solution": false
    },
    "vocVersion": "1.1"
   },
   "outputs": [],
   "source": [
    "# Example 3: Numeric data types\n",
    "print(\"=== Numeric Data Types ===\")\n",
    "\n",
    "# Integers\n",
    "age = 25\n",
    "temperature = -5\n",
    "population = 8000000\n",
    "\n",
    "print(f\"Age: {age} (type: {type(age)})\")\n",
    "print(f\"Temperature: {temperature}°C (type: {type(temperature)})\")\n",
    "print(f\"Population: {population:,} (type: {type(population)})\")\n",
    "\n",
    "# Floats\n",
    "pi = 3.14159\n",
    "height = 1.75\n",
    "price = 19.99\n",
    "\n",
    "print(f\"\\nPi: {pi} (type: {type(pi)})\")\n",
    "print(f\"Height: {height}m (type: {type(height)})\")\n",
    "print(f\"Price: ${price} (type: {type(price)})\")\n",
    "\n",
    "# Type conversion\n",
    "print(f\"\\n=== Type Conversion ===\")\n",
    "float_to_int = int(3.9)  # Truncates decimal part\n",
    "int_to_float = float(42)  # Adds .0\n",
    "\n",
    "print(f\"3.9 converted to int: {float_to_int}\")\n",
    "print(f\"42 converted to float: {int_to_float}\")\n",
    "\n",
    "# Mathematical operations with different types\n",
    "result = 5 + 3.2  # int + float = float\n",
    "print(f\"\\n5 + 3.2 = {result} (type: {type(result)})\")"
   ]
  },
  {
   "attachments": {},
   "cell_type": "markdown",
   "id": "variable_naming",
   "metadata": {
    "cellIdentifier": "variable_naming",
    "nbgrader": {
     "grade": false,
     "locked": false,
     "solution": false
    },
    "vocVersion": "1.1"
   },
   "source": [
    "### 3.2 Variable Naming Best Practices\n",
    "\n",
    "As Phil Karlton once said:\n",
    "> _\"There are only two hard things in Computer Science: cache invalidation and naming things.\"_\n",
    "\n",
    "Good variable names make your code readable and maintainable. Here are the essential rules and conventions:\n",
    "\n",
    "#### **Mandatory Rules**\n",
    "1. **Letters, numbers, and underscores only**\n",
    "2. **Cannot start with a number**\n",
    "3. **Cannot use Python keywords** (`if`, `else`, `while`, `for`, etc.)\n",
    "4. **Case sensitive** (`age` and `Age` are different variables)\n",
    "\n",
    "#### **Recommended Conventions**\n",
    "1. **Use descriptive names**: `student_age` instead of `a`\n",
    "2. **Use lowercase with underscores** (`snake_case`): `first_name`, `total_score`\n",
    "3. **Avoid single letters** except for counters (`i`, `j`, `k` in loops)\n",
    "4. **Don't start with underscore** (has special meaning in Python)\n",
    "5. **Avoid built-in function names** (`print`, `list`, `dict`)\n",
    "\n",
    "#### **Examples of Good vs Bad Names**\n",
    "\n",
    "| ✅ Good Names | ❌ Bad Names | Why? |\n",
    "|---------------|--------------|------|\n",
    "| `student_name` | `n` | Too short, unclear |\n",
    "| `total_score` | `ts` | Abbreviation unclear |\n",
    "| `is_active` | `flag` | Too generic |\n",
    "| `user_age` | `age` | Could be ambiguous |\n",
    "| `first_name` | `firstName` | Not Python convention |\n",
    "\n",
    "Let's see some examples:"
   ]
  },
  {
   "cell_type": "code",
   "execution_count": null,
   "id": "naming_examples",
   "metadata": {
    "cellIdentifier": "naming_examples",
    "nbgrader": {
     "grade": false,
     "locked": false,
     "solution": false
    },
    "vocVersion": "1.1"
   },
   "outputs": [],
   "source": [
    "# Example 4: Variable naming examples\n",
    "print(\"=== Good Variable Naming Examples ===\")\n",
    "\n",
    "# Good names - descriptive and clear\n",
    "student_name = \"Alice Johnson\"\n",
    "student_age = 20\n",
    "course_grade = 95.5\n",
    "is_enrolled = True\n",
    "total_courses = 4\n",
    "\n",
    "print(f\"Student: {student_name}\")\n",
    "print(f\"Age: {student_age}\")\n",
    "print(f\"Grade: {course_grade}%\")\n",
    "print(f\"Enrolled: {is_enrolled}\")\n",
    "print(f\"Courses: {total_courses}\")\n",
    "\n",
    "# Bad names - avoid these!\n",
    "# n = \"Alice Johnson\"  # Too short\n",
    "# a = 20              # Unclear\n",
    "# g = 95.5           # Abbreviation\n",
    "# flag = True        # Too generic\n",
    "# c = 4              # Single letter\n",
    "\n",
    "print(\"\\n=== Type Checking ===\")\n",
    "print(f\"student_name type: {type(student_name)}\")\n",
    "print(f\"student_age type: {type(student_age)}\")\n",
    "print(f\"course_grade type: {type(course_grade)}\")\n",
    "print(f\"is_enrolled type: {type(is_enrolled)}\")\n",
    "print(f\"total_courses type: {type(total_courses)}\")"
   ]
  },
  {
   "attachments": {},
   "cell_type": "markdown",
   "id": "data_types_exercise",
   "metadata": {
    "cellIdentifier": "data_types_exercise",
    "nbgrader": {
     "grade": false,
     "locked": false,
     "solution": false
    },
    "vocVersion": "1.1"
   },
   "source": [
    "## 🎯 **Exercise 2: Variables and Data Types**\n",
    "\n",
    "**Scenario:** You're creating a student information system. Complete the following tasks:\n",
    "\n",
    "1. Create variables with appropriate names for student information\n",
    "2. Use different data types (int, float, str, bool)\n",
    "3. Display the information in a formatted way\n",
    "4. Check the data types of your variables\n",
    "5. Perform some calculations with the data"
   ]
  },
  {
   "cell_type": "code",
   "execution_count": null,
   "id": "data_types_exercise_code",
   "metadata": {
    "cellIdentifier": "data_types_exercise_code",
    "nbgrader": {
     "grade": false,
     "locked": false,
     "solution": false
    },
    "vocVersion": "1.1"
   },
   "outputs": [],
   "source": [
    "# Your code here - Student Information System\n",
    "\n",
    "print(\"🎓 STUDENT INFORMATION SYSTEM 🎓\")\n",
    "print(\"=\" * 50)\n",
    "\n",
    "# TODO: Create variables for student information\n",
    "# Use descriptive names and appropriate data types\n",
    "# Include: name, age, GPA, major, is_international, courses_taken\n",
    "\n",
    "\n",
    "\n",
    "# TODO: Display student information in a formatted way\n",
    "\n",
    "\n",
    "\n",
    "# TODO: Check and display data types\n",
    "\n",
    "\n",
    "\n",
    "# TODO: Perform calculations\n",
    "# Calculate: GPA * 100, age + 5, courses_taken * 3 (credits per course)\n",
    "\n"
   ]
  },
  {
   "attachments": {},
   "cell_type": "markdown",
   "id": "giiowe14ra6oj8zd8zcpv8",
   "metadata": {
    "cellIdentifier": "giiowe14ra6oj8zd8zcpv8",
    "nbgrader": {
     "grade": false,
     "locked": false,
     "solution": false
    },
    "vocVersion": "1.1"
   },
   "source": [
    "## Understanding \"Data Types\" in Python\n",
    "\n",
    "At first glance, the term \"data\" might evoke images of spreadsheets and databases. However, at its core, **data simply means information**. In Python, variables that hold information, whether it's `x = 3` or a more complex structure, are considered data.\n",
    "\n",
    "In Python, this data is classified into various **types** based on its nature. Let's explore a couple we've already encountered:\n",
    "\n",
    "- **Integer (`int`)**: Represents whole numbers without a decimal component. Examples include `2`, `-30`, and `14`.\n",
    "  \n",
    "- **Floating Point (`float`)**: Represents numbers that have a decimal component. This includes numbers like `2.5`, `3.141`, and even `-3.0`.\n",
    "\n",
    "If you're ever uncertain about the data type of a particular object, Python provides a handy `type()` function:\n",
    "\n",
    "```python\n",
    "print(type(3))   # Output: <class 'int'>\n",
    "print(type(4.2)) # Output: <class 'float'>\n",
    "```"
   ]
  },
  {
   "cell_type": "code",
   "execution_count": 0,
   "id": "pr156401tsvhg2z5qi4ci",
   "metadata": {
    "cellIdentifier": "pr156401tsvhg2z5qi4ci",
    "nbgrader": {
     "grade": false,
     "locked": false,
     "solution": false
    },
    "vocVersion": "1.1"
   },
   "outputs": [],
   "source": []
  },
  {
   "attachments": {},
   "cell_type": "markdown",
   "id": "strings_intro",
   "metadata": {
    "cellIdentifier": "strings_intro",
    "nbgrader": {
     "grade": false,
     "locked": false,
     "solution": false
    },
    "vocVersion": "1.1"
   },
   "source": [
    "## 4. Strings: Working with Text Data\n",
    "\n",
    "Strings are Python's way of handling text data. They're one of the most commonly used data types because text is everywhere in programming - from user input to file names to messages.\n",
    "\n",
    "### What are Strings?\n",
    "- **Sequence of characters**: Letters, numbers, symbols, spaces\n",
    "- **Immutable**: Once created, you can't change individual characters\n",
    "- **Indexed**: Each character has a position (starting from 0)\n",
    "- **Flexible**: Can contain any text, including numbers and symbols\n",
    "\n",
    "### Creating Strings\n",
    "You can create strings using single quotes (`'`) or double quotes (`\"`):\n",
    "\n",
    "```python\n",
    "name = 'Alice'           # Single quotes\n",
    "message = \"Hello!\"       # Double quotes\n",
    "```\n",
    "\n",
    "**Pro Tip**: Use double quotes when your string contains apostrophes, and single quotes when it contains double quotes.\n",
    "\n",
    "Let's explore strings with examples:"
   ]
  },
  {
   "cell_type": "code",
   "execution_count": null,
   "id": "string_examples",
   "metadata": {
    "cellIdentifier": "string_examples",
    "nbgrader": {
     "grade": false,
     "locked": false,
     "solution": false
    },
    "vocVersion": "1.1"
   },
   "outputs": [],
   "source": [
    "# Example 5: String basics\n",
    "print(\"=== String Basics ===\")\n",
    "\n",
    "# Creating strings\n",
    "first_name = 'Alice'\n",
    "last_name = \"Johnson\"\n",
    "message = \"Don't worry about apostrophes\"\n",
    "quote = 'She said \"Hello!\"'\n",
    "\n",
    "print(f\"First name: {first_name}\")\n",
    "print(f\"Last name: {last_name}\")\n",
    "print(f\"Message: {message}\")\n",
    "print(f\"Quote: {quote}\")\n",
    "\n",
    "# String length\n",
    "print(f\"\\n=== String Length ===\")\n",
    "print(f\"Length of '{first_name}': {len(first_name)}\")\n",
    "print(f\"Length of '{message}': {len(message)}\")\n",
    "\n",
    "# String concatenation (joining)\n",
    "print(f\"\\n=== String Concatenation ===\")\n",
    "full_name = first_name + \" \" + last_name\n",
    "print(f\"Full name: {full_name}\")\n",
    "\n",
    "# String repetition\n",
    "print(f\"\\n=== String Repetition ===\")\n",
    "separator = \"-\" * 20\n",
    "print(f\"Separator: {separator}\")\n",
    "echo = \"Echo \" * 3\n",
    "print(f\"Echo: {echo}\")"
   ]
  },
  {
   "attachments": {},
   "cell_type": "markdown",
   "id": "string_methods_intro",
   "metadata": {
    "cellIdentifier": "string_methods_intro",
    "nbgrader": {
     "grade": false,
     "locked": false,
     "solution": false
    },
    "vocVersion": "1.1"
   },
   "source": [
    "### 4.1 String Methods and Operations\n",
    "\n",
    "Strings come with many built-in methods that make text manipulation easy. Here are some of the most commonly used ones:\n",
    "\n",
    "#### **Common String Methods**\n",
    "\n",
    "| Method | Description | Example |\n",
    "|--------|-------------|---------|\n",
    "| `.upper()` | Convert to uppercase | `\"hello\".upper()` → `\"HELLO\"` |\n",
    "| `.lower()` | Convert to lowercase | `\"WORLD\".lower()` → `\"world\"` |\n",
    "| `.strip()` | Remove whitespace | `\"  text  \".strip()` → `\"text\"` |\n",
    "| `.replace()` | Replace text | `\"hello\".replace(\"l\", \"x\")` → `\"hexxo\"` |\n",
    "| `.split()` | Split into list | `\"a,b,c\".split(\",\")` → `[\"a\", \"b\", \"c\"]` |\n",
    "| `.join()` | Join list into string | `\"-\".join([\"a\", \"b\", \"c\"])` → `\"a-b-c\"` |\n",
    "| `.find()` | Find substring position | `\"hello\".find(\"ll\")` → `2` |\n",
    "| `.count()` | Count occurrences | `\"hello\".count(\"l\")` → `2` |\n",
    "\n",
    "Let's explore these methods:"
   ]
  },
  {
   "cell_type": "code",
   "execution_count": null,
   "id": "string_methods_examples",
   "metadata": {
    "cellIdentifier": "string_methods_examples",
    "nbgrader": {
     "grade": false,
     "locked": false,
     "solution": false
    },
    "vocVersion": "1.1"
   },
   "outputs": [],
   "source": [
    "# Example 6: String methods\n",
    "print(\"=== String Methods ===\")\n",
    "\n",
    "# Sample text\n",
    "text = \"  Python Programming is FUN!  \"\n",
    "print(f\"Original: '{text}'\")\n",
    "\n",
    "# Case conversion\n",
    "print(f\"\\n=== Case Conversion ===\")\n",
    "print(f\"Uppercase: '{text.upper()}'\")\n",
    "print(f\"Lowercase: '{text.lower()}'\")\n",
    "print(f\"Title case: '{text.title()}'\")\n",
    "\n",
    "# Whitespace handling\n",
    "print(f\"\\n=== Whitespace Handling ===\")\n",
    "print(f\"Stripped: '{text.strip()}'\")\n",
    "print(f\"Left stripped: '{text.lstrip()}'\")\n",
    "print(f\"Right stripped: '{text.rstrip()}'\")\n",
    "\n",
    "# Text replacement\n",
    "print(f\"\\n=== Text Replacement ===\")\n",
    "cleaned_text = text.strip()\n",
    "print(f\"Replace 'Python' with 'Java': {cleaned_text.replace('Python', 'Java')}\")\n",
    "print(f\"Replace 'FUN' with 'AMAZING': {cleaned_text.replace('FUN', 'AMAZING')}\")\n",
    "\n",
    "# Finding and counting\n",
    "print(f\"\\n=== Finding and Counting ===\")\n",
    "print(f\"Position of 'Programming': {cleaned_text.find('Programming')}\")\n",
    "print(f\"Count of 'm': {cleaned_text.count('m')}\")\n",
    "print(f\"Count of 'ing': {cleaned_text.count('ing')}\")\n",
    "\n",
    "# Splitting and joining\n",
    "print(f\"\\n=== Splitting and Joining ===\")\n",
    "words = cleaned_text.split()\n",
    "print(f\"Split into words: {words}\")\n",
    "joined = \"-\".join(words)\n",
    "print(f\"Joined with '-': {joined}\")\n",
    "\n",
    "# String formatting\n",
    "print(f\"\\n=== String Formatting ===\")\n",
    "name = \"Alice\"\n",
    "age = 25\n",
    "print(f\"Name: {name}, Age: {age}\")\n",
    "print(\"Name: {}, Age: {}\".format(name, age))\n",
    "print(\"Name: %s, Age: %d\" % (name, age))"
   ]
  },
  {
   "attachments": {},
   "cell_type": "markdown",
   "id": "string_exercise",
   "metadata": {
    "cellIdentifier": "string_exercise",
    "nbgrader": {
     "grade": false,
     "locked": false,
     "solution": false
    },
    "vocVersion": "1.1"
   },
   "source": [
    "## 🎯 **Exercise 3: String Manipulation**\n",
    "\n",
    "**Scenario:** You're processing text data for a research project. Complete the following tasks:\n",
    "\n",
    "1. Clean and format a messy text string\n",
    "2. Extract specific information from the text\n",
    "3. Count occurrences of certain words\n",
    "4. Create a formatted summary\n",
    "5. Use different string methods to transform the text"
   ]
  },
  {
   "cell_type": "code",
   "execution_count": null,
   "id": "string_exercise_code",
   "metadata": {
    "cellIdentifier": "string_exercise_code",
    "nbgrader": {
     "grade": false,
     "locked": false,
     "solution": false
    },
    "vocVersion": "1.1"
   },
   "outputs": [],
   "source": [
    "# Your code here - Text Processing Project\n",
    "\n",
    "# Sample research text (messy data)\n",
    "research_text = \"  PYTHON programming is ESSENTIAL for data science.  \"\n",
    "research_text += \"Python is used in machine learning, AI, and web development.  \"\n",
    "research_text += \"python is also popular for automation and scripting.\"\n",
    "\n",
    "print(\"📊 TEXT PROCESSING PROJECT 📊\")\n",
    "print(\"=\" * 50)\n",
    "print(f\"Original text: '{research_text}'\")\n",
    "print(\"=\" * 50)\n",
    "\n",
    "# TODO: Clean the text (remove extra spaces, normalize case)\n",
    "\n",
    "\n",
    "\n",
    "# TODO: Count occurrences of 'python' (case-insensitive)\n",
    "\n",
    "\n",
    "\n",
    "# TODO: Extract all unique words from the text\n",
    "\n",
    "\n",
    "\n",
    "# TODO: Create a summary with word count and key statistics\n",
    "\n",
    "\n",
    "\n",
    "# TODO: Format the text for a report (title case, proper spacing)\n",
    "\n"
   ]
  },
  {
   "attachments": {},
   "cell_type": "markdown",
   "id": "9vk25cx75d1l31s0wzx6u",
   "metadata": {
    "cellIdentifier": "9vk25cx75d1l31s0wzx6u",
    "nbgrader": {
     "grade": false,
     "locked": false,
     "solution": false
    },
    "vocVersion": "1.1"
   },
   "source": [
    "## Playing with Strings in Python!\n",
    "\n",
    "Strings aren't just about storing text. We have operations we can perform on them. In Python, every element belongs to a specific **data type**, and each of these types comes packed with its own set of **methods**. Think of methods as the unique abilities or actions that a particular data type can perform.\n",
    "\n",
    "To use a method, follow this neat syntax:\n",
    "\n",
    "```python\n",
    "variable.method(arguments)\n",
    "```"
   ]
  },
  {
   "attachments": {},
   "cell_type": "markdown",
   "id": "qqswl6fw7jqjgm0zoa4rq8",
   "metadata": {
    "cellIdentifier": "qqswl6fw7jqjgm0zoa4rq8",
    "nbgrader": {
     "grade": false,
     "locked": false,
     "solution": false
    },
    "vocVersion": "1.1"
   },
   "source": [
    "## String Operations in Python\n",
    "\n",
    "Strings in Python are versatile, and there's a lot we can do with them. Below are some common string operations:\n",
    "\n",
    "### 1. Concatenation\n",
    "Combining two or more strings.\n",
    "\n",
    "```python\n",
    "string1 = \"Hello\"\n",
    "string2 = \"World\"\n",
    "combined = string1 + \" \" + string2\n",
    "print(combined)  # Outputs: Hello World\n",
    "```\n",
    "\n",
    "### 2. Repetition\n",
    "Repeating a string multiple times.\n",
    "\n",
    "```python\n",
    "echo = \"Echo \" * 3\n",
    "print(echo)  # Outputs: Echo Echo Echo \n",
    "```\n",
    "\n",
    "### 3. Indexing\n",
    "Accessing a particular character in a string.\n",
    "\n",
    "```python\n",
    "word = \"Python\"\n",
    "print(word[0])  # Outputs: P\n",
    "```\n",
    "\n",
    "### 4. Slicing\n",
    "Extracting a portion of the string.\n",
    "\n",
    "```python\n",
    "text = \"programming\"\n",
    "slice = text[1:4]\n",
    "print(slice)  # Outputs: rog\n",
    "```\n",
    "\n",
    "### 5. Finding Substrings\n",
    "Locating a substring within a string.\n",
    "\n",
    "```python\n",
    "sentence = \"The quick brown fox\"\n",
    "position = sentence.find(\"brown\")\n",
    "print(position)  # Outputs: 10\n",
    "```\n",
    "\n",
    "### 6. Replacing Substrings\n",
    "Replacing parts of the string with another.\n",
    "\n",
    "```python\n",
    "greeting = \"Good morning!\"\n",
    "new_greeting = greeting.replace(\"morning\", \"afternoon\")\n",
    "print(new_greeting)  # Outputs: Good afternoon!\n",
    "```\n",
    "\n",
    "### 7. String Length\n",
    "Getting the number of characters in a string.\n",
    "\n",
    "```python\n",
    "name = \"Charlie\"\n",
    "length = len(name)\n",
    "print(length)  # Outputs: 8\n",
    "```\n",
    "\n",
    "### 8. Converting to Upper and Lower Case\n",
    "\n",
    "```python\n",
    "text = \"Case\"\n",
    "upper_text = text.upper()\n",
    "lower_text = text.lower()\n",
    "print(upper_text)  # Outputs: CASE\n",
    "print(lower_text)  # Outputs: case\n",
    "```\n",
    "\n",
    "### 9. Stripping Whitespaces\n",
    "Removing leading and trailing whitespaces.\n",
    "\n",
    "```python\n",
    "phrase = \"   extra spaces   \"\n",
    "cleaned = phrase.strip()\n",
    "print(cleaned)  # Outputs: extra spaces\n",
    "```\n",
    "\n",
    "Remember, these are just a few of the many string operations available in Python. The `str` class in Python's standard library offers a comprehensive set of methods to manipulate and analyze strings.\n",
    "\n",
    "## 🎯 **Exercise 4: Given the following strings (you may choose your own as well), perform 5 out of the operations above"
   ]
  },
  {
   "cell_type": "code",
   "execution_count": 1,
   "id": "ws2mvlkxc7mau8aaiizo8g",
   "metadata": {
    "cellIdentifier": "ws2mvlkxc7mau8aaiizo8g",
    "nbgrader": {
     "grade": false,
     "locked": false,
     "solution": false
    },
    "vocVersion": "1.1"
   },
   "outputs": [],
   "source": [
    "string_1 = \"Be quiet\"\n",
    "string_2 = \"this is a library!\""
   ]
  },
  {
   "attachments": {},
   "cell_type": "markdown",
   "id": "asig2lyr7yh7pdd0u48gkm",
   "metadata": {
    "cellIdentifier": "asig2lyr7yh7pdd0u48gkm",
    "nbgrader": {
     "grade": false,
     "locked": false,
     "solution": false
    },
    "vocVersion": "1.1"
   },
   "source": [
    "## String Manipulation: Indexing and Slicing\n",
    "\n",
    "Strings, among other data types in Python, can be dissected using indexing or slicing. Here are some of the data types that support this:\n",
    "\n",
    "- Strings\n",
    "- Lists\n",
    "- Tuples\n",
    "- Sets\n",
    "\n",
    "---\n",
    "\n",
    "To access elements within these types, you can use the bracket notation. Here are some examples:\n",
    "\n",
    "- `s[0]`: Retrieves the first element.\n",
    "- `s[0:4]`: Retrieves the first 4 elements, starting from index `0`.\n",
    "- `s[-1]`: Accesses the last element.\n",
    "- `s[-2]`: Accesses the second-to-last element.\n",
    "- `s[0:-3]`: Retrieves all elements except the last three.\n",
    "\n",
    "\n",
    "## 🎯 Exercise 5: For the following string s, get me the word \"programming\" from the string. I want it two ways: Using slicing and using .split()"
   ]
  },
  {
   "cell_type": "code",
   "execution_count": 2,
   "id": "n1jxetqmje9dqmlfeg42f",
   "metadata": {
    "cellIdentifier": "n1jxetqmje9dqmlfeg42f",
    "nbgrader": {
     "grade": false,
     "locked": false,
     "solution": false
    },
    "vocVersion": "1.1"
   },
   "outputs": [],
   "source": [
    "s = \"Python programming is really fun\""
   ]
  },
  {
   "attachments": {},
   "cell_type": "markdown",
   "id": "collections_intro",
   "metadata": {
    "cellIdentifier": "collections_intro",
    "nbgrader": {
     "grade": false,
     "locked": false,
     "solution": false
    },
    "vocVersion": "1.1"
   },
   "source": [
    "## 5. Collections: Organizing Multiple Values\n",
    "\n",
    "Collections are data structures that can hold multiple values. They're essential for organizing and managing groups of related data. Python has four main collection types, each with unique characteristics:\n",
    "\n",
    "### Collection Types Overview\n",
    "\n",
    "| Collection | Mutable | Ordered | Duplicates | Syntax | Use Case |\n",
    "|------------|---------|---------|------------|--------|----------|\n",
    "| **List** | ✅ Yes | ✅ Yes | ✅ Yes | `[1, 2, 3]` | Sequences, groups of items |\n",
    "| **Tuple** | ❌ No | ✅ Yes | ✅ Yes | `(1, 2, 3)` | Fixed data, coordinates |\n",
    "| **Dictionary** | ✅ Yes | ❌ No | ❌ No (keys) | `{\"a\": 1}` | Key-value pairs, settings |\n",
    "| **Set** | ✅ Yes | ❌ No | ❌ No | `{1, 2, 3}` | Unique items, mathematical sets |\n",
    "\n",
    "Let's explore each collection type in detail!"
   ]
  },
  {
   "attachments": {},
   "cell_type": "markdown",
   "id": "lists_intro",
   "metadata": {
    "cellIdentifier": "lists_intro",
    "nbgrader": {
     "grade": false,
     "locked": false,
     "solution": false
    },
    "vocVersion": "1.1"
   },
   "source": [
    "### 5.1 Lists: Versatile Collections\n",
    "\n",
    "Lists are the most commonly used collection in Python. They're like flexible containers that can hold any type of data.\n",
    "\n",
    "#### **List Characteristics**\n",
    "- **Mutable**: You can add, remove, or change items\n",
    "- **Ordered**: Items maintain their position\n",
    "- **Indexed**: Access items by position (starting from 0)\n",
    "- **Heterogeneous**: Can contain different data types\n",
    "- **Dynamic**: Can grow or shrink as needed\n",
    "\n",
    "#### **Creating Lists**\n",
    "```python\n",
    "numbers = [1, 2, 3, 4, 5]           # List of integers\n",
    "names = [\"Alice\", \"Bob\", \"Charlie\"]  # List of strings\n",
    "mixed = [1, \"hello\", 3.14, True]     # Mixed types\n",
    "empty = []                          # Empty list\n",
    "```\n",
    "\n",
    "Let's explore lists with examples:"
   ]
  },
  {
   "cell_type": "code",
   "execution_count": null,
   "id": "list_examples",
   "metadata": {
    "cellIdentifier": "list_examples",
    "nbgrader": {
     "grade": false,
     "locked": false,
     "solution": false
    },
    "vocVersion": "1.1"
   },
   "outputs": [],
   "source": [
    "# Example 7: List basics\n",
    "print(\"=== List Basics ===\")\n",
    "\n",
    "# Creating lists\n",
    "numbers = [1, 2, 3, 4, 5]\n",
    "names = [\"Alice\", \"Bob\", \"Charlie\", \"Diana\"]\n",
    "mixed = [42, \"hello\", 3.14, True, [1, 2, 3]]\n",
    "\n",
    "print(f\"Numbers: {numbers}\")\n",
    "print(f\"Names: {names}\")\n",
    "print(f\"Mixed: {mixed}\")\n",
    "\n",
    "# Accessing elements (indexing)\n",
    "print(f\"\\n=== Indexing ===\")\n",
    "print(f\"First name: {names[0]}\")\n",
    "print(f\"Last name: {names[-1]}\")\n",
    "print(f\"Second to last: {names[-2]}\")\n",
    "\n",
    "# Slicing\n",
    "print(f\"\\n=== Slicing ===\")\n",
    "print(f\"First two names: {names[0:2]}\")\n",
    "print(f\"Last two names: {names[-2:]}\")\n",
    "print(f\"All names except first: {names[1:]}\")\n",
    "\n",
    "# List length\n",
    "print(f\"\\n=== List Properties ===\")\n",
    "print(f\"Number of names: {len(names)}\")\n",
    "print(f\"Number of numbers: {len(numbers)}\")\n",
    "\n",
    "# Checking if item exists\n",
    "print(f\"\\n=== Membership ===\")\n",
    "print(f\"'Alice' in names: {'Alice' in names}\")\n",
    "print(f\"'Eve' in names: {'Eve' in names}\")\n",
    "print(f\"5 in numbers: {5 in numbers}\")"
   ]
  },
  {
   "attachments": {},
   "cell_type": "markdown",
   "id": "list_operations",
   "metadata": {
    "cellIdentifier": "list_operations",
    "nbgrader": {
     "grade": false,
     "locked": false,
     "solution": false
    },
    "vocVersion": "1.1"
   },
   "source": [
    "### 5.2 List Operations and Methods\n",
    "\n",
    "Lists come with many built-in methods for manipulation. Here are the most commonly used ones:\n",
    "\n",
    "#### **Adding Elements**\n",
    "| Method | Description | Example |\n",
    "|--------|-------------|---------|\n",
    "| `.append(x)` | Add item to end | `list.append(5)` |\n",
    "| `.insert(i, x)` | Insert at position | `list.insert(0, 'start')` |\n",
    "| `.extend(iterable)` | Add multiple items | `list.extend([1, 2, 3])` |\n",
    "\n",
    "#### **Removing Elements**\n",
    "| Method | Description | Example |\n",
    "|--------|-------------|---------|\n",
    "| `.remove(x)` | Remove first occurrence | `list.remove('item')` |\n",
    "| `.pop(i)` | Remove and return item | `item = list.pop(0)` |\n",
    "| `.clear()` | Remove all items | `list.clear()` |\n",
    "\n",
    "#### **Finding Elements**\n",
    "| Method | Description | Example |\n",
    "|--------|-------------|---------|\n",
    "| `.index(x)` | Find position | `pos = list.index('item')` |\n",
    "| `.count(x)` | Count occurrences | `count = list.count(5)` |\n",
    "\n",
    "#### **Organizing Elements**\n",
    "| Method | Description | Example |\n",
    "|--------|-------------|---------|\n",
    "| `.sort()` | Sort in place | `list.sort()` |\n",
    "| `.reverse()` | Reverse in place | `list.reverse()` |\n",
    "| `sorted(list)` | Return sorted copy | `new_list = sorted(list)` |\n",
    "\n",
    "Let's see these methods in action:"
   ]
  },
  {
   "cell_type": "code",
   "execution_count": null,
   "id": "list_methods_examples",
   "metadata": {
    "cellIdentifier": "list_methods_examples",
    "nbgrader": {
     "grade": false,
     "locked": false,
     "solution": false
    },
    "vocVersion": "1.1"
   },
   "outputs": [],
   "source": [
    "# Example 8: List methods\n",
    "print(\"=== List Methods ===\")\n",
    "\n",
    "# Starting with a simple list\n",
    "fruits = [\"apple\", \"banana\"]\n",
    "print(f\"Original: {fruits}\")\n",
    "\n",
    "# Adding elements\n",
    "print(f\"\\n=== Adding Elements ===\")\n",
    "fruits.append(\"orange\")  # Add to end\n",
    "print(f\"After append: {fruits}\")\n",
    "\n",
    "fruits.insert(1, \"grape\")  # Insert at position 1\n",
    "print(f\"After insert: {fruits}\")\n",
    "\n",
    "fruits.extend([\"kiwi\", \"mango\"])  # Add multiple items\n",
    "print(f\"After extend: {fruits}\")\n",
    "\n",
    "# Finding elements\n",
    "print(f\"\\n=== Finding Elements ===\")\n",
    "print(f\"Position of 'banana': {fruits.index('banana')}\")\n",
    "print(f\"Count of 'apple': {fruits.count('apple')}\")\n",
    "\n",
    "# Removing elements\n",
    "print(f\"\\n=== Removing Elements ===\")\n",
    "removed = fruits.pop(2)  # Remove and return item at index 2\n",
    "print(f\"Removed '{removed}': {fruits}\")\n",
    "\n",
    "fruits.remove(\"grape\")  # Remove first occurrence\n",
    "print(f\"After removing 'grape': {fruits}\")\n",
    "\n",
    "# Organizing elements\n",
    "print(f\"\\n=== Organizing Elements ===\")\n",
    "fruits.sort()  # Sort alphabetically\n",
    "print(f\"After sorting: {fruits}\")\n",
    "\n",
    "fruits.reverse()  # Reverse order\n",
    "print(f\"After reversing: {fruits}\")\n",
    "\n",
    "# List operations\n",
    "print(f\"\\n=== List Operations ===\")\n",
    "print(f\"Length: {len(fruits)}\")\n",
    "print(f\"'apple' in fruits: {'apple' in fruits}\")\n",
    "print(f\"'pear' in fruits: {'pear' in fruits}\")\n",
    "\n",
    "# Joining strings in a list\n",
    "fruit_string = \", \".join(fruits)\n",
    "print(f\"Joined fruits: {fruit_string}\")"
   ]
  },
  {
   "cell_type": "code",
   "execution_count": 5,
   "id": "bmqicx27trswwyqrfbjcyp",
   "metadata": {
    "cellIdentifier": "bmqicx27trswwyqrfbjcyp",
    "nbgrader": {
     "grade": false,
     "locked": false,
     "solution": false
    },
    "vocVersion": "1.1"
   },
   "outputs": [],
   "source": [
    "names = ['Albert', 'Brenda', 'Carlos', 'Daenerys', 'Elon', 'Farnsworth']\n",
    "names_and_a_number = ['Albert', 'Brenda', 'Carlos', 'Daenerys', 'Elon', 'Farnsworth', 3.14]"
   ]
  },
  {
   "attachments": {},
   "cell_type": "markdown",
   "id": "w31avok30xxgdqlykcea",
   "metadata": {
    "cellIdentifier": "w31avok30xxgdqlykcea",
    "nbgrader": {
     "grade": false,
     "locked": false,
     "solution": false
    },
    "vocVersion": "1.1"
   },
   "source": [
    "### Exercise: Sort the `numbers` variable."
   ]
  },
  {
   "cell_type": "code",
   "execution_count": 6,
   "id": "94jt1brnmlsx8k27z887v",
   "metadata": {
    "cellIdentifier": "94jt1brnmlsx8k27z887v",
    "nbgrader": {
     "grade": false,
     "locked": false,
     "solution": false
    },
    "vocVersion": "1.1"
   },
   "outputs": [
    {
     "data": {
      "text/plain": [
       "[2, 4, 5, 8, 9, 123, 541, 13413]"
      ]
     },
     "execution_count": 6,
     "metadata": {},
     "output_type": "execute_result"
    }
   ],
   "source": [
    "numbers = [2,4,123,541,13413,5,8,9]"
   ]
  },
  {
   "attachments": {},
   "cell_type": "markdown",
   "id": "hca2jfsqjqbx3r40yds1ot",
   "metadata": {
    "cellIdentifier": "hca2jfsqjqbx3r40yds1ot",
    "nbgrader": {
     "grade": false,
     "locked": false,
     "solution": false
    },
    "vocVersion": "1.1"
   },
   "source": [
    "### Tuples\n",
    "\n",
    "Tuples are akin to lists with two distinct features: they're immutable and heterogeneous.\n",
    "\n",
    "- **Immutable**: Once created, tuples cannot be modified. This means that you cannot add, remove, or change elements in a tuple.\n",
    "- **Heterogeneous**: Tuples can store items of any data type, allowing a mix of, for instance, integers, strings, and other objects.\n",
    "\n",
    "In essence, you can perceive tuples as lists that are set in stone. While their prevalence might seem rooted in legacy Python practices, tuples are typically reserved for holding small, fixed sequences of items.\n",
    "\n",
    "### Tuple Unpacking: A Brief Insight\n",
    "\n",
    "Both tuples and lists in Python support \"unpacking\", but this technique is predominantly associated with tuples. Unpacking allows you to directly assign the elements of a tuple (or list) to multiple variables. For instance:\n",
    "\n",
    "```first, last = (\"Tim\", \"Book\")```\n",
    " \n",
    "##   🎯 Exercise  6:\n",
    "You're given a tuple representing a patient's vital signs recorded during triage. The tuple contains the following data in order:\n",
    "\n",
    " - Temperature (°C)\n",
    "\n",
    " - Heart Rate (bpm)\n",
    "\n",
    " - Respiratory Rate (breaths/min)\n",
    "\n",
    "Unpack the tuple into individual variables and print out a clinical summary.\n",
    "\n"
   ]
  },
  {
   "cell_type": "code",
   "execution_count": null,
   "id": "cvci1umgnc6mvd1ywm5xo",
   "metadata": {
    "cellIdentifier": "cvci1umgnc6mvd1ywm5xo",
    "nbgrader": {
     "grade": false,
     "locked": false,
     "solution": false
    },
    "vocVersion": "1.1"
   },
   "outputs": [],
   "source": [
    "vitals = (37.6, 92, 18)"
   ]
  },
  {
   "cell_type": "markdown",
   "id": "421f57a2c41e4eda",
   "metadata": {},
   "source": [
    "## Sets: A Brief Overview\n",
    "\n",
    "Sets in Python, though not frequently encountered in typical programming tasks, play a unique role. They function similarly to mathematical sets, characterized by:\n",
    "\n",
    "- **Unordered**: Sets do not maintain the order of elements.\n",
    "- **Unique**: Every element in a set appears only once, ensuring no duplicates.\n",
    "\n",
    "For example:\n",
    "```python\n",
    "# Creating a set\n",
    "sample_set = {1, 2, 3, 3, 4, 4}\n",
    "print(sample_set)  # Output: {1, 2, 3, 4}\n",
    "\n",
    "# Adding an element\n",
    "sample_set.add(5)\n",
    "print(sample_set)  # Output: {1, 2, 3, 4, 5}\n",
    "```\n"
   ]
  },
  {
   "cell_type": "code",
   "execution_count": null,
   "id": "bc5cb4ca075f6e7d",
   "metadata": {},
   "outputs": [],
   "source": []
  },
  {
   "cell_type": "markdown",
   "id": "4c000aeb145cbc0",
   "metadata": {},
   "source": [
    "Dictionaries in programming are a fundamental data structure. Unlike lists or arrays, they store data as unordered pairs of keys and values. Imagine a real-life dictionary: the key represents the word you're looking up, and the value is its definition.\n",
    "\n",
    "One of the main advantages of dictionaries over lists or arrays is their time efficiency in certain operations. When you need to look up a value based on a key, dictionaries can do this nearly instantly regardless of their size, thanks to their underlying hash table implementation. In contrast, searching for an element in a list or array requires scanning each element until a match is found, which can be much slower as the list or array grows. This makes dictionaries especially suited for tasks where fast lookups and data organization are crucial."
   ]
  },
  {
   "cell_type": "code",
   "execution_count": null,
   "id": "8d4c69d77fc3928a",
   "metadata": {},
   "outputs": [],
   "source": [
    "music = {'doe': 'A deer, a female deer', 'ray': 'A drop of golden sun'}"
   ]
  },
  {
   "cell_type": "markdown",
   "id": "7c94d44601e3e6b6",
   "metadata": {},
   "source": [
    "## Delving into Dictionaries\n",
    "\n",
    "Dictionaries, especially in the realm of programming, can grow both in size and complexity. At a glance, they might seem overwhelming, but their vastness serves a purpose.\n",
    "\n",
    "1. **Efficient Data Storage**: Not all data is structured in a way that fits neatly into tables or spreadsheets. Dictionaries provide an efficient means to store and organize nested and interconnected data.\n",
    "\n",
    "2. **Widespread Usage in Web APIs**: Most web APIs return data in the form of JSON, which is essentially a dictionary-like structure. This makes dictionaries an integral part of data exchange on the internet.\n",
    "\n",
    "3. **Data Retrieval**: As we venture into the world of web data, parsing large dictionaries becomes a necessary skill. This allows us to extract and utilize the specific pieces of data we need from vast sources.\n",
    "\n",
    "Understanding and mastering dictionaries is crucial for any modern-day programmer or data enthusiast.\n",
    "## Dictionaries are a big deal!\n",
    "\n",
    "Dictionaries can get really big and really complicated, like the one below. You might think this is excessive, but it's very common. This is a very efficient way to store complicated data that don't fit neatly in a spreadsheet. In fact, dictionaries are the data type used by most web APIs! We'll need to parse big dictionaries to get data from the internet!"
   ]
  },
  {
   "cell_type": "code",
   "execution_count": null,
   "id": "e7976b5c9e62bcec",
   "metadata": {},
   "outputs": [],
   "source": [
    "pokedex = {\n",
    "    \"pikachu\": {\n",
    "        \"detective\": True,\n",
    "        \"speed\": 15,\n",
    "        \"power\": 150\n",
    "    },\n",
    "    \"charizard\": {\n",
    "        \"speed\": 15,\n",
    "        \"power\": 150,\n",
    "        \"phone\": {\n",
    "            \"home\": \"(281) 330-8004\",\n",
    "            \"work\": \"(877) CASH-NOW\"\n",
    "        }\n",
    "    },\n",
    "    \"bulbasaur\": {\n",
    "        \"speed\": 15,\n",
    "        \"power\": 150\n",
    "    },\n",
    "}"
   ]
  },
  {
   "cell_type": "markdown",
   "id": "60cc955c415905ea",
   "metadata": {},
   "source": [
    "##  🎯 Exercise 7:  Get me charizard's home phone number"
   ]
  },
  {
   "cell_type": "code",
   "execution_count": null,
   "id": "c788660077d6825f",
   "metadata": {},
   "outputs": [],
   "source": []
  },
  {
   "cell_type": "markdown",
   "id": "92df8f31c150160a",
   "metadata": {},
   "source": [
    "Booleans are a fundamental data type in programming, representing just two values: `True` and `False`. Here's a quick dive into their significance and operations:\n",
    "\n",
    "1. **Historical Context**: Booleans are named in honor of **George Boole**, a mathematician who laid the groundwork for the digital logic we use today.\n",
    "\n",
    "2. **Importance in Control Flow**: Booleans play a pivotal role in control flow structures, like conditional statements. We'll explore this further in our afternoon session.\n",
    "\n",
    "3. **Basic Operations**: At their core, Booleans support three primary operations:\n",
    "   - `not`: Returns the opposite value.\n",
    "   - `and`: Evaluates to `True` only if both operands are `True`.\n",
    "   - `or`: Evaluates to `True` if at least one of the operands is `True`.\n",
    "\n",
    "Mastering the use of Booleans and their operations is essential for making decisions and controlling the flow of programs."
   ]
  },
  {
   "cell_type": "code",
   "execution_count": null,
   "id": "8932d7714f9d371f",
   "metadata": {},
   "outputs": [],
   "source": [
    "# Example: Basic boolean values and operations in an educational context\n",
    "passed_exam = True\n",
    "submitted_homework = True\n",
    "needs_extra_help = False\n",
    "\n",
    "print(\"=== Student Status Check ===\")\n",
    "print(f\"Passed the exam: {passed_exam}\")\n",
    "print(f\"Submitted homework: {submitted_homework}\")\n",
    "print(f\"Needs extra help: {needs_extra_help}\")\n",
    "\n",
    "print(\"\\n=== Academic Evaluation ===\")\n",
    "print(f\"Failed the exam: {not passed_exam}\")\n",
    "print(f\"Good academic standing: {passed_exam and submitted_homework}\")\n",
    "print(f\"Requires attention: {needs_extra_help or not passed_exam}\")\n",
    "\n",
    "# Now it's your turn! Complete Exercise 8 below"
   ]
  },
  {
   "cell_type": "markdown",
   "id": "b7836a9d",
   "metadata": {},
   "source": [
    "## 🎯 **Exercise 8: Academic Performance Evaluation System**\n",
    "\n",
    "**Scenario:** You're developing a student evaluation system for a school. The system needs to assess various aspects of student performance to determine their academic standing and provide appropriate recommendations.\n",
    "\n",
    "### Student Evaluation Criteria:\n",
    "1. **Grade Performance** (numeric grade, passing is ≥ 70)\n",
    "2. **Attendance Rate** (percentage, good standing is ≥ 80%)\n",
    "3. **Homework Completion** (boolean)\n",
    "4. **Class Participation** (boolean)\n",
    "5. **Extra Credit Work** (boolean)\n",
    "\n",
    "### Your Tasks:\n",
    "\n",
    "1. Create variables for each evaluation criterion\n",
    "2. Implement the following assessment rules:\n",
    "   - **Honor Roll**: Grade ≥ 90, attendance ≥ 90%, all homework completed, active participation\n",
    "   - **Good Standing**: Grade ≥ 70, attendance ≥ 80%, most homework completed\n",
    "   - **Academic Warning**: Grade < 70 or attendance < 80%\n",
    "   - **Needs Support**: Grade < 60 or attendance < 70%\n",
    "\n",
    "3. Test your system with these student scenarios:\n",
    "   - Outstanding student (all criteria excellent)\n",
    "   - Average student (meets minimum requirements)\n",
    "   - Struggling student (below requirements)\n",
    "   - Mixed performance (good grades but poor attendance)\n",
    "\n",
    "4. Create a student report showing:\n",
    "   - All evaluation criteria\n",
    "   - Final academic standing\n",
    "   - Recommendations for improvement\n",
    "   - Use emojis for visual feedback:\n",
    "     - 🏆 Honor Roll\n",
    "     - ✅ Good Standing\n",
    "     - ⚠️ Academic Warning\n",
    "     - 💡 Needs Support\n"
   ]
  },
  {
   "cell_type": "code",
   "execution_count": null,
   "id": "b7e5c297",
   "metadata": {},
   "outputs": [],
   "source": [
    "# Your code here - Student Evaluation System\n",
    "\n",
    "print(\"📚 STUDENT ACADEMIC EVALUATION 📚\")\n",
    "print(\"=\" * 50)\n",
    "\n",
    "# TODO: Create your evaluation variables here\n",
    "# Example:\n",
    "# grade = 85\n",
    "# attendance_rate = 90\n",
    "# homework_completed = True\n",
    "# participates_in_class = True\n",
    "# did_extra_credit = False\n",
    "\n",
    "\n",
    "# TODO: Implement assessment rules using boolean operations\n",
    "# Example:\n",
    "# honor_roll = (grade >= 90 and attendance_rate >= 90 and \n",
    "#               homework_completed and participates_in_class)\n",
    "\n",
    "\n",
    "# TODO: Test different scenarios and create student report\n",
    "# Example:\n",
    "# print(f\"Grade: {grade}/100\")\n",
    "# print(f\"Attendance: {attendance_rate}%\")\n",
    "# ...etc\n"
   ]
  }
 ],
 "metadata": {
  "kernel_id": "4d96f00d-98ef-48f2-8ce9-2752b9fdc070",
  "kernelspec": {
   "display_name": "Python 3 [3.10]",
   "language": "python",
   "name": "python3"
  },
  "language_info": {
   "codemirror_mode": "python",
   "file_extension": ".py",
   "mimetype": "text/x-python",
   "name": "python",
   "nbconvert_exporter": "python",
   "pygments_lexer": "ipython3",
   "version": "3.10.2"
  }
 },
 "nbformat": 4,
 "nbformat_minor": 5
}
